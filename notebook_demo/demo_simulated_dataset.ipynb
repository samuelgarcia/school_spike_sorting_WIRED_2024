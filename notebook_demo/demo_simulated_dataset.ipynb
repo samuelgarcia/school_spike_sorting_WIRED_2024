{
 "cells": [
  {
   "cell_type": "code",
   "execution_count": 4,
   "metadata": {},
   "outputs": [
    {
     "name": "stdout",
     "output_type": "stream",
     "text": [
      "The autoreload extension is already loaded. To reload it, use:\n",
      "  %reload_ext autoreload\n"
     ]
    }
   ],
   "source": [
    "%matplotlib inline\n",
    "%load_ext autoreload\n",
    "%autoreload 2"
   ]
  },
  {
   "cell_type": "code",
   "execution_count": 2,
   "metadata": {},
   "outputs": [],
   "source": [
    "import spikeinterface.full as si\n",
    "from pathlib import Path\n",
    "import shutil\n",
    "\n",
    "import numpy as np\n",
    "\n",
    "import matplotlib.pyplot as plt"
   ]
  },
  {
   "cell_type": "code",
   "execution_count": 5,
   "metadata": {},
   "outputs": [],
   "source": [
    "base_folder = Path(\"/home/samuel/DataSpikeSorting\")\n"
   ]
  },
  {
   "cell_type": "code",
   "execution_count": 6,
   "metadata": {},
   "outputs": [],
   "source": [
    "job_kwargs = dict(n_jobs=-1, progress_bar=True, chunk_duration=\"1s\")"
   ]
  },
  {
   "cell_type": "code",
   "execution_count": 1,
   "metadata": {},
   "outputs": [
    {
     "ename": "NameError",
     "evalue": "name 'si' is not defined",
     "output_type": "error",
     "traceback": [
      "\u001b[0;31m---------------------------------------------------------------------------\u001b[0m",
      "\u001b[0;31mNameError\u001b[0m                                 Traceback (most recent call last)",
      "Cell \u001b[0;32mIn[1], line 1\u001b[0m\n\u001b[0;32m----> 1\u001b[0m recording, gt_sorting \u001b[38;5;241m=\u001b[39m \u001b[43msi\u001b[49m\u001b[38;5;241m.\u001b[39mgenerate_ground_truth_recording(\n\u001b[1;32m      2\u001b[0m     durations\u001b[38;5;241m=\u001b[39m[\u001b[38;5;241m300.0\u001b[39m, ],\n\u001b[1;32m      3\u001b[0m     sampling_frequency\u001b[38;5;241m=\u001b[39m\u001b[38;5;241m30000.0\u001b[39m,\n\u001b[1;32m      4\u001b[0m     num_channels\u001b[38;5;241m=\u001b[39m\u001b[38;5;241m4\u001b[39m,\n\u001b[1;32m      5\u001b[0m     num_units\u001b[38;5;241m=\u001b[39m\u001b[38;5;241m5\u001b[39m,\n\u001b[1;32m      6\u001b[0m     generate_sorting_kwargs\u001b[38;5;241m=\u001b[39m\u001b[38;5;28mdict\u001b[39m(firing_rates\u001b[38;5;241m=\u001b[39m\u001b[38;5;241m3.0\u001b[39m, refractory_period_ms\u001b[38;5;241m=\u001b[39m\u001b[38;5;241m4.0\u001b[39m),\n\u001b[1;32m      7\u001b[0m     noise_kwargs\u001b[38;5;241m=\u001b[39m\u001b[38;5;28mdict\u001b[39m(noise_level\u001b[38;5;241m=\u001b[39m\u001b[38;5;241m5.0\u001b[39m, strategy\u001b[38;5;241m=\u001b[39m\u001b[38;5;124m\"\u001b[39m\u001b[38;5;124mtile_pregenerated\u001b[39m\u001b[38;5;124m\"\u001b[39m),\n\u001b[1;32m      8\u001b[0m     seed\u001b[38;5;241m=\u001b[39m\u001b[38;5;241m2205\u001b[39m,\n\u001b[1;32m      9\u001b[0m )\n",
      "\u001b[0;31mNameError\u001b[0m: name 'si' is not defined"
     ]
    }
   ],
   "source": [
    "recording, gt_sorting = si.generate_ground_truth_recording(\n",
    "    durations=[300.0, ],\n",
    "    sampling_frequency=30000.0,\n",
    "    num_channels=4,\n",
    "    num_units=5,\n",
    "    generate_sorting_kwargs=dict(firing_rates=3.0, refractory_period_ms=4.0),\n",
    "    noise_kwargs=dict(noise_level=5.0, strategy=\"tile_pregenerated\"),\n",
    "    seed=2205,\n",
    ")\n"
   ]
  },
  {
   "cell_type": "code",
   "execution_count": 2,
   "metadata": {},
   "outputs": [
    {
     "ename": "NameError",
     "evalue": "name 'base_folder' is not defined",
     "output_type": "error",
     "traceback": [
      "\u001b[0;31m---------------------------------------------------------------------------\u001b[0m",
      "\u001b[0;31mNameError\u001b[0m                                 Traceback (most recent call last)",
      "Cell \u001b[0;32mIn[2], line 1\u001b[0m\n\u001b[0;32m----> 1\u001b[0m sorter_folder \u001b[38;5;241m=\u001b[39m \u001b[43mbase_folder\u001b[49m \u001b[38;5;241m/\u001b[39m \u001b[38;5;124m\"\u001b[39m\u001b[38;5;124mdev_simple_sorter\u001b[39m\u001b[38;5;124m\"\u001b[39m\n\u001b[1;32m      2\u001b[0m \u001b[38;5;28;01mif\u001b[39;00m sorter_folder\u001b[38;5;241m.\u001b[39mexists():\n\u001b[1;32m      3\u001b[0m     shutil\u001b[38;5;241m.\u001b[39mrmtree(sorter_folder)\n",
      "\u001b[0;31mNameError\u001b[0m: name 'base_folder' is not defined"
     ]
    }
   ],
   "source": [
    "sorter_folder = base_folder / \"dev_simple_sorter\"\n",
    "if sorter_folder.exists():\n",
    "    shutil.rmtree(sorter_folder)\n",
    "\n",
    "sorter_params = dict(\n",
    "    apply_preprocessing=True,\n",
    "    # apply_preprocessing=False,\n",
    "    waveforms=dict(ms_before=1.0, ms_after=1.8),\n",
    "    filtering=dict(freq_min=300, freq_max=8000.0),\n",
    "    detection=dict(peak_sign=\"neg\", detect_threshold=5., exclude_sweep_ms=0.4, radius_um=100),\n",
    "    features=dict(n_components=3),\n",
    "    clustering=dict(method=\"hdbscan\"),\n",
    "    # clustering=dict(method=\"kmeans\", n_clusters=3),\n",
    "    # clustering=dict(method=\"gaussian_mixture\", n_components=5),\n",
    "    # clustering=dict(method=\"mean_shift\", bin_seeding=True),\n",
    "    # clustering=dict(method=\"affinity_propagation\"),\n",
    "    job_kwargs=dict(n_jobs=-1),\n",
    ")\n",
    "sorting = si.run_sorter(\"simple\", recording, output_folder=sorter_folder, verbose=True, **sorter_params)\n",
    "print(sorting)\n"
   ]
  },
  {
   "cell_type": "code",
   "execution_count": 9,
   "metadata": {},
   "outputs": [
    {
     "name": "stdout",
     "output_type": "stream",
     "text": [
      "(8437, 24) (8437, 3, 8) (8437,) float32\n"
     ]
    }
   ],
   "source": [
    "features = np.load(sorter_folder / \"sorter_output/features/features_tsvd.npy\")\n",
    "\n",
    "features_flat = features.reshape(features.shape[0], -1)\n",
    "\n",
    "peak_labels = np.load(sorter_folder / \"sorter_output/features/peak_labels.npy\")\n",
    "\n",
    "print(features_flat.shape, features.shape, peak_labels.shape,features.dtype)\n"
   ]
  },
  {
   "cell_type": "code",
   "execution_count": 10,
   "metadata": {},
   "outputs": [
    {
     "name": "stderr",
     "output_type": "stream",
     "text": [
      "/home/samuel/.virtualenvs/py3.10/lib/python3.10/site-packages/umap/plot.py:203: NumbaDeprecationWarning: The keyword argument 'nopython=False' was supplied. From Numba 0.59.0 the default is being changed to True and use of 'nopython=False' will raise a warning as the argument will have no effect. See https://numba.readthedocs.io/en/stable/reference/deprecation.html#deprecation-of-object-mode-fall-back-behaviour-when-using-jit for details.\n",
      "  @numba.jit(nopython=False)\n"
     ]
    },
    {
     "name": "stdout",
     "output_type": "stream",
     "text": [
      "UMAP(tqdm_kwds={'bar_format': '{desc}: {percentage:3.0f}%| {bar} {n_fmt}/{total_fmt} [{elapsed}]', 'desc': 'Epochs completed', 'disable': True})\n"
     ]
    },
    {
     "data": {
      "text/plain": [
       "<Axes: >"
      ]
     },
     "execution_count": 10,
     "metadata": {},
     "output_type": "execute_result"
    },
    {
     "data": {
      "image/png": "[encoded data removed]",
      "text/plain": [
       "<Figure size 800x800 with 1 Axes>"
      ]
     },
     "metadata": {},
     "output_type": "display_data"
    }
   ],
   "source": [
    "import umap\n",
    "import umap.plot\n",
    "\n",
    "mapper = umap.UMAP().fit(features_flat)\n",
    "print(mapper)\n",
    "umap.plot.points(mapper, labels=peak_labels)\n",
    "\n"
   ]
  },
  {
   "cell_type": "code",
   "execution_count": 11,
   "metadata": {},
   "outputs": [
    {
     "data": {
      "application/vnd.jupyter.widget-view+json": {
       "model_id": "49827819861a4d4286143c98722d4e7d",
       "version_major": 2,
       "version_minor": 0
      },
      "text/plain": [
       "compute_waveforms:   0%|          | 0/300 [00:00<?, ?it/s]"
      ]
     },
     "metadata": {},
     "output_type": "display_data"
    },
    {
     "data": {
      "application/vnd.jupyter.widget-view+json": {
       "model_id": "211449a71ce846eca9ba9f7d7e179807",
       "version_major": 2,
       "version_minor": 0
      },
      "text/plain": [
       "spike_amplitudes:   0%|          | 0/300 [00:00<?, ?it/s]"
      ]
     },
     "metadata": {},
     "output_type": "display_data"
    },
    {
     "data": {
      "application/vnd.jupyter.widget-view+json": {
       "model_id": "d8fd4db6add94c53b148ba13827f35b9",
       "version_major": 2,
       "version_minor": 0
      },
      "text/plain": [
       "Fitting PCA:   0%|          | 0/12 [00:00<?, ?it/s]"
      ]
     },
     "metadata": {},
     "output_type": "display_data"
    },
    {
     "data": {
      "application/vnd.jupyter.widget-view+json": {
       "model_id": "c07bcaf6e6844732b3eb4edbb918063a",
       "version_major": 2,
       "version_minor": 0
      },
      "text/plain": [
       "Projecting waveforms:   0%|          | 0/12 [00:00<?, ?it/s]"
      ]
     },
     "metadata": {},
     "output_type": "display_data"
    },
    {
     "data": {
      "text/plain": [
       "SortingAnalyzer: 8 channels - 12 units - 1 segments - memory - has recording\n",
       "Loaded 10 extenstions: random_spikes, waveforms, templates, noise_levels, spike_amplitudes, unit_locations, principal_components, correlograms, template_similarity, quality_metrics"
      ]
     },
     "execution_count": 11,
     "metadata": {},
     "output_type": "execute_result"
    }
   ],
   "source": [
    "analyzer = si.create_sorting_analyzer(sorting, recording, sparse=False)\n",
    "analyzer.compute([\"random_spikes\", \"waveforms\", \"templates\", \"noise_levels\"], **job_kwargs)\n",
    "analyzer.compute([\"spike_amplitudes\", \"unit_locations\", \"principal_components\", \"correlograms\", \"template_similarity\"], **job_kwargs)\n",
    "analyzer.compute(\"quality_metrics\", metric_names=[\"snr\"])\n",
    "analyzer"
   ]
  },
  {
   "cell_type": "code",
   "execution_count": 12,
   "metadata": {},
   "outputs": [
    {
     "data": {
      "text/plain": [
       "<spikeinterface.widgets.sorting_summary.SortingSummaryWidget at 0x7ff796c40190>"
      ]
     },
     "execution_count": 12,
     "metadata": {},
     "output_type": "execute_result"
    }
   ],
   "source": [
    "%gui qt\n",
    "si.plot_sorting_summary(analyzer, backend=\"spikeinterface_gui\")\n"
   ]
  },
  {
   "cell_type": "code",
   "execution_count": 11,
   "metadata": {},
   "outputs": [
    {
     "data": {
      "application/vnd.jupyter.widget-view+json": {
       "model_id": "fe92a0a4b966420d8ed220e58f964f31",
       "version_major": 2,
       "version_minor": 0
      },
      "text/plain": [
       "compute_waveforms:   0%|          | 0/300 [00:00<?, ?it/s]"
      ]
     },
     "metadata": {},
     "output_type": "display_data"
    },
    {
     "data": {
      "application/vnd.jupyter.widget-view+json": {
       "model_id": "560c339c79b246e5b4a9db1084882256",
       "version_major": 2,
       "version_minor": 0
      },
      "text/plain": [
       "spike_amplitudes:   0%|          | 0/300 [00:00<?, ?it/s]"
      ]
     },
     "metadata": {},
     "output_type": "display_data"
    },
    {
     "data": {
      "application/vnd.jupyter.widget-view+json": {
       "model_id": "4a6705bd7f5e467eabea7d2c356df4e4",
       "version_major": 2,
       "version_minor": 0
      },
      "text/plain": [
       "Fitting PCA:   0%|          | 0/5 [00:00<?, ?it/s]"
      ]
     },
     "metadata": {},
     "output_type": "display_data"
    },
    {
     "data": {
      "application/vnd.jupyter.widget-view+json": {
       "model_id": "5abb4e0cdb57465e8679f701efeb6fef",
       "version_major": 2,
       "version_minor": 0
      },
      "text/plain": [
       "Projecting waveforms:   0%|          | 0/5 [00:00<?, ?it/s]"
      ]
     },
     "metadata": {},
     "output_type": "display_data"
    },
    {
     "data": {
      "text/plain": [
       "SortingAnalyzer: 4 channels - 5 units - 1 segments - memory - has recording\n",
       "Loaded 10 extenstions: random_spikes, waveforms, templates, noise_levels, spike_amplitudes, unit_locations, principal_components, correlograms, template_similarity, quality_metrics"
      ]
     },
     "execution_count": 11,
     "metadata": {},
     "output_type": "execute_result"
    }
   ],
   "source": [
    "gt_analyzer = si.create_sorting_analyzer(gt_sorting, recording, sparse=False)\n",
    "gt_analyzer.compute([\"random_spikes\", \"waveforms\", \"templates\", \"noise_levels\"], **job_kwargs)\n",
    "gt_analyzer.compute([\"spike_amplitudes\", \"unit_locations\", \"principal_components\", \"correlograms\", \"template_similarity\"], **job_kwargs)\n",
    "gt_analyzer.compute(\"quality_metrics\", metric_names=[\"snr\"])\n",
    "gt_analyzer"
   ]
  },
  {
   "cell_type": "code",
   "execution_count": 12,
   "metadata": {},
   "outputs": [
    {
     "data": {
      "text/plain": [
       "<spikeinterface.widgets.sorting_summary.SortingSummaryWidget at 0x7fd6182dbb50>"
      ]
     },
     "execution_count": 12,
     "metadata": {},
     "output_type": "execute_result"
    }
   ],
   "source": [
    "si.plot_sorting_summary(gt_analyzer, backend=\"spikeinterface_gui\")"
   ]
  },
  {
   "cell_type": "code",
   "execution_count": null,
   "metadata": {},
   "outputs": [],
   "source": []
  }
 ],
 "metadata": {
  "kernelspec": {
   "display_name": "py3.10",
   "language": "python",
   "name": "python3"
  },
  "language_info": {
   "codemirror_mode": {
    "name": "ipython",
    "version": 3
   },
   "file_extension": ".py",
   "mimetype": "text/x-python",
   "name": "python",
   "nbconvert_exporter": "python",
   "pygments_lexer": "ipython3",
   "version": "3.10.12"
  }
 },
 "nbformat": 4,
 "nbformat_minor": 2
}
