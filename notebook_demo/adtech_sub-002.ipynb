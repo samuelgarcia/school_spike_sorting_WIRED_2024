{
 "cells": [
  {
   "cell_type": "markdown",
   "id": "67148348-4c80-4040-860d-fd08b0b8e257",
   "metadata": {},
   "source": [
    "### First, we create a notebook with autoreload with appropriate imports"
   ]
  },
  {
   "cell_type": "code",
   "execution_count": 1,
   "id": "2fe21e09-09b5-4db9-b94c-6121c62134df",
   "metadata": {},
   "outputs": [],
   "source": [
    "%load_ext autoreload\n",
    "%autoreload 2\n",
    "%matplotlib inline"
   ]
  },
  {
   "cell_type": "code",
   "execution_count": 2,
   "id": "5d1a981f-3c4e-4a4b-a333-a5c3002cf620",
   "metadata": {},
   "outputs": [],
   "source": [
    "\n",
    "from pathlib import Path\n",
    "import shutil\n",
    "import numpy as np\n",
    "\n",
    "import spikeinterface.full as si\n",
    "import probeinterface"
   ]
  },
  {
   "cell_type": "code",
   "execution_count": 3,
   "id": "32dbbedf-360a-4792-bcea-4c7fdca80bff",
   "metadata": {},
   "outputs": [],
   "source": [
    "base_folder = Path(\"/home/samuel/DataSpikeSorting/WIRED_SI_tutos/\")"
   ]
  },
  {
   "cell_type": "markdown",
   "id": "6fee63a0-1e6b-46d5-b953-fae844d5c42c",
   "metadata": {},
   "source": [
    "### We set the number of jobs globally for spikeinterface"
   ]
  },
  {
   "cell_type": "code",
   "execution_count": 4,
   "id": "be16cec5-55bf-4c10-860d-fa01ae4ea62c",
   "metadata": {},
   "outputs": [],
   "source": [
    "si.set_global_job_kwargs(n_jobs=-1, chunk_duration=\"1s\", progress_bar=True)"
   ]
  },
  {
   "cell_type": "markdown",
   "id": "2ea03e8f-053a-4588-92bf-25416841996e",
   "metadata": {},
   "source": [
    "### Then we focus on a particular dataset"
   ]
  },
  {
   "cell_type": "code",
   "execution_count": 5,
   "id": "1d88dc5d-9560-4a72-8e84-97393817ff25",
   "metadata": {},
   "outputs": [],
   "source": [
    "probe_type = \"AdTech\"\n",
    "subject_id = \"sub-002\"\n",
    "session_id = \"sess-001\""
   ]
  },
  {
   "cell_type": "code",
   "execution_count": 6,
   "id": "85dabf1f-d0b5-4fe0-80cb-21f2a3d29391",
   "metadata": {},
   "outputs": [
    {
     "name": "stdout",
     "output_type": "stream",
     "text": [
      "/home/samuel/DataSpikeSorting/WIRED_SI_tutos/Neuralynx/AdTech/sub-002/sess-001/ieeg\n",
      "/home/samuel/DataSpikeSorting/WIRED_SI_tutos/Binary/AdTech/sub-002/sess-001/ieeg\n"
     ]
    }
   ],
   "source": [
    "neuralynx_folder = base_folder / \"Neuralynx\" / probe_type / subject_id / session_id / \"ieeg\"\n",
    "print(neuralynx_folder)\n",
    "\n",
    "binary_folder = base_folder / \"Binary\" / probe_type / subject_id / session_id / \"ieeg\"\n",
    "binary_folder.parent.mkdir(exist_ok=True, parents=True)\n",
    "print(binary_folder)\n",
    "\n",
    "(base_folder / \"sortings\").mkdir(exist_ok=True, parents=True)"
   ]
  },
  {
   "cell_type": "markdown",
   "id": "43e43351-1732-4320-b3cf-b59aed7d9a70",
   "metadata": {},
   "source": [
    "### We can load the data from neuralynx format and save it to binary"
   ]
  },
  {
   "cell_type": "code",
   "execution_count": 7,
   "id": "dd6ae3d7-b238-4064-8b0f-afc3f51e09b3",
   "metadata": {},
   "outputs": [],
   "source": [
    "if binary_folder.exists():\n",
    "    # already converted\n",
    "    raw_recording =si.load_extractor(binary_folder)\n",
    "else:\n",
    "    raw_recording = si.read_neuralynx(neuralynx_folder)\n",
    "    print(raw_recording)\n",
    "    raw_recording = si.concatenate_recordings([raw_recording])\n",
    "    print(raw_recording)\n",
    "    raw_recording = raw_recording.save(folder=binary_folder)\n"
   ]
  },
  {
   "cell_type": "code",
   "execution_count": 8,
   "id": "b659762d-df10-4820-ba56-1d7da321766b",
   "metadata": {},
   "outputs": [
    {
     "name": "stdout",
     "output_type": "stream",
     "text": [
      "BinaryFolderRecording: 16 channels - 32.8kHz - 1 segments - 235,930,370 samples \n",
      "                       7,200.02s (2.00 hours) - int16 dtype - 7.03 GiB\n"
     ]
    }
   ],
   "source": [
    "print(raw_recording)"
   ]
  },
  {
   "cell_type": "markdown",
   "id": "07cb5452-e7df-42ef-b79f-f1c895873ca2",
   "metadata": {},
   "source": [
    "### We need to create the probes, and attach them to the recordings"
   ]
  },
  {
   "cell_type": "code",
   "execution_count": 12,
   "id": "d16ef235-876f-423f-8ce3-f526b4354e66",
   "metadata": {},
   "outputs": [
    {
     "data": {
      "text/plain": [
       "Probe - 16ch - 1shanks"
      ]
     },
     "execution_count": 12,
     "metadata": {},
     "output_type": "execute_result"
    }
   ],
   "source": [
    "probe = probeinterface.generate_multi_columns_probe(num_columns=4, num_contact_per_column=4)\n",
    "probe.set_device_channel_indices(np.arange(raw_recording.get_num_channels()))\n",
    "probe"
   ]
  },
  {
   "cell_type": "code",
   "execution_count": 14,
   "id": "3adb7435-c1da-4ee2-b6e1-ff49abd8181a",
   "metadata": {},
   "outputs": [
    {
     "data": {
      "text/html": [
       "<div>\n",
       "<style scoped>\n",
       "    .dataframe tbody tr th:only-of-type {\n",
       "        vertical-align: middle;\n",
       "    }\n",
       "\n",
       "    .dataframe tbody tr th {\n",
       "        vertical-align: top;\n",
       "    }\n",
       "\n",
       "    .dataframe thead th {\n",
       "        text-align: right;\n",
       "    }\n",
       "</style>\n",
       "<table border=\"1\" class=\"dataframe\">\n",
       "  <thead>\n",
       "    <tr style=\"text-align: right;\">\n",
       "      <th></th>\n",
       "      <th>x</th>\n",
       "      <th>y</th>\n",
       "      <th>contact_shapes</th>\n",
       "      <th>radius</th>\n",
       "      <th>shank_ids</th>\n",
       "      <th>contact_ids</th>\n",
       "    </tr>\n",
       "  </thead>\n",
       "  <tbody>\n",
       "    <tr>\n",
       "      <th>0</th>\n",
       "      <td>0.0</td>\n",
       "      <td>0.0</td>\n",
       "      <td>circle</td>\n",
       "      <td>6.0</td>\n",
       "      <td></td>\n",
       "      <td>0</td>\n",
       "    </tr>\n",
       "    <tr>\n",
       "      <th>1</th>\n",
       "      <td>0.0</td>\n",
       "      <td>20.0</td>\n",
       "      <td>circle</td>\n",
       "      <td>6.0</td>\n",
       "      <td></td>\n",
       "      <td>1</td>\n",
       "    </tr>\n",
       "    <tr>\n",
       "      <th>2</th>\n",
       "      <td>0.0</td>\n",
       "      <td>40.0</td>\n",
       "      <td>circle</td>\n",
       "      <td>6.0</td>\n",
       "      <td></td>\n",
       "      <td>2</td>\n",
       "    </tr>\n",
       "    <tr>\n",
       "      <th>3</th>\n",
       "      <td>0.0</td>\n",
       "      <td>60.0</td>\n",
       "      <td>circle</td>\n",
       "      <td>6.0</td>\n",
       "      <td></td>\n",
       "      <td>3</td>\n",
       "    </tr>\n",
       "    <tr>\n",
       "      <th>4</th>\n",
       "      <td>20.0</td>\n",
       "      <td>0.0</td>\n",
       "      <td>circle</td>\n",
       "      <td>6.0</td>\n",
       "      <td></td>\n",
       "      <td>4</td>\n",
       "    </tr>\n",
       "    <tr>\n",
       "      <th>5</th>\n",
       "      <td>20.0</td>\n",
       "      <td>20.0</td>\n",
       "      <td>circle</td>\n",
       "      <td>6.0</td>\n",
       "      <td></td>\n",
       "      <td>5</td>\n",
       "    </tr>\n",
       "    <tr>\n",
       "      <th>6</th>\n",
       "      <td>20.0</td>\n",
       "      <td>40.0</td>\n",
       "      <td>circle</td>\n",
       "      <td>6.0</td>\n",
       "      <td></td>\n",
       "      <td>6</td>\n",
       "    </tr>\n",
       "    <tr>\n",
       "      <th>7</th>\n",
       "      <td>20.0</td>\n",
       "      <td>60.0</td>\n",
       "      <td>circle</td>\n",
       "      <td>6.0</td>\n",
       "      <td></td>\n",
       "      <td>7</td>\n",
       "    </tr>\n",
       "    <tr>\n",
       "      <th>8</th>\n",
       "      <td>40.0</td>\n",
       "      <td>0.0</td>\n",
       "      <td>circle</td>\n",
       "      <td>6.0</td>\n",
       "      <td></td>\n",
       "      <td>8</td>\n",
       "    </tr>\n",
       "    <tr>\n",
       "      <th>9</th>\n",
       "      <td>40.0</td>\n",
       "      <td>20.0</td>\n",
       "      <td>circle</td>\n",
       "      <td>6.0</td>\n",
       "      <td></td>\n",
       "      <td>9</td>\n",
       "    </tr>\n",
       "    <tr>\n",
       "      <th>10</th>\n",
       "      <td>40.0</td>\n",
       "      <td>40.0</td>\n",
       "      <td>circle</td>\n",
       "      <td>6.0</td>\n",
       "      <td></td>\n",
       "      <td>10</td>\n",
       "    </tr>\n",
       "    <tr>\n",
       "      <th>11</th>\n",
       "      <td>40.0</td>\n",
       "      <td>60.0</td>\n",
       "      <td>circle</td>\n",
       "      <td>6.0</td>\n",
       "      <td></td>\n",
       "      <td>11</td>\n",
       "    </tr>\n",
       "    <tr>\n",
       "      <th>12</th>\n",
       "      <td>60.0</td>\n",
       "      <td>0.0</td>\n",
       "      <td>circle</td>\n",
       "      <td>6.0</td>\n",
       "      <td></td>\n",
       "      <td>12</td>\n",
       "    </tr>\n",
       "    <tr>\n",
       "      <th>13</th>\n",
       "      <td>60.0</td>\n",
       "      <td>20.0</td>\n",
       "      <td>circle</td>\n",
       "      <td>6.0</td>\n",
       "      <td></td>\n",
       "      <td>13</td>\n",
       "    </tr>\n",
       "    <tr>\n",
       "      <th>14</th>\n",
       "      <td>60.0</td>\n",
       "      <td>40.0</td>\n",
       "      <td>circle</td>\n",
       "      <td>6.0</td>\n",
       "      <td></td>\n",
       "      <td>14</td>\n",
       "    </tr>\n",
       "    <tr>\n",
       "      <th>15</th>\n",
       "      <td>60.0</td>\n",
       "      <td>60.0</td>\n",
       "      <td>circle</td>\n",
       "      <td>6.0</td>\n",
       "      <td></td>\n",
       "      <td>15</td>\n",
       "    </tr>\n",
       "  </tbody>\n",
       "</table>\n",
       "</div>"
      ],
      "text/plain": [
       "       x     y contact_shapes  radius shank_ids contact_ids\n",
       "0    0.0   0.0         circle     6.0                     0\n",
       "1    0.0  20.0         circle     6.0                     1\n",
       "2    0.0  40.0         circle     6.0                     2\n",
       "3    0.0  60.0         circle     6.0                     3\n",
       "4   20.0   0.0         circle     6.0                     4\n",
       "5   20.0  20.0         circle     6.0                     5\n",
       "6   20.0  40.0         circle     6.0                     6\n",
       "7   20.0  60.0         circle     6.0                     7\n",
       "8   40.0   0.0         circle     6.0                     8\n",
       "9   40.0  20.0         circle     6.0                     9\n",
       "10  40.0  40.0         circle     6.0                    10\n",
       "11  40.0  60.0         circle     6.0                    11\n",
       "12  60.0   0.0         circle     6.0                    12\n",
       "13  60.0  20.0         circle     6.0                    13\n",
       "14  60.0  40.0         circle     6.0                    14\n",
       "15  60.0  60.0         circle     6.0                    15"
      ]
     },
     "execution_count": 14,
     "metadata": {},
     "output_type": "execute_result"
    }
   ],
   "source": [
    "probe.to_dataframe()"
   ]
  },
  {
   "cell_type": "code",
   "execution_count": 15,
   "id": "6f8d7eff-7596-434c-8001-4a2bb574e836",
   "metadata": {},
   "outputs": [
    {
     "name": "stdout",
     "output_type": "stream",
     "text": [
      "BinaryFolderRecording: 16 channels - 32.8kHz - 1 segments - 235,930,370 samples \n",
      "                       7,200.02s (2.00 hours) - int16 dtype - 7.03 GiB\n"
     ]
    }
   ],
   "source": [
    "raw_recording = raw_recording.set_probe(probe)\n",
    "print(raw_recording)"
   ]
  },
  {
   "cell_type": "code",
   "execution_count": 16,
   "id": "f6fb4776-841d-40ed-a798-f9c1331b1dbb",
   "metadata": {},
   "outputs": [
    {
     "data": {
      "text/plain": [
       "<spikeinterface.widgets.probe_map.ProbeMapWidget at 0x7fa55bdc7210>"
      ]
     },
     "execution_count": 16,
     "metadata": {},
     "output_type": "execute_result"
    },
    {
     "data": {
      "image/png": "[encoded data removed]",
      "text/plain": [
       "<Figure size 640x480 with 1 Axes>"
      ]
     },
     "metadata": {},
     "output_type": "display_data"
    }
   ],
   "source": [
    "si.plot_probe_map(raw_recording, with_channel_ids=True, with_contact_id=True)"
   ]
  },
  {
   "cell_type": "markdown",
   "id": "e5500dd6-f686-499b-aa69-ff004bf3dd76",
   "metadata": {},
   "source": [
    "## explore raw traces\n",
    "\n",
    "two way:\n",
    "  * inside jupyter with `backend=\"ipywidgets\"` : slow but enable remote visualization\n",
    "  * using desktop app `backend=\"ephyviewer\"` (no remote vis) : faster but freeze the nojypter\n"
   ]
  },
  {
   "cell_type": "code",
   "execution_count": 17,
   "id": "42c84694-72fc-404e-8655-ada52a692568",
   "metadata": {},
   "outputs": [
    {
     "data": {
      "application/vnd.jupyter.widget-view+json": {
       "model_id": "cc14dd6b4455479bab515382f1096b04",
       "version_major": 2,
       "version_minor": 0
      },
      "text/plain": [
       "AppLayout(children=(TimeSlider(children=(Dropdown(description='segment', options=(0,), value=0), Button(icon='…"
      ]
     },
     "metadata": {},
     "output_type": "display_data"
    },
    {
     "data": {
      "text/plain": [
       "<spikeinterface.widgets.traces.TracesWidget at 0x7fa55bdf1810>"
      ]
     },
     "execution_count": 17,
     "metadata": {},
     "output_type": "execute_result"
    }
   ],
   "source": [
    "%matplotlib widget\n",
    "si.plot_traces(raw_recording, backend=\"ipywidgets\")"
   ]
  },
  {
   "cell_type": "code",
   "execution_count": 18,
   "id": "4a6a45cb-e920-4b4d-9ba0-1d375bbadacb",
   "metadata": {},
   "outputs": [
    {
     "data": {
      "text/plain": [
       "<spikeinterface.widgets.traces.TracesWidget at 0x7fa559582f10>"
      ]
     },
     "execution_count": 18,
     "metadata": {},
     "output_type": "execute_result"
    }
   ],
   "source": [
    "# this work only with local notebook!!!\n",
    "%gui qt\n",
    "si.plot_traces(raw_recording, backend=\"ephyviewer\")"
   ]
  },
  {
   "cell_type": "markdown",
   "id": "f3c33a40-1c71-4b9a-95fc-c257b7b256ed",
   "metadata": {},
   "source": [
    "### We can preprocess the signals, and also extract an enveloppe to remove/identify artefacts"
   ]
  },
  {
   "cell_type": "code",
   "execution_count": 19,
   "id": "43220d3f-fe73-4a6c-94cc-a3e612df94e3",
   "metadata": {},
   "outputs": [
    {
     "data": {
      "text/plain": [
       "CommonReferenceRecording: 16 channels - 32.8kHz - 1 segments - 235,930,370 samples \n",
       "                          7,200.02s (2.00 hours) - float32 dtype - 14.06 GiB"
      ]
     },
     "execution_count": 19,
     "metadata": {},
     "output_type": "execute_result"
    }
   ],
   "source": [
    "recording_f = si.bandpass_filter(raw_recording, freq_min=300.0, freq_max=8000.0, dtype='float32')\n",
    "recording_preprocess = si.common_reference(recording_f)\n",
    "recording_preprocess\n"
   ]
  },
  {
   "cell_type": "code",
   "execution_count": 20,
   "id": "1e01deab-b452-4021-a97b-b8084ef57f81",
   "metadata": {},
   "outputs": [
    {
     "data": {
      "application/vnd.jupyter.widget-view+json": {
       "model_id": "2fb9a04811304416b959092834b74bba",
       "version_major": 2,
       "version_minor": 0
      },
      "text/plain": [
       "AppLayout(children=(TimeSlider(children=(Dropdown(description='segment', options=(0,), value=0), Button(icon='…"
      ]
     },
     "metadata": {},
     "output_type": "display_data"
    },
    {
     "data": {
      "text/plain": [
       "<spikeinterface.widgets.traces.TracesWidget at 0x7fa55bdc1650>"
      ]
     },
     "execution_count": 20,
     "metadata": {},
     "output_type": "execute_result"
    }
   ],
   "source": [
    "%matplotlib widget\n",
    "si.plot_traces({\"preprocess\": recording_preprocess, \"filtered_only\":recording_f} , backend=\"ipywidgets\")"
   ]
  },
  {
   "cell_type": "code",
   "execution_count": 21,
   "id": "f0f8e99b-153b-4dd5-aa0f-d8b8f0f2c270",
   "metadata": {},
   "outputs": [
    {
     "data": {
      "text/plain": [
       "<spikeinterface.widgets.traces.TracesWidget at 0x7f9ffdd99410>"
      ]
     },
     "execution_count": 21,
     "metadata": {},
     "output_type": "execute_result"
    }
   ],
   "source": [
    "%gui qt\n",
    "si.plot_traces(recording_preprocess, backend=\"ephyviewer\")"
   ]
  },
  {
   "cell_type": "markdown",
   "id": "18bc57ac-8e4e-4e87-9ed0-9d93b6f732fd",
   "metadata": {},
   "source": [
    "## detect and remove artifact\n",
    "\n",
    "The preprocess signal show very high artifact.\n",
    "\n",
    "Here a simple way to handle then:\n",
    "  * create the signal envelop\n",
    "  * detect period with high\n",
    "  * blank period with zeros or noise\n"
   ]
  },
  {
   "cell_type": "code",
   "execution_count": null,
   "id": "d4ad275c-97d0-4c4d-ba4f-b119504b3354",
   "metadata": {},
   "outputs": [
    {
     "name": "stdout",
     "output_type": "stream",
     "text": [
      "CommonReferenceRecording: 16 channels - 32.8kHz - 1 segments - 235,930,370 samples \n",
      "                          7,200.02s (2.00 hours) - float32 dtype - 14.06 GiB\n"
     ]
    },
    {
     "data": {
      "application/vnd.jupyter.widget-view+json": {
       "model_id": "a6f940c96a414da8950899f5f83d8c1b",
       "version_major": 2,
       "version_minor": 0
      },
      "text/plain": [
       "detecting threshold crossings:   0%|          | 0/7201 [00:00<?, ?it/s]"
      ]
     },
     "metadata": {},
     "output_type": "display_data"
    }
   ],
   "source": [
    "from threshold_detector import detect_artefacts\n",
    "## Get the enveloppe\n",
    "enveloppe = si.rectify(recording_preprocess)\n",
    "enveloppe = si.gaussian_filter(enveloppe, freq_min=None, freq_max=20.)\n",
    "enveloppe = si.common_reference(enveloppe)\n",
    "print(enveloppe)\n",
    "\n",
    "periods = detect_artefacts(enveloppe, detect_threshold=5)\n",
    "print(\"Artefact period\", len(periods))"
   ]
  },
  {
   "cell_type": "code",
   "execution_count": 22,
   "id": "7392425b-5456-48f9-ba53-8bec251ea9b5",
   "metadata": {},
   "outputs": [
    {
     "data": {
      "text/plain": [
       "SilencedPeriodsRecording: 4 channels - 32.8kHz - 1 segments - 235,930,370 samples \n",
       "                          7,200.02s (2.00 hours) - float32 dtype - 3.52 GiB"
      ]
     },
     "execution_count": 22,
     "metadata": {},
     "output_type": "execute_result"
    }
   ],
   "source": [
    "recording_silenced = si.silence_periods(recording_preprocess, periods, mode='zeros')\n",
    "# recording_silenced = si.silence_periods(recording_preprocess, periods, mode='noise')\n",
    "recording_silenced"
   ]
  },
  {
   "cell_type": "code",
   "execution_count": 23,
   "id": "cec039e5-349e-4cd9-b2c0-ce7b27696a02",
   "metadata": {},
   "outputs": [
    {
     "data": {
      "application/vnd.jupyter.widget-view+json": {
       "model_id": "28ecc62723be47c6b90ec3d9f77195bd",
       "version_major": 2,
       "version_minor": 0
      },
      "text/plain": [
       "AppLayout(children=(TimeSlider(children=(Dropdown(description='segment', options=(0,), value=0), Button(icon='…"
      ]
     },
     "metadata": {},
     "output_type": "display_data"
    },
    {
     "data": {
      "text/plain": [
       "<spikeinterface.widgets.traces.TracesWidget at 0x7fb75399e250>"
      ]
     },
     "execution_count": 23,
     "metadata": {},
     "output_type": "execute_result"
    }
   ],
   "source": [
    "%matplotlib widget\n",
    "si.plot_traces({\"silenced\": recording_silenced, \"with_artifact\":recording_preprocess} , backend=\"ipywidgets\")"
   ]
  },
  {
   "cell_type": "code",
   "execution_count": 24,
   "id": "2cf96904-20e0-481d-9173-ec7230231d3c",
   "metadata": {},
   "outputs": [
    {
     "data": {
      "text/plain": [
       "<spikeinterface.widgets.traces.TracesWidget at 0x7fb75b769790>"
      ]
     },
     "execution_count": 24,
     "metadata": {},
     "output_type": "execute_result"
    }
   ],
   "source": [
    "%gui qt\n",
    "si.plot_traces({\"silenced\": recording_silenced, \"with_artifact\":recording_preprocess}, backend='ephyviewer')"
   ]
  },
  {
   "cell_type": "code",
   "execution_count": 25,
   "id": "701c3039-0872-440b-8e5c-c9ddd1e6786e",
   "metadata": {},
   "outputs": [],
   "source": [
    "recording = recording_silenced"
   ]
  },
  {
   "cell_type": "markdown",
   "id": "b742633f-0d85-492b-b06b-2ec682efb9bd",
   "metadata": {},
   "source": [
    "### Let's launch a very simple and naive sorter on the data (peak detection, feature extraction, clustering)"
   ]
  },
  {
   "cell_type": "code",
   "execution_count": 26,
   "id": "763ab942-8955-4142-b82f-fbcee42909e4",
   "metadata": {},
   "outputs": [
    {
     "name": "stdout",
     "output_type": "stream",
     "text": [
      "/home/samuel/DataSpikeSorting/WIRED_SI_tutos/sortings/AdTech sub-002 sess-001 simple\n",
      "noise_levels [22.767258 21.0064   22.557152 21.929193]\n",
      "detect peaks using locally_exclusive with n_jobs = 4 and chunk_size = 32768\n"
     ]
    },
    {
     "data": {
      "application/vnd.jupyter.widget-view+json": {
       "model_id": "48d577a937834798a85fdd8423f00623",
       "version_major": 2,
       "version_minor": 0
      },
      "text/plain": [
       "detect peaks using locally_exclusive:   0%|          | 0/7201 [00:00<?, ?it/s]"
      ]
     },
     "metadata": {},
     "output_type": "display_data"
    },
    {
     "name": "stdout",
     "output_type": "stream",
     "text": [
      "We found 104185 peaks in total\n",
      "extract waveforms shared_memory mono buffer with n_jobs = 4 and chunk_size = 32768\n"
     ]
    },
    {
     "data": {
      "application/vnd.jupyter.widget-view+json": {
       "model_id": "76d86ded343b41bea5b41c745d6d27c3",
       "version_major": 2,
       "version_minor": 0
      },
      "text/plain": [
       "extract waveforms shared_memory mono buffer:   0%|          | 0/7201 [00:00<?, ?it/s]"
      ]
     },
     "metadata": {},
     "output_type": "display_data"
    },
    {
     "name": "stdout",
     "output_type": "stream",
     "text": [
      "extracting features with n_jobs = 4 and chunk_size = 32768\n"
     ]
    },
    {
     "data": {
      "application/vnd.jupyter.widget-view+json": {
       "model_id": "a18236a81f5d415b82217af0ff5a62a0",
       "version_major": 2,
       "version_minor": 0
      },
      "text/plain": [
       "extracting features:   0%|          | 0/7201 [00:00<?, ?it/s]"
      ]
     },
     "metadata": {},
     "output_type": "display_data"
    },
    {
     "name": "stdout",
     "output_type": "stream",
     "text": [
      "simple run time 99.61s\n"
     ]
    },
    {
     "data": {
      "text/plain": [
       "NumpyFolderSorting: 9 units - 1 segments - 32.8kHz"
      ]
     },
     "execution_count": 26,
     "metadata": {},
     "output_type": "execute_result"
    }
   ],
   "source": [
    "\n",
    "sorter_name = 'simple'\n",
    "output_folder = base_folder / \"sortings\" / f\"{probe_type} {subject_id} {session_id} {sorter_name}\"\n",
    "print(output_folder)\n",
    "if output_folder.exists():\n",
    "    shutil.rmtree(output_folder)\n",
    "\n",
    "\n",
    "sorting = si.run_sorter(sorter_name, recording, verbose=True, \n",
    "                          output_folder=output_folder,\n",
    "                          apply_preprocessing=False,\n",
    "                          detection= {\"peak_sign\": \"neg\",  \"detect_threshold\": 6.0, \"radius_um\": 150.},\n",
    "                          clustering={\"method\" : \"hdbscan\"},\n",
    "                          # clustering={\"method\" : \"kmeans\", \"n_init\" : \"auto\", \"n_clusters\": 3},\n",
    "                          # clustering={\"method\" : \"mean_shift\"},\n",
    "                          )\n",
    "sorting"
   ]
  },
  {
   "cell_type": "markdown",
   "id": "2ff8689b-0c8d-42ed-adf9-5291d1d4737a",
   "metadata": {},
   "source": [
    "### We can explore the features that have been found, with the assigned labels"
   ]
  },
  {
   "cell_type": "code",
   "execution_count": 29,
   "id": "a8bfce52-3726-47cf-bdf9-e8307ccc3e6c",
   "metadata": {},
   "outputs": [
    {
     "name": "stdout",
     "output_type": "stream",
     "text": [
      "(104185, 3, 4) (104185, 12) (104185,)\n"
     ]
    }
   ],
   "source": [
    "features = np.load(output_folder / \"sorter_output\" / \"features\" / \"features_tsvd.npy\")\n",
    "features_flat = features.reshape(len(features), -1)\n",
    "labels = np.load(output_folder / \"sorter_output\" / \"features\" / \"peak_labels.npy\")\n",
    "print(features.shape, features_flat.shape, labels.shape)"
   ]
  },
  {
   "cell_type": "markdown",
   "id": "9b0d0ea4-51e4-42b1-90fa-5170ee2f3685",
   "metadata": {},
   "source": [
    "### We can do a 2D projections from a High Dimensional space with UMAP"
   ]
  },
  {
   "cell_type": "code",
   "execution_count": 30,
   "id": "9700609f-849c-4864-9f02-d713c231bd77",
   "metadata": {},
   "outputs": [],
   "source": [
    "import umap\n",
    "mapper = umap.UMAP().fit(features_flat[::50])"
   ]
  },
  {
   "cell_type": "code",
   "execution_count": null,
   "id": "60878a5a-0ebe-42fe-9bf1-3393aee6cecb",
   "metadata": {},
   "outputs": [],
   "source": []
  },
  {
   "cell_type": "code",
   "execution_count": 31,
   "id": "8d3b1a3c-bb5d-4fc2-bbb2-6aeb46be18c7",
   "metadata": {},
   "outputs": [
    {
     "name": "stderr",
     "output_type": "stream",
     "text": [
      "/home/samuel/.virtualenvs/py3.11/lib/python3.11/site-packages/umap/plot.py:203: NumbaDeprecationWarning: The keyword argument 'nopython=False' was supplied. From Numba 0.59.0 the default is being changed to True and use of 'nopython=False' will raise a warning as the argument will have no effect. See https://numba.readthedocs.io/en/stable/reference/deprecation.html#deprecation-of-object-mode-fall-back-behaviour-when-using-jit for details.\n",
      "  @numba.jit(nopython=False)\n"
     ]
    },
    {
     "data": {
      "text/plain": [
       "<Axes: >"
      ]
     },
     "execution_count": 31,
     "metadata": {},
     "output_type": "execute_result"
    },
    {
     "data": {
      "application/vnd.jupyter.widget-view+json": {
       "model_id": "3288063fc6584d3d9ee93da8f254d1ad",
       "version_major": 2,
       "version_minor": 0
      },
      "image/png": "[encoded data removed]",
      "text/html": [
       "\n",
       "            <div style=\"display: inline-block;\">\n",
       "                <div class=\"jupyter-widgets widget-label\" style=\"text-align: center;\">\n",
       "                    Figure\n",
       "                </div>\n",
       "                <img src='data:image/png;base64,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' width=800.0/>\n",
       "            </div>\n",
       "        "
      ],
      "text/plain": [
       "Canvas(toolbar=Toolbar(toolitems=[('Home', 'Reset original view', 'home', 'home'), ('Back', 'Back to previous …"
      ]
     },
     "metadata": {},
     "output_type": "display_data"
    }
   ],
   "source": [
    "import umap.plot\n",
    "umap.plot.points(mapper, labels=labels[::50])"
   ]
  },
  {
   "cell_type": "markdown",
   "id": "174a5cfe-c4a3-4c0d-bfdd-b197b9280e49",
   "metadata": {},
   "source": [
    "## Run SortingAnalzer"
   ]
  },
  {
   "cell_type": "code",
   "execution_count": 32,
   "id": "658ee589-c14b-49ce-a5ad-08767d71264a",
   "metadata": {},
   "outputs": [
    {
     "data": {
      "application/vnd.jupyter.widget-view+json": {
       "model_id": "da3669ff581e4e59afe0202c0b09f44d",
       "version_major": 2,
       "version_minor": 0
      },
      "text/plain": [
       "estimate_sparsity:   0%|          | 0/7201 [00:00<?, ?it/s]"
      ]
     },
     "metadata": {},
     "output_type": "display_data"
    },
    {
     "data": {
      "application/vnd.jupyter.widget-view+json": {
       "model_id": "ed97305c8a8a4513854757e9bd62a0fb",
       "version_major": 2,
       "version_minor": 0
      },
      "text/plain": [
       "compute_waveforms:   0%|          | 0/7201 [00:00<?, ?it/s]"
      ]
     },
     "metadata": {},
     "output_type": "display_data"
    },
    {
     "data": {
      "application/vnd.jupyter.widget-view+json": {
       "model_id": "fb02325de52044049b2ae9aa8498ffa4",
       "version_major": 2,
       "version_minor": 0
      },
      "text/plain": [
       "spike_amplitudes:   0%|          | 0/7201 [00:00<?, ?it/s]"
      ]
     },
     "metadata": {},
     "output_type": "display_data"
    },
    {
     "data": {
      "application/vnd.jupyter.widget-view+json": {
       "model_id": "e038d187871846c68142fcbd36d1d107",
       "version_major": 2,
       "version_minor": 0
      },
      "text/plain": [
       "Fitting PCA:   0%|          | 0/9 [00:00<?, ?it/s]"
      ]
     },
     "metadata": {},
     "output_type": "display_data"
    },
    {
     "data": {
      "application/vnd.jupyter.widget-view+json": {
       "model_id": "7c477f281b37430b96218773bfd344c9",
       "version_major": 2,
       "version_minor": 0
      },
      "text/plain": [
       "Projecting waveforms:   0%|          | 0/9 [00:00<?, ?it/s]"
      ]
     },
     "metadata": {},
     "output_type": "display_data"
    },
    {
     "name": "stdout",
     "output_type": "stream",
     "text": [
      "SortingAnalyzer: 4 channels - 9 units - 1 segments - memory - sparse - has recording\n",
      "Loaded 10 extenstions: random_spikes, waveforms, templates, noise_levels, spike_amplitudes, template_similarity, unit_locations, correlograms, principal_components, quality_metrics\n"
     ]
    }
   ],
   "source": [
    "analyzer = si.create_sorting_analyzer(sorting, recording_preprocess, format=\"memory\")\n",
    "analyzer.compute([\"random_spikes\", \"waveforms\", \"templates\", \"noise_levels\",\n",
    "                  \"spike_amplitudes\", \"template_similarity\"])\n",
    "analyzer.compute(\"unit_locations\", method=\"monopolar_triangulation\")\n",
    "analyzer.compute(\"correlograms\", window_ms=50., bin_ms=1.)\n",
    "analyzer.compute(\"principal_components\", n_components=3, mode='by_channel_global', whiten=True)\n",
    "analyzer.compute(\"quality_metrics\", metric_names=[\"snr\", \"firing_rate\", \"rp_violation\"])\n",
    "print(analyzer)\n"
   ]
  },
  {
   "cell_type": "code",
   "execution_count": 33,
   "id": "34062880-837f-48fe-acfb-5e4deb33dcbd",
   "metadata": {},
   "outputs": [
    {
     "name": "stdout",
     "output_type": "stream",
     "text": [
      "SortingAnalyzer: 4 channels - 9 units - 1 segments - binary_folder - sparse - has recording\n",
      "Loaded 10 extenstions: random_spikes, waveforms, templates, noise_levels, spike_amplitudes, template_similarity, unit_locations, correlograms, principal_components, quality_metrics\n"
     ]
    }
   ],
   "source": [
    "anlyzer_folder = base_folder / \"sortings\" / f\"Analyzer {probe_type} {subject_id} {session_id} {sorter_name}\"\n",
    "if anlyzer_folder.exists():\n",
    "    shutil.rmtree(anlyzer_folder)\n",
    "analyzer = analyzer.save_as(format=\"binary_folder\", folder=anlyzer_folder)\n",
    "print(analyzer)"
   ]
  },
  {
   "cell_type": "code",
   "execution_count": 35,
   "id": "91b86701-2343-4c22-ac53-de738ced443f",
   "metadata": {},
   "outputs": [
    {
     "data": {
      "text/plain": [
       "<spikeinterface.widgets.sorting_summary.SortingSummaryWidget at 0x7fb7515df250>"
      ]
     },
     "execution_count": 35,
     "metadata": {},
     "output_type": "execute_result"
    }
   ],
   "source": [
    "%gui qt\n",
    "si.plot_sorting_summary(analyzer, backend='spikeinterface_gui')"
   ]
  },
  {
   "cell_type": "markdown",
   "id": "702fb6b7-1727-4e23-9c92-96e355caa0a5",
   "metadata": {},
   "source": [
    "### Let's launch more advanced sorters using template mathcing : spykingcircus2"
   ]
  },
  {
   "cell_type": "code",
   "execution_count": null,
   "id": "4feb642a-6b7a-4d5a-b9ac-627f52fa15e9",
   "metadata": {},
   "outputs": [
    {
     "name": "stdout",
     "output_type": "stream",
     "text": [
      "/home/samuel/DataSpikeSorting/WIRED_SI_tutos/sortings/AdTech sub-002 sess-001 spykingcircus2\n",
      "detect peaks using locally_exclusive with n_jobs = 3 and chunk_size = 32768\n"
     ]
    },
    {
     "data": {
      "application/vnd.jupyter.widget-view+json": {
       "model_id": "d7257c1573f64db1ab39a02099e383db",
       "version_major": 2,
       "version_minor": 0
      },
      "text/plain": [
       "detect peaks using locally_exclusive:   0%|          | 0/7201 [00:00<?, ?it/s]"
      ]
     },
     "metadata": {},
     "output_type": "display_data"
    },
    {
     "name": "stdout",
     "output_type": "stream",
     "text": [
      "We found 458498 peaks in total\n",
      "We kept 100000 peaks for clustering\n",
      "extracting features with n_jobs = 3 and chunk_size = 32768\n"
     ]
    },
    {
     "data": {
      "application/vnd.jupyter.widget-view+json": {
       "model_id": "f08ef6959f424cb3a5477b1703148057",
       "version_major": 2,
       "version_minor": 0
      },
      "text/plain": [
       "extracting features:   0%|          | 0/7201 [00:00<?, ?it/s]"
      ]
     },
     "metadata": {},
     "output_type": "display_data"
    },
    {
     "name": "stdout",
     "output_type": "stream",
     "text": [
      "estimate_templates with n_jobs = 3 and chunk_size = 32768\n"
     ]
    },
    {
     "data": {
      "application/vnd.jupyter.widget-view+json": {
       "model_id": "be25fb0cce9b413186d0e42b9838562b",
       "version_major": 2,
       "version_minor": 0
      },
      "text/plain": [
       "estimate_templates:   0%|          | 0/7201 [00:00<?, ?it/s]"
      ]
     },
     "metadata": {},
     "output_type": "display_data"
    },
    {
     "name": "stderr",
     "output_type": "stream",
     "text": [
      "/home/samuel/Documents/SpikeInterface/spikeinterface/src/spikeinterface/core/baserecordingsnippets.py:244: UserWarning: There is no Probe attached to this recording. Creating a dummy one with contact positions\n",
      "  warn(\"There is no Probe attached to this recording. Creating a dummy one with contact positions\")\n"
     ]
    },
    {
     "name": "stdout",
     "output_type": "stream",
     "text": [
      "We found 95 raw clusters, starting to clean with matching...\n",
      "We kept 84 non-duplicated clusters...\n",
      "estimate_templates with n_jobs = 3 and chunk_size = 32768\n"
     ]
    },
    {
     "data": {
      "application/vnd.jupyter.widget-view+json": {
       "model_id": "f221c993aa084c3f946454cfc3dcee78",
       "version_major": 2,
       "version_minor": 0
      },
      "text/plain": [
       "estimate_templates:   0%|          | 0/7201 [00:00<?, ?it/s]"
      ]
     },
     "metadata": {},
     "output_type": "display_data"
    },
    {
     "name": "stdout",
     "output_type": "stream",
     "text": [
      "find spikes (circus-omp-svd) with n_jobs = 3 and chunk_size = 3276\n"
     ]
    },
    {
     "data": {
      "application/vnd.jupyter.widget-view+json": {
       "model_id": "2bdb6ae05b6b4da5a15d3641be46eabd",
       "version_major": 2,
       "version_minor": 0
      },
      "text/plain": [
       "find spikes (circus-omp-svd):   0%|          | 0/72018 [00:00<?, ?it/s]"
      ]
     },
     "metadata": {},
     "output_type": "display_data"
    }
   ],
   "source": [
    "\n",
    "sorter_name = 'spykingcircus2'\n",
    "output_folder = base_folder / \"sortings\" / f\"{probe_type} {subject_id} {session_id} {sorter_name}\"\n",
    "print(output_folder)\n",
    "\n",
    "if output_folder.exists():\n",
    "    shutil.rmtree(output_folder)\n",
    "\n",
    "sorting = si.run_sorter(sorter_name, recording, verbose=True, \n",
    "                          output_folder=output_folder,\n",
    "                          apply_preprocessing=False, \n",
    "                          detection= {\"peak_sign\": \"neg\",  \"detect_threshold\": 5.0,},\n",
    "                          )\n",
    "sorting"
   ]
  },
  {
   "cell_type": "code",
   "execution_count": null,
   "id": "1c439e17-0248-44a6-9b3a-9a318820bf37",
   "metadata": {},
   "outputs": [],
   "source": [
    "analyzer = si.create_sorting_analyzer(sorting, recording_preprocess, format=\"memory\")\n",
    "analyzer.compute([\"random_spikes\", \"waveforms\", \"templates\", \"noise_levels\",\n",
    "                  \"isi_histograms\", \"spike_amplitudes\", \"template_similarity\"])\n",
    "analyzer.compute(\"unit_locations\", method=\"grid_convolution\")\n",
    "analyzer.compute(\"correlograms\", window_ms=50., bin_ms=1.)\n",
    "analyzer.compute(\"principal_components\", n_components=3, mode='by_channel_global', whiten=True)\n",
    "analyzer.compute(\"quality_metrics\", metric_names=[\"snr\", \"firing_rate\", \"rp_violation\"])\n",
    "print(analyzer)"
   ]
  },
  {
   "cell_type": "code",
   "execution_count": null,
   "id": "c00800dd-1dc5-4b31-bd84-9abc019c3969",
   "metadata": {},
   "outputs": [],
   "source": [
    "anlyzer_folder = base_folder / \"sortings\" / f\"Analyzer {probe_type} {subject_id} {session_id} {sorter_name}\"\n",
    "if anlyzer_folder.exists():\n",
    "    shutil.rmtree(anlyzer_folder)\n",
    "analyzer = analyzer.save_as(format=\"binary_folder\", folder=anlyzer_folder)\n",
    "print(analyzer)"
   ]
  },
  {
   "cell_type": "code",
   "execution_count": 47,
   "id": "6fc7332c-d0ea-4f49-8972-cbfa9c881708",
   "metadata": {},
   "outputs": [
    {
     "data": {
      "text/plain": [
       "<spikeinterface.widgets.sorting_summary.SortingSummaryWidget at 0x7f2565587510>"
      ]
     },
     "execution_count": 47,
     "metadata": {},
     "output_type": "execute_result"
    }
   ],
   "source": [
    "%gui qt\n",
    "si.plot_sorting_summary(analyzer, backend='spikeinterface_gui')"
   ]
  },
  {
   "cell_type": "code",
   "execution_count": null,
   "id": "2687e0cb-9fc7-46ab-af53-20e3853eae71",
   "metadata": {},
   "outputs": [],
   "source": []
  }
 ],
 "metadata": {
  "kernelspec": {
   "display_name": "Python 3 (ipykernel)",
   "language": "python",
   "name": "python3"
  },
  "language_info": {
   "codemirror_mode": {
    "name": "ipython",
    "version": 3
   },
   "file_extension": ".py",
   "mimetype": "text/x-python",
   "name": "python",
   "nbconvert_exporter": "python",
   "pygments_lexer": "ipython3",
   "version": "3.11.0rc1"
  }
 },
 "nbformat": 4,
 "nbformat_minor": 5
}
