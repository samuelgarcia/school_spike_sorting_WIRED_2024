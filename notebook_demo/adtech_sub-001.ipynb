{
 "cells": [
  {
   "cell_type": "markdown",
   "id": "67148348-4c80-4040-860d-fd08b0b8e257",
   "metadata": {},
   "source": [
    "### First, we create a notebook with autoreload with appropriate imports"
   ]
  },
  {
   "cell_type": "code",
   "execution_count": 1,
   "id": "2fe21e09-09b5-4db9-b94c-6121c62134df",
   "metadata": {},
   "outputs": [],
   "source": [
    "%load_ext autoreload\n",
    "%autoreload 2\n",
    "%matplotlib inline"
   ]
  },
  {
   "cell_type": "code",
   "execution_count": 2,
   "id": "5d1a981f-3c4e-4a4b-a333-a5c3002cf620",
   "metadata": {},
   "outputs": [],
   "source": [
    "from pathlib import Path\n",
    "import shutil\n",
    "import numpy as np\n",
    "\n",
    "import spikeinterface.full as si\n",
    "import probeinterface"
   ]
  },
  {
   "cell_type": "code",
   "execution_count": 3,
   "id": "32dbbedf-360a-4792-bcea-4c7fdca80bff",
   "metadata": {},
   "outputs": [],
   "source": [
    "#base_folder = Path(\"/home/samuel/DataSpikeSorting/WIRED_SI_tutos/\")\n",
    "base_folder = Path(\"/home/pierre/WIRED_SI_tutos/\")"
   ]
  },
  {
   "cell_type": "markdown",
   "id": "6fee63a0-1e6b-46d5-b953-fae844d5c42c",
   "metadata": {},
   "source": [
    "### We set the number of jobs globally for spikeinterface"
   ]
  },
  {
   "cell_type": "code",
   "execution_count": 4,
   "id": "be16cec5-55bf-4c10-860d-fa01ae4ea62c",
   "metadata": {},
   "outputs": [],
   "source": [
    "si.set_global_job_kwargs(n_jobs=-1, chunk_duration=\"1s\", progress_bar=True)"
   ]
  },
  {
   "cell_type": "markdown",
   "id": "2ea03e8f-053a-4588-92bf-25416841996e",
   "metadata": {},
   "source": [
    "### Then we focus on a particular dataset"
   ]
  },
  {
   "cell_type": "code",
   "execution_count": 5,
   "id": "1d88dc5d-9560-4a72-8e84-97393817ff25",
   "metadata": {},
   "outputs": [],
   "source": [
    "probe_type = \"AdTech\"\n",
    "subject_id = \"sub-001\"\n",
    "session_id = \"sess-001\""
   ]
  },
  {
   "cell_type": "code",
   "execution_count": 6,
   "id": "85dabf1f-d0b5-4fe0-80cb-21f2a3d29391",
   "metadata": {},
   "outputs": [
    {
     "name": "stdout",
     "output_type": "stream",
     "text": [
      "/home/pierre/WIRED_SI_tutos/Neuralynx/AdTech/sub-001/sess-001/ieeg\n",
      "/home/pierre/WIRED_SI_tutos/Binary/AdTech/sub-001/sess-001/ieeg\n"
     ]
    }
   ],
   "source": [
    "neuralynx_folder = base_folder / \"Neuralynx\" / probe_type / subject_id / session_id / \"ieeg\"\n",
    "print(neuralynx_folder)\n",
    "\n",
    "binary_folder = base_folder / \"Binary\" / probe_type / subject_id / session_id / \"ieeg\"\n",
    "binary_folder.parent.mkdir(exist_ok=True, parents=True)\n",
    "print(binary_folder)\n",
    "\n",
    "(base_folder / \"sortings\").mkdir(exist_ok=True, parents=True)"
   ]
  },
  {
   "cell_type": "markdown",
   "id": "43e43351-1732-4320-b3cf-b59aed7d9a70",
   "metadata": {},
   "source": [
    "### We can load the data from neuralynx format and save it to binary"
   ]
  },
  {
   "cell_type": "code",
   "execution_count": 7,
   "id": "dd6ae3d7-b238-4064-8b0f-afc3f51e09b3",
   "metadata": {},
   "outputs": [],
   "source": [
    "if binary_folder.exists():\n",
    "    # already converted\n",
    "    raw_recording =si.load_extractor(binary_folder)\n",
    "else:\n",
    "    raw_recording = si.read_neuralynx(neuralynx_folder)\n",
    "    print(raw_recording)\n",
    "    #raw_recording = si.concatenate_recordings([raw_recording])\n",
    "    print(raw_recording)\n",
    "    raw_recording = raw_recording.save(folder=binary_folder)"
   ]
  },
  {
   "cell_type": "code",
   "execution_count": 8,
   "id": "b659762d-df10-4820-ba56-1d7da321766b",
   "metadata": {},
   "outputs": [
    {
     "name": "stdout",
     "output_type": "stream",
     "text": [
      "BinaryFolderRecording: 8 channels - 32.8kHz - 1 segments - 235,929,740 samples \n",
      "                       7,200.00s (2.00 hours) - int16 dtype - 3.52 GiB\n"
     ]
    }
   ],
   "source": [
    "print(raw_recording)"
   ]
  },
  {
   "cell_type": "markdown",
   "id": "07cb5452-e7df-42ef-b79f-f1c895873ca2",
   "metadata": {},
   "source": [
    "### We need to create the probes, and attach them to the recordings"
   ]
  },
  {
   "cell_type": "markdown",
   "id": "d4418f09-ae31-4986-a01a-a381efd9a2c7",
   "metadata": {},
   "source": [
    "With the DIXI probe, we have no insight on the positions of the channels. Therefore, we will make them artificially far from each other in order to ensure that they are processed independantly. This is a choice that has to be taken. Either you set the channels far apart from each others (xpitch, ypitch very large), either you let the sorting algorithm decide, and set them close alltogether, assuming you do not really know the physical positions"
   ]
  },
  {
   "cell_type": "code",
   "execution_count": 41,
   "id": "d16ef235-876f-423f-8ce3-f526b4354e66",
   "metadata": {},
   "outputs": [
    {
     "data": {
      "text/plain": [
       "Probe - 8ch - 1shanks"
      ]
     },
     "execution_count": 41,
     "metadata": {},
     "output_type": "execute_result"
    }
   ],
   "source": [
    "probe = probeinterface.generate_multi_columns_probe(num_columns=2, num_contact_per_column=4, xpitch=200, ypitch=200)\n",
    "probe.set_device_channel_indices(np.arange(raw_recording.get_num_channels()))\n",
    "probe"
   ]
  },
  {
   "cell_type": "code",
   "execution_count": 42,
   "id": "3adb7435-c1da-4ee2-b6e1-ff49abd8181a",
   "metadata": {},
   "outputs": [
    {
     "data": {
      "text/html": [
       "<div>\n",
       "<style scoped>\n",
       "    .dataframe tbody tr th:only-of-type {\n",
       "        vertical-align: middle;\n",
       "    }\n",
       "\n",
       "    .dataframe tbody tr th {\n",
       "        vertical-align: top;\n",
       "    }\n",
       "\n",
       "    .dataframe thead th {\n",
       "        text-align: right;\n",
       "    }\n",
       "</style>\n",
       "<table border=\"1\" class=\"dataframe\">\n",
       "  <thead>\n",
       "    <tr style=\"text-align: right;\">\n",
       "      <th></th>\n",
       "      <th>x</th>\n",
       "      <th>y</th>\n",
       "      <th>contact_shapes</th>\n",
       "      <th>radius</th>\n",
       "      <th>shank_ids</th>\n",
       "      <th>contact_ids</th>\n",
       "    </tr>\n",
       "  </thead>\n",
       "  <tbody>\n",
       "    <tr>\n",
       "      <th>0</th>\n",
       "      <td>0.0</td>\n",
       "      <td>0.0</td>\n",
       "      <td>circle</td>\n",
       "      <td>6.0</td>\n",
       "      <td></td>\n",
       "      <td>0</td>\n",
       "    </tr>\n",
       "    <tr>\n",
       "      <th>1</th>\n",
       "      <td>0.0</td>\n",
       "      <td>200.0</td>\n",
       "      <td>circle</td>\n",
       "      <td>6.0</td>\n",
       "      <td></td>\n",
       "      <td>1</td>\n",
       "    </tr>\n",
       "    <tr>\n",
       "      <th>2</th>\n",
       "      <td>0.0</td>\n",
       "      <td>400.0</td>\n",
       "      <td>circle</td>\n",
       "      <td>6.0</td>\n",
       "      <td></td>\n",
       "      <td>2</td>\n",
       "    </tr>\n",
       "    <tr>\n",
       "      <th>3</th>\n",
       "      <td>0.0</td>\n",
       "      <td>600.0</td>\n",
       "      <td>circle</td>\n",
       "      <td>6.0</td>\n",
       "      <td></td>\n",
       "      <td>3</td>\n",
       "    </tr>\n",
       "    <tr>\n",
       "      <th>4</th>\n",
       "      <td>200.0</td>\n",
       "      <td>0.0</td>\n",
       "      <td>circle</td>\n",
       "      <td>6.0</td>\n",
       "      <td></td>\n",
       "      <td>4</td>\n",
       "    </tr>\n",
       "    <tr>\n",
       "      <th>5</th>\n",
       "      <td>200.0</td>\n",
       "      <td>200.0</td>\n",
       "      <td>circle</td>\n",
       "      <td>6.0</td>\n",
       "      <td></td>\n",
       "      <td>5</td>\n",
       "    </tr>\n",
       "    <tr>\n",
       "      <th>6</th>\n",
       "      <td>200.0</td>\n",
       "      <td>400.0</td>\n",
       "      <td>circle</td>\n",
       "      <td>6.0</td>\n",
       "      <td></td>\n",
       "      <td>6</td>\n",
       "    </tr>\n",
       "    <tr>\n",
       "      <th>7</th>\n",
       "      <td>200.0</td>\n",
       "      <td>600.0</td>\n",
       "      <td>circle</td>\n",
       "      <td>6.0</td>\n",
       "      <td></td>\n",
       "      <td>7</td>\n",
       "    </tr>\n",
       "  </tbody>\n",
       "</table>\n",
       "</div>"
      ],
      "text/plain": [
       "       x      y contact_shapes  radius shank_ids contact_ids\n",
       "0    0.0    0.0         circle     6.0                     0\n",
       "1    0.0  200.0         circle     6.0                     1\n",
       "2    0.0  400.0         circle     6.0                     2\n",
       "3    0.0  600.0         circle     6.0                     3\n",
       "4  200.0    0.0         circle     6.0                     4\n",
       "5  200.0  200.0         circle     6.0                     5\n",
       "6  200.0  400.0         circle     6.0                     6\n",
       "7  200.0  600.0         circle     6.0                     7"
      ]
     },
     "execution_count": 42,
     "metadata": {},
     "output_type": "execute_result"
    }
   ],
   "source": [
    "probe.to_dataframe()"
   ]
  },
  {
   "cell_type": "code",
   "execution_count": 43,
   "id": "6f8d7eff-7596-434c-8001-4a2bb574e836",
   "metadata": {},
   "outputs": [
    {
     "name": "stdout",
     "output_type": "stream",
     "text": [
      "FrameSliceRecording: 8 channels - 32.8kHz - 1 segments - 58,982,400 samples \n",
      "                     1,800.00s (30.00 minutes) - int16 dtype - 900.00 MiB\n"
     ]
    }
   ],
   "source": [
    "raw_recording = raw_recording.set_probe(probe)\n",
    "print(raw_recording)"
   ]
  },
  {
   "cell_type": "code",
   "execution_count": 44,
   "id": "f6fb4776-841d-40ed-a798-f9c1331b1dbb",
   "metadata": {},
   "outputs": [
    {
     "data": {
      "text/plain": [
       "<spikeinterface.widgets.probe_map.ProbeMapWidget at 0x7242c47c7d50>"
      ]
     },
     "execution_count": 44,
     "metadata": {},
     "output_type": "execute_result"
    },
    {
     "data": {
      "application/vnd.jupyter.widget-view+json": {
       "model_id": "f1f790b8f8eb42b19de6ccba9882345a",
       "version_major": 2,
       "version_minor": 0
      },
      "image/png": "[encoded data removed]",
      "text/html": [
       "\n",
       "            <div style=\"display: inline-block;\">\n",
       "                <div class=\"jupyter-widgets widget-label\" style=\"text-align: center;\">\n",
       "                    Figure\n",
       "                </div>\n",
       "                <img src='data:image/png;base64,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' width=640.0/>\n",
       "            </div>\n",
       "        "
      ],
      "text/plain": [
       "Canvas(toolbar=Toolbar(toolitems=[('Home', 'Reset original view', 'home', 'home'), ('Back', 'Back to previous …"
      ]
     },
     "metadata": {},
     "output_type": "display_data"
    }
   ],
   "source": [
    "si.plot_probe_map(raw_recording, with_channel_ids=True, with_contact_id=True)"
   ]
  },
  {
   "cell_type": "markdown",
   "id": "18ef9f08-d596-4564-b0b3-ab1e7f862968",
   "metadata": {},
   "source": [
    "### Slicing the recording (for the demo only)"
   ]
  },
  {
   "cell_type": "code",
   "execution_count": 45,
   "id": "96f38859-7bf9-4d2c-b4b1-dccdee042c91",
   "metadata": {},
   "outputs": [],
   "source": [
    "frame_start = 0\n",
    "frame_stop = int(30 * 60 * raw_recording.sampling_frequency)\n",
    "raw_recording = raw_recording.frame_slice(frame_start, frame_stop)"
   ]
  },
  {
   "cell_type": "markdown",
   "id": "e5500dd6-f686-499b-aa69-ff004bf3dd76",
   "metadata": {},
   "source": [
    "## explore raw traces\n",
    "\n",
    "two way:\n",
    "  * inside jupyter with `backend=\"ipywidgets\"` : slow but enable remote visualization\n",
    "  * using desktop app `backend=\"ephyviewer\"` (no remote vis) : faster but freeze the jupyter notebook\n"
   ]
  },
  {
   "cell_type": "code",
   "execution_count": 14,
   "id": "42c84694-72fc-404e-8655-ada52a692568",
   "metadata": {},
   "outputs": [
    {
     "data": {
      "application/vnd.jupyter.widget-view+json": {
       "model_id": "aa71c58681424018a80ce4fd5b7983e9",
       "version_major": 2,
       "version_minor": 0
      },
      "text/plain": [
       "AppLayout(children=(TimeSlider(children=(Dropdown(description='segment', options=(0,), value=0), Button(icon='…"
      ]
     },
     "metadata": {},
     "output_type": "display_data"
    },
    {
     "data": {
      "text/plain": [
       "<spikeinterface.widgets.traces.TracesWidget at 0x7242351f5890>"
      ]
     },
     "execution_count": 14,
     "metadata": {},
     "output_type": "execute_result"
    }
   ],
   "source": [
    "%matplotlib widget\n",
    "si.plot_traces(raw_recording, backend=\"ipywidgets\")"
   ]
  },
  {
   "cell_type": "code",
   "execution_count": 15,
   "id": "4a6a45cb-e920-4b4d-9ba0-1d375bbadacb",
   "metadata": {},
   "outputs": [
    {
     "data": {
      "text/plain": [
       "<spikeinterface.widgets.traces.TracesWidget at 0x7242350aabd0>"
      ]
     },
     "execution_count": 15,
     "metadata": {},
     "output_type": "execute_result"
    }
   ],
   "source": [
    "# this work only with local notebook!!!\n",
    "%gui qt\n",
    "si.plot_traces(raw_recording, backend=\"ephyviewer\")"
   ]
  },
  {
   "cell_type": "markdown",
   "id": "f3c33a40-1c71-4b9a-95fc-c257b7b256ed",
   "metadata": {},
   "source": [
    "### We can preprocess the signals, and also extract an enveloppe to remove/identify artefacts"
   ]
  },
  {
   "cell_type": "code",
   "execution_count": 16,
   "id": "43220d3f-fe73-4a6c-94cc-a3e612df94e3",
   "metadata": {},
   "outputs": [
    {
     "data": {
      "text/plain": [
       "CommonReferenceRecording: 8 channels - 32.8kHz - 1 segments - 58,982,400 samples \n",
       "                          1,800.00s (30.00 minutes) - float32 dtype - 1.76 GiB"
      ]
     },
     "execution_count": 16,
     "metadata": {},
     "output_type": "execute_result"
    }
   ],
   "source": [
    "recording_f = si.bandpass_filter(raw_recording, freq_min=300.0, freq_max=8000.0, dtype='float32')\n",
    "recording_preprocess = si.common_reference(recording_f)\n",
    "recording_preprocess"
   ]
  },
  {
   "cell_type": "code",
   "execution_count": 17,
   "id": "1e01deab-b452-4021-a97b-b8084ef57f81",
   "metadata": {},
   "outputs": [
    {
     "data": {
      "application/vnd.jupyter.widget-view+json": {
       "model_id": "2b74182178804bbd919e60d9cd88227e",
       "version_major": 2,
       "version_minor": 0
      },
      "text/plain": [
       "AppLayout(children=(TimeSlider(children=(Dropdown(description='segment', options=(0,), value=0), Button(icon='…"
      ]
     },
     "metadata": {},
     "output_type": "display_data"
    },
    {
     "data": {
      "text/plain": [
       "<spikeinterface.widgets.traces.TracesWidget at 0x72404a7a9d90>"
      ]
     },
     "execution_count": 17,
     "metadata": {},
     "output_type": "execute_result"
    }
   ],
   "source": [
    "%matplotlib widget\n",
    "si.plot_traces({\"preprocess\": recording_preprocess, \"filtered_only\":recording_f} , backend=\"ipywidgets\")"
   ]
  },
  {
   "cell_type": "code",
   "execution_count": 18,
   "id": "f0f8e99b-153b-4dd5-aa0f-d8b8f0f2c270",
   "metadata": {},
   "outputs": [
    {
     "data": {
      "text/plain": [
       "<spikeinterface.widgets.traces.TracesWidget at 0x724048fb2790>"
      ]
     },
     "execution_count": 18,
     "metadata": {},
     "output_type": "execute_result"
    }
   ],
   "source": [
    "%gui qt\n",
    "si.plot_traces(recording_preprocess, backend=\"ephyviewer\")"
   ]
  },
  {
   "cell_type": "markdown",
   "id": "18bc57ac-8e4e-4e87-9ed0-9d93b6f732fd",
   "metadata": {},
   "source": [
    "## detect and remove artifact\n",
    "\n",
    "The preprocess signal show very high artifact.\n",
    "\n",
    "Here a simple way to handle then:\n",
    "  * create the signal envelop\n",
    "  * detect period with high\n",
    "  * blank period with zeros or noise\n"
   ]
  },
  {
   "cell_type": "code",
   "execution_count": 19,
   "id": "d4ad275c-97d0-4c4d-ba4f-b119504b3354",
   "metadata": {},
   "outputs": [
    {
     "name": "stdout",
     "output_type": "stream",
     "text": [
      "CommonReferenceRecording: 8 channels - 32.8kHz - 1 segments - 58,982,400 samples \n",
      "                          1,800.00s (30.00 minutes) - float32 dtype - 1.76 GiB\n"
     ]
    },
    {
     "data": {
      "application/vnd.jupyter.widget-view+json": {
       "model_id": "59081d5359a24fc2bad72e475a3264ec",
       "version_major": 2,
       "version_minor": 0
      },
      "text/plain": [
       "detecting threshold crossings:   0%|          | 0/1800 [00:00<?, ?it/s]"
      ]
     },
     "metadata": {},
     "output_type": "display_data"
    },
    {
     "name": "stdout",
     "output_type": "stream",
     "text": [
      "Artefact period 1183\n"
     ]
    }
   ],
   "source": [
    "from threshold_detector import detect_artefacts\n",
    "## Get the enveloppe\n",
    "enveloppe = si.rectify(recording_preprocess)\n",
    "enveloppe = si.gaussian_filter(enveloppe, freq_min=None, freq_max=20.)\n",
    "enveloppe = si.common_reference(enveloppe)\n",
    "print(enveloppe)\n",
    "\n",
    "periods = detect_artefacts(enveloppe, detect_threshold=5)\n",
    "print(\"Artefact period\", len(periods))"
   ]
  },
  {
   "cell_type": "code",
   "execution_count": 20,
   "id": "7392425b-5456-48f9-ba53-8bec251ea9b5",
   "metadata": {},
   "outputs": [
    {
     "data": {
      "text/plain": [
       "SilencedPeriodsRecording: 8 channels - 32.8kHz - 1 segments - 58,982,400 samples \n",
       "                          1,800.00s (30.00 minutes) - float32 dtype - 1.76 GiB"
      ]
     },
     "execution_count": 20,
     "metadata": {},
     "output_type": "execute_result"
    }
   ],
   "source": [
    "recording_silenced = si.silence_periods(recording_preprocess, periods, mode='zeros')\n",
    "# recording_silenced = si.silence_periods(recording_preprocess, periods, mode='noise')\n",
    "recording_silenced"
   ]
  },
  {
   "cell_type": "code",
   "execution_count": 21,
   "id": "cec039e5-349e-4cd9-b2c0-ce7b27696a02",
   "metadata": {},
   "outputs": [
    {
     "data": {
      "application/vnd.jupyter.widget-view+json": {
       "model_id": "778891eee4514c6c84ceb0e1759aefda",
       "version_major": 2,
       "version_minor": 0
      },
      "text/plain": [
       "AppLayout(children=(TimeSlider(children=(Dropdown(description='segment', options=(0,), value=0), Button(icon='…"
      ]
     },
     "metadata": {},
     "output_type": "display_data"
    },
    {
     "data": {
      "text/plain": [
       "<spikeinterface.widgets.traces.TracesWidget at 0x7240485cea90>"
      ]
     },
     "execution_count": 21,
     "metadata": {},
     "output_type": "execute_result"
    }
   ],
   "source": [
    "%matplotlib widget\n",
    "si.plot_traces({\"silenced\": recording_silenced, \"with_artifact\":recording_preprocess, \"enveloppe\" :enveloppe} , backend=\"ipywidgets\")"
   ]
  },
  {
   "cell_type": "markdown",
   "id": "5036655c-170e-4aec-b9f5-6c3c78628bfb",
   "metadata": {},
   "source": [
    "## Noise levels over time, before and after cleaning\n",
    "\n",
    "We can check that removing the artefacts is indeed reducing the noise levels, as expected. We can also appreciate the dispersion of the noise over all channels, and see that the MAD tends to be less variable than the STD, with a ratio of approx 0.66\n"
   ]
  },
  {
   "cell_type": "code",
   "execution_count": 22,
   "id": "84295357-9fd6-4df5-acfd-170ce9f7b43f",
   "metadata": {},
   "outputs": [
    {
     "data": {
      "application/vnd.jupyter.widget-view+json": {
       "model_id": "2bbced1e8a7249b4a16ecc40d23f275b",
       "version_major": 2,
       "version_minor": 0
      },
      "image/png": "[encoded data removed]",
      "text/html": [
       "\n",
       "            <div style=\"display: inline-block;\">\n",
       "                <div class=\"jupyter-widgets widget-label\" style=\"text-align: center;\">\n",
       "                    Figure\n",
       "                </div>\n",
       "                <img src='data:image/png;base64,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' width=640.0/>\n",
       "            </div>\n",
       "        "
      ],
      "text/plain": [
       "Canvas(toolbar=Toolbar(toolitems=[('Home', 'Reset original view', 'home', 'home'), ('Back', 'Back to previous …"
      ]
     },
     "metadata": {},
     "output_type": "display_data"
    }
   ],
   "source": [
    "noise_levels = {}\n",
    "my_dict = {\"silenced\": recording_silenced, \"with_artifact\":recording_preprocess}\n",
    "for key, rec in my_dict.items():\n",
    "    noise_levels[key] = {}\n",
    "    for method in ['std', 'mad']:\n",
    "        noise = si.get_noise_levels(rec, return_scaled=True, num_chunks_per_segment=100, \n",
    "                                    force_recompute=True, concatenated=True, method=method)\n",
    "        noise_levels[key][method] = noise\n",
    "\n",
    "import pylab as plt\n",
    "fig, axes = plt.subplots(2, 1)\n",
    "for count, key in enumerate(['mad', 'std']):\n",
    "    axes[count].violinplot([noise_levels[r][key] for r in my_dict.keys()], showmeans=True)\n",
    "    axes[count].set_title(key)\n",
    "    axes[count].set_xticks([1, 2], ['silenced', 'with_artifact'])"
   ]
  },
  {
   "cell_type": "code",
   "execution_count": 23,
   "id": "2cf96904-20e0-481d-9173-ec7230231d3c",
   "metadata": {},
   "outputs": [
    {
     "data": {
      "text/plain": [
       "<spikeinterface.widgets.traces.TracesWidget at 0x72404841cd10>"
      ]
     },
     "execution_count": 23,
     "metadata": {},
     "output_type": "execute_result"
    }
   ],
   "source": [
    "%gui qt\n",
    "si.plot_traces({\"silenced\": recording_silenced, \"with_artifact\":recording_preprocess}, backend='ephyviewer')"
   ]
  },
  {
   "cell_type": "code",
   "execution_count": 24,
   "id": "701c3039-0872-440b-8e5c-c9ddd1e6786e",
   "metadata": {},
   "outputs": [],
   "source": [
    "recording = recording_silenced"
   ]
  },
  {
   "cell_type": "markdown",
   "id": "b742633f-0d85-492b-b06b-2ec682efb9bd",
   "metadata": {},
   "source": [
    "### Let's launch a very simple and naive sorter on the data (peak detection, feature extraction, clustering)"
   ]
  },
  {
   "cell_type": "code",
   "execution_count": 46,
   "id": "763ab942-8955-4142-b82f-fbcee42909e4",
   "metadata": {},
   "outputs": [
    {
     "name": "stdout",
     "output_type": "stream",
     "text": [
      "/home/pierre/WIRED_SI_tutos/sortings/AdTech sub-001 sess-001 simple\n",
      "detect peaks using locally_exclusive with n_jobs = 20 and chunk_size = 32768\n"
     ]
    },
    {
     "data": {
      "application/vnd.jupyter.widget-view+json": {
       "model_id": "619d06564bf04d898950b40801507127",
       "version_major": 2,
       "version_minor": 0
      },
      "text/plain": [
       "detect peaks using locally_exclusive:   0%|          | 0/1800 [00:00<?, ?it/s]"
      ]
     },
     "metadata": {},
     "output_type": "display_data"
    },
    {
     "name": "stdout",
     "output_type": "stream",
     "text": [
      "We found 85375 peaks in total\n",
      "extract waveforms shared_memory mono buffer with n_jobs = 20 and chunk_size = 32768\n"
     ]
    },
    {
     "data": {
      "application/vnd.jupyter.widget-view+json": {
       "model_id": "555a800f5ac348e8b9199e4ba428844b",
       "version_major": 2,
       "version_minor": 0
      },
      "text/plain": [
       "extract waveforms shared_memory mono buffer:   0%|          | 0/1800 [00:00<?, ?it/s]"
      ]
     },
     "metadata": {},
     "output_type": "display_data"
    },
    {
     "name": "stdout",
     "output_type": "stream",
     "text": [
      "extracting features with n_jobs = 20 and chunk_size = 32768\n"
     ]
    },
    {
     "data": {
      "application/vnd.jupyter.widget-view+json": {
       "model_id": "d6716fa0bf194e3981fa693cac81e86a",
       "version_major": 2,
       "version_minor": 0
      },
      "text/plain": [
       "extracting features:   0%|          | 0/1800 [00:00<?, ?it/s]"
      ]
     },
     "metadata": {},
     "output_type": "display_data"
    },
    {
     "name": "stdout",
     "output_type": "stream",
     "text": [
      "simple run time 18.31s\n"
     ]
    },
    {
     "data": {
      "text/plain": [
       "NumpyFolderSorting: 16 units - 1 segments - 32.8kHz"
      ]
     },
     "execution_count": 46,
     "metadata": {},
     "output_type": "execute_result"
    }
   ],
   "source": [
    "sorter_name = 'simple'\n",
    "output_folder = base_folder / \"sortings\" / f\"{probe_type} {subject_id} {session_id} {sorter_name}\"\n",
    "print(output_folder)\n",
    "if output_folder.exists():\n",
    "    shutil.rmtree(output_folder)\n",
    "\n",
    "sorting = si.run_sorter(sorter_name, recording, verbose=True, \n",
    "                          output_folder=output_folder,\n",
    "                          apply_preprocessing=False,\n",
    "                          detection= {\"peak_sign\": \"neg\",  \"detect_threshold\": 10.0, \"radius_um\": 150.},\n",
    "                          # clustering={\"method\" : \"hdbscan\", \"num_spikes_to_fit\" : 50000},\n",
    "                          clustering={\"method\" : \"kmeans\", \"n_init\" : \"auto\", \"n_clusters\": 16},\n",
    "                          # clustering={\"method\" : \"mean_shift\"},\n",
    "                          )\n",
    "sorting"
   ]
  },
  {
   "cell_type": "markdown",
   "id": "2ff8689b-0c8d-42ed-adf9-5291d1d4737a",
   "metadata": {},
   "source": [
    "### We can explore the features that have been found, with the assigned labels"
   ]
  },
  {
   "cell_type": "code",
   "execution_count": 47,
   "id": "a8bfce52-3726-47cf-bdf9-e8307ccc3e6c",
   "metadata": {},
   "outputs": [
    {
     "name": "stdout",
     "output_type": "stream",
     "text": [
      "(85375, 3, 8) (85375, 24) (85375,)\n"
     ]
    }
   ],
   "source": [
    "features = np.load(output_folder / \"sorter_output\" / \"features\" / \"features_tsvd.npy\")\n",
    "features_flat = features.reshape(len(features), -1)\n",
    "labels = np.load(output_folder / \"sorter_output\" / \"features\" / \"peak_labels.npy\")\n",
    "print(features.shape, features_flat.shape, labels.shape)"
   ]
  },
  {
   "cell_type": "markdown",
   "id": "9b0d0ea4-51e4-42b1-90fa-5170ee2f3685",
   "metadata": {},
   "source": [
    "### We can do a 2D projections from a High Dimensional space with UMAP"
   ]
  },
  {
   "cell_type": "code",
   "execution_count": 48,
   "id": "9700609f-849c-4864-9f02-d713c231bd77",
   "metadata": {},
   "outputs": [],
   "source": [
    "import umap\n",
    "mapper = umap.UMAP().fit(features_flat[::100])"
   ]
  },
  {
   "cell_type": "code",
   "execution_count": 49,
   "id": "8d3b1a3c-bb5d-4fc2-bbb2-6aeb46be18c7",
   "metadata": {},
   "outputs": [
    {
     "data": {
      "text/plain": [
       "<Axes: >"
      ]
     },
     "execution_count": 49,
     "metadata": {},
     "output_type": "execute_result"
    },
    {
     "data": {
      "application/vnd.jupyter.widget-view+json": {
       "model_id": "c9284c3193d548aca1202c1922a1f067",
       "version_major": 2,
       "version_minor": 0
      },
      "image/png": "[encoded data removed]",
      "text/html": [
       "\n",
       "            <div style=\"display: inline-block;\">\n",
       "                <div class=\"jupyter-widgets widget-label\" style=\"text-align: center;\">\n",
       "                    Figure\n",
       "                </div>\n",
       "                <img src='data:image/png;base64,iVBORw0KGgoAAAANSUhEUgAAAyAAAAMgCAYAAADbcAZoAAAAOXRFWHRTb2Z0d2FyZQBNYXRwbG90bGliIHZlcnNpb24zLjguMywgaHR0cHM6Ly9tYXRwbG90bGliLm9yZy/H5lhTAAAACXBIWXMAAA9hAAAPYQGoP6dpAACa5UlEQVR4nOzdd5hU9d3+8fc5M7O9d5bee28iFlAEEXvUaIxiiSm2nyExMc2YYmxPoiYaS4qa2BKj2AUbiAhIkybSl76wbO875Xx/fwzMMuyClN0ZWO7XdXk9e/rnbHh2595vs4wxBhERERERkQiwo12AiIiIiIicPBRAREREREQkYhRAREREREQkYhRAREREREQkYhRAREREREQkYhRAREREREQkYhRAREREREQkYhRAREREREQkYhRAREREREQkYhRAREREREQkYhRAREREREQkYhRAREREREQkYhRAREREREQkYhRAREREREQkYhRAREREREQkYhRAREREREQkYhRAREREREQkYhRAREREREQkYhRAREREREQkYhRAREREREQkYhRAREREREQkYhRAREREREQkYhRAREREREQkYhRAREREREQkYhRAREREREQkYhRAREREREQkYhRAREREREQkYhRAREREREQkYhRAREREREQkYhRAREREREQkYhRAREREREQkYhRAREREREQkYhRAREREREQkYhRAREREREQkYhRAREREREQkYhRAREREREQkYhRAREREREQkYhRAREREREQkYhRAREREREQkYhRAREREREQkYhRAREREREQkYhRAREREREQkYhRAREREREQkYhRAREREREQkYhRAREREREQkYhRAREREREQkYhRAREREREQkYhRAREREREQkYhRAREREREQkYhRAREREREQkYhRAREREREQkYhRAREREREQkYhRAREREREQkYhRAREREREQkYhRAREREREQkYhRAREREREQkYhRAREREREQkYhRAREREREQkYhRAREREREQkYhRAREREREQkYhRAREREREQkYhRAREREREQkYhRAREREREQkYhRAREREREQkYhRAREREREQkYhRAREREREQkYhRAREREREQkYhRAREREREQkYhRAREREREQkYhRAREREREQkYhRAREREREQkYhRAREREREQkYhRAREREREQkYhRAREREREQkYhRAREREREQkYhRAREREREQkYhRAREREREQkYhRAREREREQkYhRAREREREQkYhRAREREREQkYhRAREREREQkYhRAREREREQkYhRAREREREQkYhRAREREREQkYhRAREREREQkYhRAREREREQkYhRAREREREQkYhRAREREREQkYhRAREREREQkYhRAREREREQkYhRAREREREQkYhRAREREREQkYhRAREREREQkYhRAREREREQkYtzRLkAaOY7Dzp07SU5OxrKsaJcjIiIiIgcwxlBVVUV+fj62rb/lHw0FkOPIzp076dixY7TLEBEREZGvsW3bNjp06BDtMk5ICiDHkeTkZCD4DzolJSXK1YiIiIjIgSorK+nYsWPoc5scOQWQ48i+blcpKSkKICIiIiLHMXWXP3rquCYiIiIiIhGjACIiIiIiIhGjACIiIiIiIhGjMSAnoEAggM/ni3YZUePxeHC5XNEuQ0RERESOggLICcQYw65duygvL492KVGXlpZGXl6eBoCJiIiInGAUQE4g+8JHTk4OCQkJJ+WHb2MMtbW1FBUVAdCuXbsoVyQiIiIiR0IB5AQRCARC4SMzMzPa5URVfHw8AEVFReTk5Kg7loiIiMgJRIPQTxD7xnwkJCREuZLjw77vw8k8FkZERETkRKQAcoI5GbtdNUffBxEREZETkwKIiIiIiIhEjAKIiIiIiIhEjAahtwHP2GdH7FnXOx8d1XWPP/44Dz30ELt27WLw4MH85S9/YdSoUS1cnYiIiIgc79QCIq3uP//5D9OmTePXv/41S5cuZfDgwUyaNCk0la6IiIiInDwUQKTV/elPf+Kmm27i+uuvp1+/fjz55JMkJCTwz3/+M9qliYiIiEiEKYBIq/J6vSxZsoQJEyaE9tm2zYQJE5g/f34UKxMRERGRaFAAkVZVXFxMIBAgNzc3bH9ubi67du2KUlUiIiIiEi0KICIiIiIiEjEKINKqsrKycLlc7N69O2z/7t27ycvLi1JVIiIiIhItCiDSqmJiYhg+fDgffdQ4fa/jOHz00UeMGTMmipWJiIiISDRoHRBpddOmTWPq1KmMGDGCUaNG8cgjj1BTU8P1118f7dJEREREJMIUQKTVffOb32TPnj3cfffd7Nq1iyFDhjBjxowmA9NFREREpO1TAGkDjnZ18ki69dZbufXWW6NdhoiIiIhEmcaAiIiIiIhIxKgFRERE2i5TD76NYLnA3QOsI/i1Z3xAAKy4/fYZ8K6EwGawUyD2lPDjIiLytRRARESkbTIG6ueCqQYMBMoh7pTDu9a/E7wLg9eRDHFjwE6EwE4IbAye45RBwxfBYyIictgUQEREpM2pKK/D2+AjO7mqcadTdvg38H1FMHwAVAWDjLsn+JcDYIwDlbvBuwnid0H2hViWq8XqFxFpyzQGRERE2g6ngj1bP+aLuW/x2zvfZNv2+MZj7k7h55p68BdAoKTpfazYA3bUhsIHAPVV4K0FDNRthJqvWuoNRETaPAUQERE5YZUW17Bs0XaqKuvBGEz9Z2Sml3P6mW6+e3Msv/7ZHryMgNix4OnXeKHxQt3H4F0GDXPAvyP8xjHDwEpq3LazIvI+IiInA3XBEhGRE9K2zWX89ifv4fUGSE6J5XePTCY9rgHLZQGQm2djjIUrtj24Dvh7m1MGNDRuBwrB3b5x206A+HPAqQATCIaRhk/BVAI2JA4H32po2Anx3SCxT6u/r4hIW6EAIiIiJ6RF87bg8zkAVFU2sHzJLk4f2xkXWwB49y0vw0/piOuA8BEcv/EV1O2E2ESs+NRgdyzviuA4D3u/blt2auPXceODA9qtBCzLDXkDW/0dRUTaIgUQERE5IXXsko4xBtu2cBxDx85puOJ7sLswh89mbyUjL5lvXdSv6YXVK6BycfBrXx3GnYbl2QNOMQT2YKw+ULMaYrIhaTCWZWEC9VD6AfjKIGUEVlIz9xURkcOiACKtbs6cOTz00EMsWbKEwsJCpk+fzsUXXxztskTkBDdiTCduuv1U1q4uYtioDuzaWcVjD84hNTWe7087jbz2KRhjeO2l5SyZv5X+Q9px5dRhWP5qwCI0y1WgBjwJgMH4S6H0P3uPGTAOpAyDirlQuy64r+RdTFx7LHfqwUoTEZFDUABpA+b2Pz9izzrty7eP+JqamhoGDx7MDTfcwKWXXtoKVYnIyciyLE47qzunndWdmmovt177XxzHUF5ax7//tpA775nA0s+38cZ/VgCwfWs5HTqlcfqZA6B6OTh14MmEhP7gFARvatJgbxcusMBbFPwyUBf+8EA9KICIiBwVBRBpdZMnT2by5MnRLkNE2rBAwMFxgi0axhi83gAAVVWNA80tKzhWxPKkYdp/FwKV4E7DwganI2AgNgkqC4LHMGD8mEAdpIyEus1gGiChN8TkRP4lRUTaCE3DKyIiJ7yU1Dgu+/YQbNsiMSmWb04dBsDosZ3p1CUdgJy8ZE4/qxsAlu1h7pxy/u+3s3jt5RU4pIMrC8sVB/nXgjt4DbVrYc+bWLF50PEHkH8DZE7CsqyovKeISFugFhAREWkTLrhsIOdd0p+VX+zky+WFxMW56dA5nd/8aQoV5XXBVpK9wz42rN3D3/8yD4BVXxSSkhrH2eM94CuFhJ7gr9h7VwPe3cEvq76Ask8AG5N1Hpam3hUROSoKICIi0mYs/Xwbjz04B4DXXlrOt28cyTnn92H+JwX857mlAFzz3VEkpzSudG7bFsn2eihaE9xRsSDYzap27+rmMe0wZZ9C5cK9VzhQNkdrf4iIHCV1wRIRkTbjq5W7GjcMPP/3RezZXcVrLy0P7X7txWUMGpZPfofgIPK4eA8D+/kar3PqIWkA5FwG8T2gYQtUfk5o1iwssONa/2VERNootYCIiEibMWh4ez56b13YvqrKBtLS4ineUwMWpGUkEJ8Qw+8ensLO7RVk5yYRF1gDpRv3XmGBKwErJhtTND38Aa6k4OxXGedE5oVERNogtYBIq6uurmbZsmUsW7YMgIKCApYtW8bWrVujW5iItDlDRnTghltOweNx7d1uT5duGXx/2lg6d0unT/9cbvvpGQC4bC8d8+uJi7OaTqlbvQrjK6fJr8nUM7DyrsKKyWr9lxERaaPUAiKtbvHixYwfPz60PW3aNACmTp3Ks88+G6WqRKStOmNCDwrWlzDr/fVsWLuHdV/t4elHP6NkTw1ut01NtRfjK4HCF8B4wZUKGWeF36RhB1QtCd/nyYYkjfsQETlWCiBtwNEsDhhJ48aNwxjz9SeKyMkrsBt8G8FOBE9/sA749eTUgqkFOx0s1yFvVbijklnvrwegptrLf55bQsmemuBtHMO8TwrontMAZu+4j0BFcGHBlFOCCxR6coLjPvZxp0H+dVgH1iQiIkdFP01FRCS6TD00zAcMOHv3xQxuPB7Y3XjcSoO4M8E6eA/i2NjGX22WBalxxYCFZQUDSMfOaeBuoHFQORCTDkn9IO3U4Pb2v4KzdxFDd4rCh4hIC9JPVBEROWzGGPA3gDv2mBfj276ljNKSWvr0iydm/zDg1Iaf6N9MKCyYcnDKwZVx0PtmZidywy2n8NYry8hOqyAlMYBtxeMYiyEj2nPmOT3BApw6aNgJCb3A8sCOpyFQDamjIecbUD4P7BhIH3dM7ykiIuEUQERE5LCY+ir8b/8eSrZg5fXBdd7PsDzB9TScLUtxNi3Ayu6O3X/i14aTV/69lLdf/RKArj0y+dVvsnFZewAbPN3DT7aS99uwwU5ocr+GBj/PPfE5m9YXc8Y5PTjv4v6cMcbHjP/N5uXXG69ftngH9XVeEhJjIXVU47sVTQ+GD0xwHZDEAVi53zii74+IiBweBRARETkszppZUBKcvc7sWoPZNB+r9zhMyRYCMx4CC8y6OVjuWKw+4w56n80bS0LhA6BgQwnvzejIwMGd6Nw9F6zY8As8vQnevBrcXcFqugbHjNdXM++TTRgD/3l2Kbl5yQwb1YNN2xYTbD1pDERfrtjNf59bgs8b4Nrvj2bYqI5Nx5wcoouXiIgcG/2EFRGRMKahGmfDPMyegvADnjjCxk144oPnl+0I7jcGLBtTeugptrduLmuy75V/L+PuH3/C/15Y3fQCywUxfSF2JLian/62urohbPsvD85hxdI9jDpr7P5vRmqy4X//Xsqe3dWUldby1B9nEajbCelnQExusHUl42wsd8oh30FERI6eAoiIiIQYXz3+V39G4KM/43/tZ/he/TnOuk8BsPuchdV7HCRlYQ08D6vrSIwxbKzOwx+TFryB7cLuedohnzFgSD4JiZ5mj731v1WUFtd8fZ3G8MXCbcyeuY6y0homnt+HxKTGlhPjGP7+2DxWfLGbm2/J5/TR9Zx/jpffPDSWQMCEZuYLBIDid7HcqZA5CXIugaQhX/t8ERE5euqCJSIiAMGuVAv/A1V7GncWbyIw63FMxS5cIy/HPe77Ydc8/7eFfPDOWuLdo7hsUjJnX3kWVlLmIZ+TkZnAfY9dxPN/W8iieU1bSyrK68nISjzkPd58ZSWvvbg8uPEEjDy1E7W14a0gleX1zPlwI5/NsrjvL98kNz/YqjH1+3E88dCH+Pxw3RVV2Lgw5QugYm7wwqRBkDnxkM8XEZGjpwAiIiI4VSUEXvsFOP7mjy99FXvgZKy4pLD9sz/YAECd38N/ZtQyrvdruMZcg+VpOk5jf2np8aSmxzfZP2BIOzp3TW/2moINJfztz/PwNjStsbkgs08gYCjcWRkKIAP6eHnsD8GQZVlA2rlQ+n7jBdUrMBlnY33NeiMiInJ0FEBERITArMcPGj728S94Hle30didhob2deicxpaNJeA4dEiuoH7VQlZvSSR7zCS69mjaErJ4/lb++6+lJCXH8o1vDWH2zPX4/U7o+PW3jMF2Nd87+O9/mcfObeUYAy7X4U8BnJWTSM/eaZjKxcFxKt6de2fp2juexVtI4wIkAK7g98KlACIi0hoUQEREBCp3ff05a2cTWDsbpvwcu8MgAH74i/G8/a85mE0LOKfLJu6fP4ZtVQF49V1uuv1UTjmjK08/MpclC7bRvVcmG9aWEAg47NldzVuvrmTIyPYsnr8t9IjyklqyspvvfuXzBtg7dAPHMc2es0//QXlMurAvjmPo3T+X+Oq3oX7T3qNuGgfTW8HVz8MEYPsTmJThENsO4rsf85onIiLSSIPQpVXdd999jBw5kuTkZHJycrj44otZu3ZttMsSkQPY/SY0bmR1g7iDzwIV+OBRfM/dhP+jx0guXcFVt5zFlRPc1Pk9bKtqvO6z2ZuYPXMdn8/dgt/vsHb1HgKBYEuDMYb6Oj9nndsblzv4q6h7ryy6NNNqss+3bxpJbJxr7/UHf5fYOBff+s5IBo/owNBRHUlIjIGGbfudsX9Lz8F+Dfqh8nPY8zpUzD/4w0RE5IipBaQN2HzR+RF7Vpc33j6i8z/55BNuueUWRo4cid/v5+c//zkTJ05k9erVJCYeepCpiLQsU1dJ4JOnMJW7cQ25ELvXGaFjrmGXYrUfCL56rPz+gMH/8g+hqqjpjbzBWarMhrkENszFHn0Vrik/J2fkThKWfkp9vR/HMaSmxfPCPxaHXTpwWD6rvthJXLyHb04dRly8h1GndiY+0cM3pw7H7T7438UGDWvP1O+fwtOPfAYEx28cGET6Dcrjh78YT0zsAb/eEnpCTTNT/BI46PNCatdD2qlff56IiBwWBRBpVTNmzAjbfvbZZ8nJyWHJkiWcccYZB7lKRFqaMQ7+z56DLUsBQ2DWXwnMegLSO+A+76dYSVlYOT2gtgxTVYQp+By7x1icL6YHF+UzzsHvvXU51pCLSMhtzy8fOJfZ768nMzuRbQVl+68aQpfuGdx65xnYLhu3y6Kmxsu0m17D73NwjCE5OZZLvzUkdH55WR3P/HUBZSW1XHjFQAYNa8+nH27Y752a1pKaFtc0fABknguuZKhcSNhaJrgJbxEB3BkQqALjD54b1+ng31gRETliCiASURUVFQBkZGREuRKRk4fxNeB/+3dQtOHAI1C+g8AnT2OcAFSXNB0LkpiJ1XEQVkI6ztLXmr2/1WlI6Ov2HdO4+saRAMx4fRXGMViWhWXBzT8+nbj4xvU/9uyuxtvQ2AKxtaBxgUIn4PDM4/NZvmQHxsDjD83h8quH8tWq3Yd81zFndAu+mTEYA7YdHLthWTakn46xPI3T7QKkjoZA9X7jQCxI7APJg6F6VXBhwqT+h3ymiIgcGQUQiRjHcbjjjjsYO3YsAwYMiHY5IicNs2VJM+Fj30EHs33FwS+uKcFu1w+r52lgu3DWzcHK7YU19BKcec9i+Rogq2vwVpVF+D97Fnx1UFPK2ZW76XfJQGbsOYVT2u8ka8tbmLQLsOKD40Q6dUmnU5f00Mro8YkevA1+/H6HP/xiJts2l4fKcAKGujrfQcu0LBgxphODR7Tny+WFPPbgHHzeAN/+7kjOnNAVatYFV1S3D5ge2J0Mib2CYYMA+1o8LFdiMJyIiEiLUwCRiLnllltYtWoVc+fO/fqTRaTFmEPN4JSc0/w4jwNYloU95EJMXSWmaD3Mew62r8RYYN67H/uqR/G/9VuoLg67rl39Sob7y+hZvgNnucHZuRrPpfcC4Pa4+MUfJnLnzW9QVVHP/E8KsCyLXv1ywsIHwPhJvTjv0v6sXb2btV821uty2wT8Dm63zbkX9QPg308vpK7WizHwryc/Z2zfRbgDO4MXJA6AhN5Qtxniu0FiXyzLhUkeAlVLgudULYO4Dl/7PRERkaOjACIRceutt/L2228zZ84cOnTQL3aRSDDlOwksfhWzae8sTrYLMjpD8SZg7zoYyTmQmAG71jS9ge3C6jwCq/sYAJxVMzBfvg+YxlEUBjAB/Iv/FxY+zN4nAMxc154l8RlcP2gFFBeEPcIfMFSW14e2139VxO6dlWHnfOuG4Uy6MBgufn7vJLzeAJ9+tIG6Wh+nnNGVkqJqctslk5oejyn9GLcpIfjrzcJlO1jeXbBvSY+6DVgdb236rrXr9/t6DcaZiGXHNPt9FRGRY6MAIq3KGMNtt93G9OnTmT17Nl27do12SSInBeP34n/j11Bf1bjTCWAPPh9TtBGz8p3gvsIvsYZeguuM7+Bf8AJsXRbcH5uI+9qnsWwbU1eBf9ZfMbvXhz9k/8Hpa2eHP99yU91gM3dbR9aWZlIUuzdkJGWFnZeYFEP/wXl8uTw49qTPgFzmfLgxdDwzK4GlC7ezZ3c1l187jNhYNzExLs6e3Dt0zr51Q4x3N1Qt5cZvuXnq36k0eC2uvrQqfD3BuI7Nf8NisqFu7/fKlQSWp/nzRETkmCmASKu65ZZbePHFF3njjTdITk5m167gh4zU1FTi4+OjXJ1I22WqS8LDxz4NNVh5PTEr9+2wsAI+SMnFyumJKVwTHMPRUE3g/f/D1FeB3wul28JnwsrpgWv8LQTm/A0Kw6e39dnx/OGzU9hWnhDaNzSvCBLScZ17Z9i5lmXxw1+exYolO0hIjCEhMSYsgJQU11JSXMvaL3cTF+/hsm8PpTkle2pwW35SgC4d/dz381KwY8HxAlZwMHnqKEga1Pg9MgbqNkD9zmDgiG0XnAEr9RQtPCgi0ooUQKRVPfHEEwCMGzcubP8zzzzDddddF/mCRE4Spqak2f3O3H+Aa7+/7qfmYw+aQmDus5g1H4XfY8vS/bYaP5C7Jt8VnBnLsqHXGQTCAojFp9s7h8KHy2Vx0/8by+ixV2O7ml/jw+NxMfyUxqlur75xBO+9sZrS4trGWgiGjOY8/ehnfDZrE7Zt8d3vDqZs12benx1Hrz5pXHOVzQsv1bB2g82Y0wNcdsH8YFe05KFQ9AZ4d4TfzE7A8qQ1+xwREWkZCiBtwJEuDhhJ5lDLFYtIq7E8cQc/GGicTcp1+o04O1dj1nx8qLuBOwb8DVh9zsbqODjUQmD3GQdJmTgFCzEVhdiZnfl0ZQKWVYsxEBvn4ZTTuxxRi8LEC/ri9fp55d/LGut02UyY0geAFUt38NWKXQwYms/unVV8NmsTAI5jeOXVKkr2BN990cIKSsqz2Li2AWPgnelr6Z1TzqB+3uAgdG9h04c3NLNPRERalAKIiEgbZGV2DrZ0BA4+dS0AgQacj/58wMU29BgLRRuhYifEp+K66B6shLRmg43dYSB2h4Gh7RuyivnHY/Px+QJM/d7oo+rOtGtnePex2+86k+69sli9opA//vZjLNvi3ddX075Tath5+68zAuBt8IctmV7fAGDAW0xoIP7+kvodca0iInJkFEBERNoYU1uOf/ovDx0+MrvgGnw+OIGmx2w3rP8U3HFYZ9+G2b2OwIIXcPUYC91GB9cN8TdgdRqG5Wr6a6RbzyzuffSCY3qHA7tbVZbXs2zRdrZsKg3mCScYHBKTGmeqsl0Wt/7kdGa88RWffLCB+EQP9Q2+0Ll9ezUwdGDD3rP3rnIO4MqCxJ7BqXe16rmISKtTABERaWOc9XODq5ofguvUa7Fik/C//qvGnZYN2V2DLR8A/nrMR38JHQ5sXgSxSdBQHTy983DcBwwqbymnnN6F1SuCk1Ykp8Tyj8eCUwn36peDy23j9znYtkXx7ho6dU0nJTWOrj0ySUqO47ofnML2LeVsXFdMTZU3dM+xI+vxuAEsjDHsa5gJOD7c6WNb5T1ERKQpBRARkTbGSkynSdei/Y+364uV2wtn4UthrSTW6d/F7FjRGECaszd8QHCFdRPwYblafsraM8/pSX7HVEr21PCf5xoHw69bXcRv/ziFeZ9uYsbrX1FaUktpSXCw+qplhXw2awOeGIvdhXVN7hkcA29RS3cSrMaV4V2mAlM+Dyvt1BZ/DxERaUoBRESkjbG6j8Gu2IWzbTlUFIZNx+ua8nOs9gOCM1il5oVNrWsWvgj1lc3dsnkxCZiGWqyE1K8/9yj07JNDzz6wdME2FpZswbIssnKT6NQtnV2FWc1eU1pSj2XtvwwiuN02Y87oyqgLh4HLZvuK9WxbtZ2szACD+vqCXboq5kHKCC0+KCISAQogIiJtjGXZuIZ/A9fwb+D/6C+YjfODg7BdHqycHuD34f/oz5hty8Mv/LrwEZ8GdeWN2946nLn/wJ44raVfIcyNt42hfec0aqoaOPOcHliWxdBRHekzIJc1q3aTlBxLdVUDlgUul4Pf3xg+Jp7fmyumDsfjCa5GaKpW8OHrn7NwWTA0XXpeFeefU4vBhctyNft8ERFpWQogIiJtmGvsdQRsN9SWYQ+5CCsmgcCqGZgtS47oPla/c7BPvRZn+TuYRS/v3Wsw1cUtX/QBYuM89Oqbw8P3zmLmW2s475L+fHPqMO763TnU1niJi/ewaN4WCgvW8ebru0O15eUncvV3RoXdy1vyBQuXNc7k9cGcBAb181JYM5hTuyqAiIhEQvOrQomISJtgxSXjHv8D3FN+jt2+/+FddOp1EJcctsus/oDAO/ftFz4Ay8Y19GIAqqsaWLVsJxXlTcdeHIuK8jrmzt7Eo/fNpqHeD8C7079k2k2vsml9CYlJsbhcNqec3pUzp5yG41gEu19ZFO2q41c/fJvdhY1d0DwJmWRn+rFtAxiqql385Zls+o4c3aJ1i4jIwakFRETkJGP3HofZ+gVm20rAaXrC/H9h9T4Ts2ZW+P5da8M2XVf8ETutHWWltfzqh29TVdFAXLybe/7vPNq1P/ZxIWWltfz8tjeprWk6nXDJnlqe+et8brp9LGkZ8aSmxbN7Z1XY0h6OY9i2pZz//mspt/30TACsrIn89KefMPOdrcR4fJwywk+7QZfhSUg45npFROTwKICIiJxsbDe4YwEHXDEQ8IYfNw6U7Wh6XWoulO8ELEjvgJWaB8AXC7dTVRFcX6Oh3s/CuVu46JuDjrnML5cXNhs+9hbJrh1l3D3tHdwemx/ffTaffLihmaUFDYFAY8iy7Biye53D1T0N+CvAlaCB5yIiEaYuWNKqnnjiCQYNGkRKSgopKSmMGTOG9957L9pliZzUzLblmIKFwQ3HFwwh+3PHQkpu47btxhp0Aa6Lf4d9+o3Yo6/EfcGvQiuc53cMtnbsW3B83/ax6tQlvck+j8cixuOQkODg8wWfH/A7fPTeWtrlp4TqCA5It8jKTuLya4Y2uY9lWVieNIUPEZEoUAtIG1Bz+4SIPSvxzx8e0fkdOnTg/vvvp2fPnhhjeO6557jooov44osv6N//MPuji0jLcod/6LaHXICV1h6nthzzxetQX4lZ/ylk98DuPhq7+6lYSZnBk/ud0+R2ffrncvOPT2fZou30HpDLiDEts5p4p64Z3PHzcbz0zBIaGvxccNlAvlyyltuvXUdpuc2dv8ki4ARDSHZuMlO+MQDHGAq3V3DGhB70H9wuFJJEROT4YRljDr5alURUZWUlqampVFRUkJKSEnasvr6egoICunbtSlxcXNix4zmANCcjI4OHHnqIG2+88ajvcajvh4gcmjEG5/MXcdbNwcrtiWv8LVgx8ZjqEvwv3BJ+ckYn3Jf+Act1fPy9qnBHBVuWvsroQaUsWx3P7MVdyeuQyze+NZiY2OOjRhFp2w71eU0Oj35aS8QEAgFeeeUVampqGDNmTLTLETlpWZaF65SrcZ1yddh+E99M16nSrcHFDDM6Hvb9N67bw4w3viItPZ5Lrx5CfHzLrZTern0q7drfgAnUMaSTh6GT9WtMROREo5/c0upWrlzJmDFjqK+vJykpienTp9OvX79olyUiB7BdbgK5vWH3frNdxSZCcvZh36OuzscDd3+It8EPlkV9vZ8bb235PzhYrvgWv6eIiESGAoi0ut69e7Ns2TIqKir43//+x9SpU/nkk08UQkSOQ+7z7iKw5iPYvR4SMnD1m4DlOfxujlUV9aH1Otg7HuNAjmN485WVzP14I0nJsVxx7VD6DWrXUq8gIiLHOQUQaXUxMTH06NEDgOHDh7No0SIeffRRnnrqqShXJiL7MwEfZvtK7MyuWAOnNBnAbSqLwHY1Dkjf/1jZdgJLXyfDE8foke34fFEplgUTL+jb5NwFnxYw/aXlAOzZXc1D93zE/z11CZnZia3zYiIiclxRAJGIcxyHhoaGaJchIvsxxhB4937Mzi8BsEdegWvYpaHjgUWv4Cx9NXhs7PW4Bkza71oH/9u/h7pKAG4aMpBzr7iJ5JQ4snOTmjyrZE9N2LbjGIp2VSmAiIicJLQOiLSqn/3sZ8yZM4fNmzezcuVKfvaznzF79myuvvrqr79YRCKnoToUPgCcdZ+GvjbGwflieuOxpa+FX+v3QW15cAFD40BFId16ZjUbPgDGjutGUnLjVMB57ZPp3iurZd5DRESOe2oBkVZVVFTEtddeS2FhIampqQwaNIiZM2dyzjlN1xIQkSiKSYTkHKguBmOwcnvtd9CCxAyoKQl+nRQeFixPLFaf8Zg1swCwB0055KMyshJ5+O/fYO3q3TgO9BmQqyl0RUROIloH5DhytOuAnIz0/RBpeaa6BOfL9yE2EXvAuVj7LVhoSrcRWPgfcLlxjf4WVkpO+LXGQMlmcMdipeVHuHIRkcjROiDHTn9yEhERAKykTFyjrwKgevYsaj6ZTUzPXqR980qsjI64z/3xwa+1LMjqGqlSRUTkBKYAIiIiYRo2bKD44T8CULd0Ca7kJFIuuCjKVYmISFuhQegiIhLGv6eoccO28e3eHb1iRESkzVEAERGRMPFDhuLp1BkAKy6O5HMmRrkiERFpS9QFS0REwtjx8eT/6RG827bizsnFldT8dLoiIiJHQwFERESasDweYrt1j3YZIiLSBqkLloiIiIiIRIwCiIiIiIiIRIwCiIiIiIiIRIwCiIiIiIiIRIwCiETU/fffj2VZ3HHHHdEuRURERESiQLNgtQG+p66M2LM833v5qK9dtGgRTz31FIMGDWrBikRERETkRKIWEImI6upqrr76av72t7+Rnp4e7XJEREREJEoUQCQibrnlFqZMmcKECROiXYqIiIiIRJG6YEmre/nll1m6dCmLFi2KdikiIiIiEmUKINKqtm3bxv/7f/+PDz74gLi4uGiXIyIiIiJRpgAirWrJkiUUFRUxbNiw0L5AIMCcOXN47LHHaGhowOVyRbFCEREREYkkBRBpVWeffTYrV64M23f99dfTp08ffvrTnyp8iIiIiJxkFECkVSUnJzNgwICwfYmJiWRmZjbZLyIiIiJtn2bBEhERERGRiFELSBtwLIsDRsPs2bOjXYKIiIiIRIlaQEREREREJGIUQEREREREJGIUQEREREREJGIUQEREREREJGIUQEREREREJGIUQEREREREJGIUQEREREREJGIUQEREREREJGIUQEREREREJGIUQEREREREJGLc0S5Ajp0z+46IPcse98gRnX/PPffwm9/8Jmxf7969WbNmTQtWJSIiIiInCgUQaXX9+/fnww8/DG273fpnJyIiInKy0idBaXVut5u8vLxolyEiIiIixwGNAZFWt379evLz8+nWrRtXX301W7dujXZJIiIiIhIlCiDSqkaPHs2zzz7LjBkzeOKJJygoKOD000+nqqoq2qWJiIiISBSoC5a0qsmTJ4e+HjRoEKNHj6Zz587897//5cYbb4xiZSIiIiISDWoBkYhKS0ujV69ebNiwIdqliIiIiEgUKIBIRFVXV7Nx40batWsX7VJEREREJAoUQKRV/fjHP+aTTz5h8+bNzJs3j0suuQSXy8VVV10V7dJEREREJAo0BkRa1fbt27nqqqsoKSkhOzub0047jQULFpCdnR3t0kREREQkChRA2oAjXZ08kl5++eVolyAiIiIixxF1wRIRERERkYhRABERERERkYhRABERERERkYhRABERERERkYhRABERERERkYhRABERERERkYhRABERERERkYhRABERERERkYhRABERERERkYhRABERERERkYhxR7sAOXZmy/9F7FlW5x8f8TU7duzgpz/9Ke+99x61tbX06NGDZ555hhEjRrRChSIiIiJyPFMAkVZVVlbG2LFjGT9+PO+99x7Z2dmsX7+e9PT0aJcmIiIiIlGgACKt6oEHHqBjx44888wzoX1du3aNYkUiIiIiEk0aAyKt6s0332TEiBFcfvnl5OTkMHToUP72t79FuywRERERiRIFEGlVmzZt4oknnqBnz57MnDmTH/zgB9x+++0899xz0S5NRERERKJAXbCkVTmOw4gRI/jDH/4AwNChQ1m1ahVPPvkkU6dOjXJ1IiIiIhJpagGRVtWuXTv69esXtq9v375s3bo1ShWJiIiISDQpgEirGjt2LGvXrg3bt27dOjp37hylikREREQkmhRApFX98Ic/ZMGCBfzhD39gw4YNvPjiizz99NPccsst0S5NRERERKJAAURa1ciRI5k+fTovvfQSAwYM4He/+x2PPPIIV199dbRLExEREZEo0CD0NuBoViePpPPPP5/zzz8/2mWIiIiIyHFALSAiIiIiIhIxCiAiIiIiIhIxCiAiIiIiIhIxCiAiIiIiIhIxCiAiIiIiIhIxCiAiIiIiIhIxCiAiIiIiIhIxCiAiIiIiIhIxCiAiIiIiIhIxCiAiIiIiIhIx7mgXIC2gdnrknpVwyRFf0qVLF7Zs2dJk/80338zjjz/eElWJiIiIyAlCAURa3aJFiwgEAqHtVatWcc4553D55ZdHsSoRERERiQYFEGl12dnZYdv3338/3bt358wzz4xSRSIiIiISLRoDIhHl9Xp5/vnnueGGG7AsK9rliIiIiEiEKYBIRL3++uuUl5dz3XXXRbsUEREREYkCBRCJqH/84x9MnjyZ/Pz8aJciIiIiIlGgMSASMVu2bOHDDz/ktddei3YpIiIiIhIlagGRiHnmmWfIyclhypQp0S5FRERERKJEAUQiwnEcnnnmGaZOnYrbrYY3ERERkZOVAohExIcffsjWrVu54YYbol2KiIiIiESR/hTdFhzF6uSRNnHiRIwx0S5DRERERKJMLSAiIiIiIhIxCiAiIiIiIhIxCiAiIiIiIhIxCiAiIiIiIhIxCiAiIiIiIhIxCiAiIiIiIhIxCiAiIiIiIhIxCiAiIiIiIhIxCiAiIiIiIhIxCiAiIiIiIhIx7mgXIMeuPvBWxJ4V57rgiM4PBALcc889PP/88+zatYv8/Hyuu+46fvnLX2JZVitVKSIiIiLHKwUQaVUPPPAATzzxBM899xz9+/dn8eLFXH/99aSmpnL77bdHuzwRERERiTAFEGlV8+bN46KLLmLKlCkAdOnShZdeeomFCxdGuTIRERERiQaNAZFWdeqpp/LRRx+xbt06AJYvX87cuXOZPHlylCsTERERkWhQC4i0qrvuuovKykr69OmDy+UiEAhw7733cvXVV0e7NBERERGJAgUQaVX//e9/eeGFF3jxxRfp378/y5Yt44477iA/P5+pU6dGuzwRERERiTAFEGlVd955J3fddRdXXnklAAMHDmTLli3cd999CiAiIiIiJyGNAZFWVVtbi22H/zNzuVw4jhOlikREREQkmtQCIq3qggsu4N5776VTp07079+fL774gj/96U/ccMMN0S5NRERERKJAAURa1V/+8hd+9atfcfPNN1NUVER+fj7f+973uPvuu6NdmoiIiIhEgQJIG3Ckq5NHUnJyMo888giPPPJItEsRERERkeOAxoCIiIiIiEjEKICIiIiIiEjEKICIiIiIiEjEKICIiIiIiEjEKICIiIiIiEjEKICIiIiIiEjEKICIiIiIiEjEKICIiIiIiEjEKICIiIiIiEjEKICIiIiIiEjEuKNdgBy7wtqnIvasdgnfO+Jrqqqq+NWvfsX06dMpKipi6NChPProo4wcObIVKhQRERGR45laQKTVfec73+GDDz7g3//+NytXrmTixIlMmDCBHTt2RLs0EREREYkwBRBpVXV1dbz66qs8+OCDnHHGGfTo0YN77rmHHj168MQTT0S7PBERERGJMAUQaVV+v59AIEBcXFzY/vj4eObOnRulqkREREQkWhRApFUlJyczZswYfve737Fz504CgQDPP/888+fPp7CwMNrliYiIiEiEKYBIq/v3v/+NMYb27dsTGxvLn//8Z6666ipsW//8RERERE42+gQora579+588sknVFdXs23bNhYuXIjP56Nbt27RLk1EREREIkwBRCImMTGRdu3aUVZWxsyZM7nooouiXZKIiIiIRJjWAZFWN3PmTIwx9O7dmw0bNnDnnXfSp08frr/++miXJiIiIiIRphYQaXUVFRXccsst9OnTh2uvvZbTTjuNmTNn4vF4ol2aiIiIiESYWkDagKNZnTySrrjiCq644opolyEiIiIixwG1gIiIiIiISMQogIiIiIiISMQogIiIiIiISMQogIiIiIiISMQogIiIiIiISMQogIiIiIiISMQogIiIiIiISMQogIiIiIiISMQogIiIiIiISMQogIiIiIiISMS4o12AHLvZO5+L2LPG5U894mvmzJnDQw89xJIlSygsLGT69OlcfPHFoePGGH7961/zt7/9jfLycsaOHcsTTzxBz549W7ByERERETkeqAVEWl1NTQ2DBw/m8ccfb/b4gw8+yJ///GeefPJJPv/8cxITE5k0aRL19fURrlREREREWptaQKTVTZ48mcmTJzd7zBjDI488wi9/+UsuuugiAP71r3+Rm5vL66+/zpVXXhnJUkVERESklakFRKKqoKCAXbt2MWHChNC+1NRURo8ezfz586NYmYiIiIi0BgUQiapdu3YBkJubG7Y/Nzc3dExERERE2g4FEBERERERiRgFEImqvLw8AHbv3h22f/fu3aFjIiIiItJ2KIBIVHXt2pW8vDw++uij0L7Kyko+//xzxowZE8XKRERERKQ1aBYsaXXV1dVs2LAhtF1QUMCyZcvIyMigU6dO3HHHHfz+97+nZ8+edO3alV/96lfk5+eHrRUiIiIiIm2DAoi0usWLFzN+/PjQ9rRp0wCYOnUqzz77LD/5yU+oqanhu9/9LuXl5Zx22mnMmDGDuLi4aJUsIiIiIq3EMsaYaBchQZWVlaSmplJRUUFKSkrYsfr6egoKCujatas+mKPvh4iIiETHoT6vyeHRGBAREREREYkYBRAREREREYkYBRAREREREYkYBRAREREREYkYBRAREREREYkYBRAREREREYkYBRAREREREYkYBRAREREREYkYBRAREREREYkYBRAREREREYkYd7QLkGP3+JcvROxZt/S/+oivmTNnDg899BBLliyhsLCQ6dOnc/HFF4eOv/baazz55JMsWbKE0tJSvvjiC4YMGdJyRYuIiIjIcUMtINLqampqGDx4MI8//vhBj5922mk88MADEa5MRERERCJNLSDS6iZPnszkyZMPevyaa64BYPPmzRGqSERERESiRS0gIiIiIiISMQogIiIiIiISMQogIiIiIiISMQogIiIiIiISMQogIiIiIiISMZoFS1pddXU1GzZsCG0XFBSwbNkyMjIy6NSpE6WlpWzdupWdO3cCsHbtWgDy8vLIy8uLSs0iIiIi0jrUAiKtbvHixQwdOpShQ4cCMG3aNIYOHcrdd98NwJtvvsnQoUOZMmUKAFdeeSVDhw7lySefjFrNIiIiItI6LGOMiXYRElRZWUlqaioVFRWkpKSEHauvr6egoICuXbsSFxcXpQqPH/p+iIiISDQc6vOaHB61gIiIiIiISMQogIiIiIiISMQogIiIiIiISMQogIiIiIiISMQogIiIiIiISMQogIiIiIiISMQogIiIiIiISMQogIiIiIiISMQogIiIiIiISMQogIiIiIiISMS4o12AHLvvffpixJ711OnfOuJr5syZw0MPPcSSJUsoLCxk+vTpXHzxxQD4fD5++ctf8u6777Jp0yZSU1OZMGEC999/P/n5+S1cvYiIiIhEm1pApNXV1NQwePBgHn/88SbHamtrWbp0Kb/61a9YunQpr732GmvXruXCCy+MQqUiIiIi0trUAiKtbvLkyUyePLnZY6mpqXzwwQdh+x577DFGjRrF1q1b6dSpUyRKFBEREZEIUQuIHHcqKiqwLIu0tLRolyIiIiIiLUwBRI4r9fX1/PSnP+Wqq64iJSUl2uWIiIiISAtTAJHjhs/n44orrsAYwxNPPBHtckRERESkFWgMiBwX9oWPLVu28PHHH6v1Q0RERL5Wcd1WCqqWkeROp3faqdi2K9olyWFQAJGo2xc+1q9fz6xZs8jMzIx2SSIiInKcK6rdyuryWQDU+MuoL61haNa5Ua5KDocCiLS66upqNmzYENouKChg2bJlZGRk0K5dOy677DKWLl3K22+/TSAQYNeuXQBkZGQQExMTrbJFRETkOFVeWxgKH/tUeYujVI0cKQUQaXWLFy9m/Pjxoe1p06YBMHXqVO655x7efPNNAIYMGRJ23axZsxg3blykyhQREZETxLLy95vsS4nJjkIlcjQUQNqAo1mdPJLGjRuHMeagxw91TI5PxhgCpgqXlYBl6ceIiIhEht/xsbbssyb7LSyGZE2KQkVyNPTJQUSOiM9XQ7Hv+b1bFllxl+Ox06Nak4iInBy+KH6PGn9Zk/0jMy+OfDFy1DQNr4gckWLfC/ttGSrqP4laLSIicvIord/ZJHzEkMDonEtIiNXsmScStYCIyGGr8xcA4V3mAtRHpxgRETkpVHiL2FixhEpfUdh+C5shOZOIdyt8nGgUQETksNX4VjbZl+6eEIVKRESkrTPGUFi7nnUV85scy4rrRO+0sXhszZZ5IlIAEZHD5rKT8QUKQ9vx1iBiYrKiWJGIiLRFxhg+L5pOfaCqyTHbctE9ZYTCxwlMAUREDltqzBjwOgRMNUmeocS5OkW7JBERaYO213zVbPhIj8mnZ9oo4t3JUahKWooCiIgcNtuKIz327GiXISIibZjPqWdb1aom+zslDqJb6tAoVCQtTQFERERERKIuYPxsq1rNluoVGAJhx/qln0lOfJfoFCYtTgFERERERKLK73hZVPQmDU5Nk2PdUkYofLQxCiAiIiISdQGvj3V/fxdfRQ25ZwwEyyZ7dB9slyvapUkEfFU6t9nwAZAR0z7C1UhrUwBpAyb8/d2IPevD75x3xNfMmTOHhx56iCVLllBYWMj06dO5+OKLQ8fvueceXn75ZbZt20ZMTAzDhw/n3nvvZfTo0S1YuYiIHM8W3PYX1v39HcACE1xvqP25I5n47v3RLUwiosS7vdn9vVNPJSkmLbLFSKvTSujS6mpqahg8eDCPP/54s8d79erFY489xsqVK5k7dy5dunRh4sSJ7NmzJ8KViohIJNWXVPDagBt4NmYiG56bGVzn1DQudrpjxiLWPTMjegVKqzPGsKpkFgcucgtwas43aZfYM/JFSatTC4i0usmTJzN58uSDHv/Wt74Vtv2nP/2Jf/zjH6xYsYKzz9aMSyIibdVn3/kjFau3AM19/Axa+/Tb9Lr+3MgVJRG1sWIxxQ1bm+wfkDaBGHdcFCqSSFALiBxXvF4vTz/9NKmpqQwePDja5YiISCtpKKtiz+I1X3teXEYyVZt3RaAiiTSf08CO2qb/BvqnjyMrQeM+2jIFEDkuvP322yQlJREXF8fDDz/MBx98QFaWVtgWEWmLylYV8Gqva6nbUdL8CbaFHeMmLjuV7e8t5NUe17D51TmRLVJaXZWvBIMTti/JnUl2fOcoVSSRogAix4Xx48ezbNky5s2bx7nnnssVV1xBUVFRtMsSEZEWZoxh5sQ7aSipPPhJjmHUo7dQv6cieI3jsPov0yNUoURKkjsdl+UJbWfGdmBI1qQoViSRogAix4XExER69OjBKaecwj/+8Q/cbjf/+Mc/ol2WiIi0NGOo210etsuO8zQ5raGkEndCHNgWlm2R2qdThAqUSHBMgB01a0iLySUvvgf908cxIOMs3HbTfwvS9mgQuhyXHMehoaEh2mWIiMhhMMZA/VZM2TZMpY8dX3qZ/6NnsYDT/3UX7c5oHNNn2TadLhzD1jfmhfb1u+USVv3xv6FtOz6GXtedS/5Zw1j96KsktM9m6D1TI/lK0soKqpaxrXoVYGFh0S1lGJZlRbssiRAFEGl11dXVbNiwIbRdUFDAsmXLyMjIIDMzk3vvvZcLL7yQdu3aUVxczOOPP86OHTu4/PLLo1i1iIgctsrPMVtmEliwBsfv8OlPS/DWBOe1mjFuGhcs/CtZI3qHTj/rtd+y9Jf/pHjpOrpdeRarH3k17HYXf/E0CflZJORnkdq7I3W7SnEnxEb0laR11foq9n5lMBjqAzXEuOKjWpNEjgKItLrFixczfvz40Pa0adMAmDp1Kk8++SRr1qzhueeeo7i4mMzMTEaOHMmnn35K//79o1WyiIgcierVOEXlYAwBnwmFj31WPzadM569K7RtWRbD770xtF3wn9mwYhNYEJuWTFLnXAB2z/uSmefcSaCugeTu+Uyc+QAp3fIj8UbSyvITe1HSsB0wpHiySPJkRLskiSAFkDbgaFYnj6Rx48YFm+cP4rXXXotgNSIi0uLi2mOlFWAAT5xN5xExbFnsDR1O7JBz0EurCgrZ+fFSwIAD/X94Ga7YGAC++strBOqD3XGrNu7krZE/4IrNL+FJTmjNt5EIyIzrwOicS2kI1JASk4VtaVjyyUQBRERERI5NxtnYnkyI/wpT4aOu6pXGY7ZFat9OLL/3BeLbZdBj6kRslyt0uHT5RozXD4DlsqnZvid0LLFDTtgKhd6yairWbSdreK9WfyVpffHuJOLdSdEuQ6JAAURERESOiWW5IWUErv4jAMicVEfR2r2t28bw6TX3gQUYqNqwg+F/+E7o2tyxA4jNSqWhuALjGDpfclro2JB7rmXPwq/Y/elKABI7ZpPWV7NhiZzoFEBERESkRY1++GYq129nx8xF4Oxtwtj7fwpenUNq385YtkXXK8YRl53GhUufYs1jr5MxrCftJ44I3ceTGM95nzzC9hkLqS7YRedvnB6cmldETmgKICIiItKiLMtiwA8vY+f7izGEjwGsWr+DT6feD8C2dxZw5gu/YN53/8iOGYsA8JZV0ed7F4Rdk9Qlj91zVrDt7QX0vG4Slq3xAiInMgUQERERaXH5E4Zz3tw/8964H+I0+Jo9Z8vrc3ml29XUbNkd2rfmiTdJ79+FOdfeR6DBx4gHv8eCW/+Mv7oOE3BY+st/MuaJO+h80dhIvYocA2MMszcVsrmsmvHd29ElPTnaJclxQH9CEBERkVaRM7ovFyx4nH7/7xvEpCeBvd9Ccxa4E+Kp2Va03z6LjCE9mHvDQ1RvLaKusJR53/0TvooaTMABoG5XKR9/49dsn7Ewwm8jR+Pdtdu4d9YyXlq+gVvfmEdJbX20S5LjgAKIiIiItJqMwd0Z/fDNXLzi7/T49oT9jlh4EuOwaAwl/f7fpYx57HacgBMaM2KMQ1LXvPCbOoYPLvgFZV9ubvX6JehQ0+kfyspdZdhWcChQvT9AQWlVC1cmJyIFEBEREWl1ie2zic1IaRy/YQw124qwXMHtjKE9GHH/TXiS4jn1yTuIzUjGnRTP6f/4CRcueoJOF58WfsOAQ8nS9RF+i5NPlbeEebteYU7h82yr/vKIrx/bOTc0D0F6fAy9s9NatkA5IWkMiIiIiERE+3NH8eUjr4btc3zBNUBKv9jAppc+pufUSbQ/ZwTf2jM97LziRWvCtl2JsbQ7a0ir1iuwoXIRXqcWgI2Vi0n2ZJEWm3vY15/eNY8/XzCGLeXVjO6YQ3Ksp7VKlROIWkBEREQkItpPHMGkDx4iNisFINT6sc/WNz5j00sfY4zBV1XLpzc8yHvjp7Fz1he4E+PCxpAEahoo+M/sSJZ/Utq/ixwEQ8iR6pebzuTeHclIiG2psuQEpxaQNuCsn7wTsWd9/OCUI75mzpw5PPTQQyxZsoTCwkKmT5/OxRdf3Oy53//+93nqqad4+OGHueOOO46tWBEROe7knz2Myze9SNG8L0nslMPCHz1B4cdLwYGtb85j6+ufUb+nnA0vfEjJorUA7JqwnHEv383SX/2TynXbQ/cq+O9sBky7PFqvclLoljKcpcWNnzMcE4hiNdJWqAVEWl1NTQ2DBw/m8ccfP+R506dPZ8GCBeTn50eoMhERiQZPUjztJ44grU8nJr5zH+d++MdgVyzHgAW7Pl1B2cqCxgsM+GvquHj530jIzwy1nOSdMShKb9D21Xh9vLF6C4u2NtAlaRhg4bLc9EgdeVjXbq+oJuAc3cB1afvUAiKtbvLkyUyePPmQ5+zYsYPbbruNmTNnMmXKkbeyiIjIiStjUDcS2mdRu6MYDHS64FSMY9g6fS4Q7KqVd+ZgXLExTJn3F9b9/V0S2mXS6yb9vmgNxhjufHch64orALi4X2d+MOZqLCxs6+B/u95SVsVP3ltISW0DAL2yUnn4/FOIdbsiUrecONQCIlHnOA7XXHMNd955J/379492OSIiEmGuhFgSuwQHNlsuF/HtMjjrlV8z8v9+QGrfTnjSEpl740NsfOkjEvKzGPbb6+nzgwux9cG2VazaXRYKHwCfbyvCZbkOGj4cY6io9/LMknWh8AGwrriCxTuKW71eOfGoBUSi7oEHHsDtdnP77bdHuxQREYmC0uUb2fNZcIpX4zh89fgbtD9nBPG5aVR8tRWAXbOXs2v2cra89ilnvXJPFKtt2+Zv2c2vPlgStm9kh+yDnl9cU8+0dxaws7KWlGZmuMrUwHNphgKIRNWSJUt49NFHWbp0KZZlff0FIiLS5sSkJ2O5XRh/ACxI6dYOAP9+f03fZ8urn+KvrcedEBfpMk8KnxTsCi0cCHDFwK7cOLL3Qc9/e81WdlUFp+mtbPCFHbtiYDf6aN0PaYa6YElUffrppxQVFdGpUyfcbjdut5stW7bwox/9iC5dukS7PBERaWW1O4t578wfYvwBXPGx9P7OeQz93fUAdL1qPDFpSU2uKV+9JdJlnjR6Z6WEwocNTOjRHpd98I+LSTFu9l8kff8/JQ7vkNUqNcqJTwFEouqaa65hxYoVLFu2LPRffn4+d955JzNnzox2eSIi0so2vvhxcPA5EKhrICY9mc9u+iOLfvoU/qo6vOXVYee7UxJI6dUhGqWeFBJjGrtROcDNb3zGql2lBz3/wr6dmdSrA+1TErhsQFe6pCdhAef0yGdofmbrFywnJHXBklZXXV3Nhg0bQtsFBQUsW7aMjIwMOnXqRGZm+A8oj8dDXl4evXsfvMlXRETahsSO2ez/J/SVD74MezfX/eM9Unq2p3L9jtBxf3Udpcs2agreVlJUU4dF6H8CAo7hra+2MiAvo9nzY9wufhz2v0VfAo7BZatbtRycAoi0usWLFzN+/PjQ9rRp0wCYOnUqzz77bJSqEhGR40HXK8ZRXbCLHR8sxpMcz7Y354eOeUur8CTFh19gYMeMhQograDW6yc3KZ4Ej5sanz+0Py85nop6L8U19XRJT/7acKHwIV/HMsZolZjjRGVlJampqVRUVJCSkhJ2rL6+noKCArp27UpcnAbe6fshInLiqdtdyoLb/kJtYQmDf/FtOpw7Kuz4tncX8OH5v/ja+0yc8QDtJ45orTJPKl5/gD9/9iWzN+3E6zg4Bty2xYV9O7NyVykFpVUYDGARMIZBeek8eN5o3HvHhQQcw/riClLiYshPSYjuy0TIoT6vyeHRGBARERGJiAW3P8aW6XMpmreajy65G29F+PiODpNH0/u7B19c0I5xc9ozP1H4aEF//HQFM9Zvpz7ghAafO8bgdxzK6rz4jSFgILD379UrdpWxbk9wjRBjDL/+YAm3vjmPa/87m3s//oK6/VpORA5GAUREREQiorawBOMYMAanwYevqo7t733Oa/2u561TbqF89RZGPvT94MxX+3XjyRs/hAlv38vlBS/Sc+qkKL5B27NiV1mTfY6BrhnJxLhtDuxMZVsWmXunQC6qrmfBtqLQsVmbCrn342WtWK20FQogIiIiEhFDfvFt7Jjg8NNeN00hPjedWVf8loq1WylZvI65NzyIJzmBob+9nsSOOWSN6sOkj/6PSe8/SMfzTiGhnWZVamkxruY/Csa7XUzp3TE0GN0CBudl8JsJw8hN3jcup2kv/lW7Dz5jlsg+GoQuIiIiEdF+0kiu2v0qvspaEjtk46/3EqjzggGDg6+ylqqCQhb+8HGM41CzrYjCD5eSP35otEtvk+r9AXZU1jZ77F9LN3BKp5zQooQGOLdXB/6zYhO//mAJsW4X8Z6mHyPH7V1EUuRQ1AIiIiIiEROTkkhih2wA3HExjHzoe1i2jSs+luF/+A47P1iCCThggn91r968K7oFt1Gby6q46qWPmz1mAdmJcYzokBUaFxLndvHRxp2s2l2GA9T5A5TWha9U3y45nttOHdC6hUuboBYQERERiZquV44nuXs+qX078uEFv6Ry3XawbXAc7FgPfW6+KNoltkmvf7mZGq+v2WOD8tL58RmDaJeSwMPnn8L64gpGdczhtjc+a/b8rIRYUuNi+Pn4IZqCVw6LAoiIiIi0OicQ4ItfP8emlz7CnRDLgB9/k+yRvXlr9C34a+rxpCTgC3UHMnS/5hxG/fEHxGWlRrXutspAqHVjfxawfFcZf5i9jD9OGc3AvAwG7l2EsH9uOgu27Qk73wZeuuosLEvBQw6fumCJiIhIq1v71Nus+MMLVBfsovzLLcy9/kFWPfIqgb3deHz7j0VwDDmn9FP4aEWxLleTfXn7Lfr4VVE5X+woCTt+17ghfHNQNxI8jdeO6JCt8CFHTAFEREREWl3N1iI44INqTEpCcFrevd12YtKTSOiYTZ9bLqLXIdYDkWPXO7tpuPMGAmHzWj218CvqfX4Wbivisy27ife4uKR/F2p9gdA5e2rqI1CttDUKICIiItLqet5wLp7kxr+wJ3TMZsivpzL2bz8iJjURAG9ZNbXb9rDu7+9Ss2V3tEo9KZzVPZ87xvanX04aMa7geh/l9V7c+43h2Fpew7S3F/DzmYv59QdLmPb2AvbU1JGTGBdapmVQu4zovICc0DQGpA2YevG/I/as516/5oivmTNnDg899BBLliyhsLCQ6dOnc/HFF4eOX3fddTz33HNh10yaNIkZM2Yca7kiInKcSO3VkXbjh7D1rfngGBr2VGABvW48j0U/eSrsXKfBR/GS9SR3y49OsScBy7I4v29nzu/bmQufex9vwMHsbYzaF0EMsK6kMnTNl0Xl3PbmfLqkJ/HNHt3JiI/l/L6dolK/nNjUAiKtrqamhsGDB/P4448f9Jxzzz2XwsLC0H8vvfRSBCsUEZFIqNtdDibYySdQ78VbWUNDaSXe8uqw8yzbJnt03yhUePJYXVTGnz5dySsrNnH9iJ6h/X7HYGhuicFGm8uqSYxxc8mALngOspChyKHoX420usmTJ/P73/+eSy655KDnxMbGkpeXF/ovPT09ghWKiEgkDP7F1djuYOeLnjdOJrF9NmWrtzT5tGsch1V/+m8UKmz7arw+5m3ZzY/e+ZwZ67bx1MI11HoD/OAIA9+uquYXMBQ5HOqCJceF2bNnk5OTQ3p6OmeddRa///3vyczMjHZZIiLSgjpOOYUrd/0PX2UtSZ1z8VbW8PHFd4edE59o0a2PBz57h9q1k0jo3fMgd5MjVVxTz82vfxa2gKAFbCytpG8zg9IPJsa2mNJHXa/k6CmASNSde+65XHrppXTt2pWNGzfy85//nMmTJzN//nxczUwTKCIiJ67Y9GRi05MBqNq4k4bSyrDjA0fGkJAYHIiw+97f40y6hs6XnIY7IS4a5bYpny9ZReb2AsrTc3Hs4O9Xy4KJPdvTNyedN7/aRuHXtGz8fuJw+udmkBzriUTJ0kYpgEjUXXnllaGvBw4cyKBBg+jevTuzZ8/m7LPPjmJlIiLSmlL7dialZ3sq1+8IbvfrTGz8bqy9Uyz5S4r59Jr7yB7Tjylz/6z1Jo5B7cLP6ffwvfR3HDam5XL/2Ev41rCeTOjRno5pSQA8e/mZzFy3jYfnrjroGJB2yYkKH3LMNAZEjjvdunUjKyuLDRs2RLsUERFpRe64GM5f8DinP/tTJs9+mLS+ndiywR86vmV98Os981fTUFJ5sNvI15i9qZBlL70CjgNA9/Ld3Nk1leuG9wqFDwCXbXFen0788qyhzd5neH4WndISI1KztG1qAZHjzvbt2ykpKaFdu3bRLkVERFqYCfgwhWuwkrOwUtsRm55Mj2snAhDfLoMZE1dQ9GEwbPj9hvRsGysjk5j0pEPdVg5iyfY9/P7jL7jMjicPwLKwPR7OHjXooC1KC7YVYdE4N0C/nDR+M2E46QmxEapa2joFEGl11dXVYa0ZBQUFLFu2jIyMDDIyMvjNb37DN77xDfLy8ti4cSM/+clP6NGjB5MmTYpi1SIi0tJMwI//jV/Dnk1gWbgm/gi7y4jQ8dSeHZi05v/xyTlPUL1oD6PHxxETa4GrDn/hTmI6dIxi9SemjaVVALzeayQ+y8WpCdD/qitwpR580HmPzBQ+WL8Di+AYkbvGDVb4kBalLljS6hYvXszQoUMZOjTYpDtt2jSGDh3K3XffjcvlYsWKFVx44YX06tWLG2+8keHDh/Ppp58SG6sfdiIibUrp1mD4ADCGwOoPm5yS7BnBKc+dy+BTYoPhAyAQoHbu3AgW2naM7ZxLvMeF3+Xmg4Gn0u7HPyGub79DXnNJ/y7cdmp/LujbiUcuGEN+irpdSctSC0gbcDSrk0fSuHHjMObgSxrNnDkzgtWIiEjUJGWBKwbj9wKGmgUrSBpaiGe/LrcuO5GcLlMJjFyFd+2a0H5PJ037ejTapyby7OVnsm5PBb2z08g4jJYM27K4qF/nCFQnJyu1gIiIiEhEWPEp+LtdQu0OH1XrvVSsqqbqvXeanmdZtLvvAdKuvY6EMWPIvPV2EsacGoWK24bMhDjGdM49rPAhEglqAREREZGIsfL7UL5i70J4loUrNa3581wu0r5xWeQKE5GIUQuIiIiIRExcn75kfOcmYrp2I2niJJIvuDDaJYlIhKkFRERERCIq5YKLSLngomiXISJRohaQE8yhBnOfTPR9EBERETkxKYCcIDweDwC1tbVRruT4sO/7sO/7IiIiIiInBnXBOkG4XC7S0tIoKioCICEh4aArmLZlxhhqa2spKioiLS0Nl8sV7ZJERERE5AgogJxA8vLyAEIhpDU5xgAG2zo+G8nS0tJC3w8REREROXEogJxALMuiXbt25OTk4PP5Wu05bxYsZ3HpNgBS3bH8cNDZ2PbxE0Q8Ho9aPkREREROUAogJyCXy9VqH8D9ToCPijeGtit8Xp7YMI8fDZrQKs8TERERkZPL8fNnbTkuLN2zrcm+9RVFmnVKRERERFqEAoiE+AMB/rVhQbPHDAogIiIiInLs1AVLAKj21fP4l3PwOU6TY5M69D1uB6OLiIiIyIlFnyoFgP9uXMqmquJmj22uLo1wNSIiIiLSVimACABrK3Yf9FiNzxvBSkRERESkLVMAEWp8DZR768L2JbiCK4zH2C4u7TokClWJiIiISFukMSDC75a+22Rfl+RMvtv3dNy2jcfWmhsiIiIi0jLUAnKSW1a8nbIDWj8A+qXnEe/24HcCzN65jgVFBTim6QB1EREREZEjoRaQk9ybW5Y32ZcVm8hZ+X0wxvCnlR+zde8g9C1VJXyz+4hIlygiIiIibYhaQE5imyr3sLO2MmxfotvD70ZeiMu2qfX7QuEDYEXJjkiXKCIiIiJtjALISWpt+W4eXP5BkwUGbx9wFrZlAZDg9pDsiQ0dC2g1dBERERE5RgogJ6k3t6xosrb5tIFn0yU5M7RtWRYWVmi7zFuLN+CPUIUiIiIi0hYpgJykkj1x+0ULuKzrUHqn5TY5r8/efRYW7RNSNSOWiIiIiBwTDUI/SV3ZfTh+E6C8oY4LOg9kcGaHZs+7pudoOiVl0BDwc0a7nliW1ex5IiIiIiKHwzJGHfuPF5WVlaSmplJRUUFKSkq0yxERERGRA+jz2rFTFywREREREYkYBRAREREREYkYBRAREREREYkYDUIXERGRFhWorqb8+X/hLy0l9ZJLievbL9olichxRAFEREREWlTp35+m5pPZYAz1y76g47P/xk5IiHZZInKcUBcsERERaVH+wkJwHDAG09BAoKoq2iWJyHFEAURERERaVMrFl4Ad/IiRMOZU3Dk5Ua5IRI4n6oIlIiLSRvmqatn8vznEZafSYcopEVlMNlBdTf2Xq4gffQpJp59JwpgxWsRWRMIogIiIiLRBxnF4d9wPKf1iAwBD75nKkLuvbfXnFv/lUeo+XwBAw5erSBg1KtQaIiIC6oIlIiLSJtUWloTCB8Dm1z6NyHPrl30BxoAxOJWVOHW1EXmuiJw4FEBERETaoPjcDJK7tcPa2/rQ7qyhEXmu8fkaN2wbV0pqRJ4rIicOdcESERFpg2y3i/M+fZT1z8wgLiuVnjdMjshzE0aNpnb+PADiTxkTkWeKyInFMsaYaBchQZWVlaSmplJRUUFKSkq0yxERETlixuej5tM5ACSefgaWxxPlikRalj6vHTu1gIiIiEiLsTweks46O9pliMhxTGNARERETgL+4mJqF35OoKKiVe4fKC+jbtkyAtXVoX0mEKB28SLqVqxgX4cLYwzTPyvgN/9axMfLdrZKLSJyfFMLiIiISBvn3bqFwh9PwzQ0YCcnk//IX3BnZbXs/e/8Eaa+Hld6BvmPPIorLZ09D95P7YL5ACRdejmey65i4bLN/OWN9VjG8MmqIrKT3AzsoYUKRU4magEREYkg4zj4ls7Cu2AGxlsf7XLkJFE77zOM1wuAU1VF3eJFLXr/mk/nhO4fKCuldvFijM8XCh8AO958l0t+8wHPz1iDZRzM3sUJNy5c1aK1iMjxTy0gIiIRVP/naQQ2rcJYFjuXzqTj9/8Pl+2KdlnSxnm6dA2uzWHb4Dh4unRp2ft37ASOA5YFxuDp2BHcblzZOQSK9+AYw8a4YCvHtgYXscZHg2WT7qtmVJfsFq1FRI5/CiAiIhFi6qpxNq3CAjAGq2Qn72+dw+Qu46NdmrRxiaeMwfzwR9SvWknCyNHE9emLr7CQhrVriO3bD09u7rHd//QzcGpqaPhqNbEDBtLw5SrqFi8mULwn+G8dmJk+KHT+3ZnbqN68hX6nDKTdmJGh/fXeALvKaumQlYjbpU4aIm2VAoiISCsrqS9nZ81u8nftIQ4wgLEsfG4Pm2p2EnACagWRVpc0bjxJ44Jh17t1C4XT7sD4fFixseT/6VE8HToc9b0tyyJl8nmYCeew4+bv4d8TDB6h48D4DC++1CQuP6MbY0ZOaXKPnSW13Pr4Z5RXB7tyuW04Y1A7+nVOZ/KIjsTH6iOLSFuh/28WEWkFjnFYWbqOnTVFbKrahtvn44p//wdD8MNYbXw8C047hbR6H7alv/RK5BjHofrjj0IrlpuGBmoWfU7aMQSQffzFxfiLipoecLu59IYpXHmIrl/vLdoWCh8Afgc+XlbIx8sKeW7mOt747aRjrk9Ejg8KICIirWBZyVfM370stJ1SUUnM3g98AAGXi45btjHQlYU13IpChXIyMn4/u379KxpWrQzbX/3xxySPPxtXWhpV78+k7N/P4UpNJfsndxHTqfNh39+dnY27fXv8O3YAkDR5CjHt2xM3cBAxXzPuJDHu4B9Jqur9PPraCv7fpYMOeo6InDi0EvpxRCtrirQd72//jPUVm0PbLr+fS/7zGknVNWHneS64kZhzrgKC6yM4a5di/D5cfUdiudQtS1qGv6iIildfwV9RQd38ec2e4+nchbQrr2LPg/eHBqzH9R9A3u//cETPClRVUTP3U9wZGcSPGo1lHV7Arq73cck9HxBwmv9YEh/j4p3fn3tEtYi0Bn1eO3ZqARERaQW9U7uyoWIz+z5KBdxuZn3zSs5fXoC1+OPQeXZmO4wxmKoyfB+8jP+T1wBwDRtH3HW/xNRU4l/yMVZSGq4hZ2DZ6q4lh69u6RKqZ8+i7oulOFVVYeMyDuTbspk9D9zXuMMYjBM44me6kpNJmXzeEV+XFOfhvhtG8sj0VewsqW1yPC89/ojvKSLHJ7WAHEeUqEXalvKGSsq9VWTHZVAfaCAtNgXbMXinP0FgzWLcA0/FPekaGp64C6fgy9AUpkEW8X98h/oHv4fZvQ0Az6SriZlyffReSE4ovh072HHrD4L/po7iV70VF0fevfcT26NHK1R3cAHH8J0/fcKWosbWwhi3zUs/G096clxEaxFpjj6vHTu1gIiItJK02BTSYoO/nBI9e/9664LYy24NneNfOjsYPqDxQ6JlYaXnYCpLQ+EDILBqASiAyGEwjkPxk38Nrs1xtPeor8edl9eCVR0el23xzI/HUV5Vz9aiGtKSY+mYnXjYXblE5PinACIiEkVW4gF/PfPEgM+LKd2Nf8EMrJwOmKLtwWMJyRhvA1ZMbOQLlRNKw1eraVix/JjuYXk8WJ7ofUxIS44jTS0eIm2SOhOLiLQwU1OBb/57BNYv+9pz7V5D8Zx/A1ZeZ1zDxoOvcRpSZ80S4m5/GBJTwbJwNiyn4eU/tWLl0lZYHs9+GxbEH/74CXenTng6dyb7rp9jxyoAiEjLUwuIiMgx2lGzm5L6cromdyAJF3UP3Ywp3Q1AzFU/wjNmcrPXOcU7aXjm95jyPXgmX4t7zGTqtq7FFO8EwNV/dPCDZE1F4zUFq8PvsXsrDf97DHxeYi76Lq6u/VrpLeVEEturN2lXXU3le+/gad+BhtVfHva1gZJSOr/4citWJyInO7WAiIgcgw0VW3h984d8umsxL254m08K5lBsNa734V/x2UGv9b7+NM72DZiqMrz/fRSnZBfEJwYPpmRipWZQ9+8HIKtd6BorpyNmv379Dc/9AWfdMpyCL6n/291oXhEB8G3fjn/3bhLHnk7yuZPDB6FbFnGjRh30WrNfK5yISGtQC4iIyDHYUr0TCwuDwW/8rPYWkZeQQGZJKQBWRi4AgYLV+JfOwu7QA/eoiViWhfH7gMYPhoFV8zHb1gc3KkvxvnRgdysL56uF+Oe+heeMiwAwVeVg9gaS2qrg15bWDzmZGcdh192/IFBWBoBv+7bwE2ybrJtvo7rHDMpf+S/4fODxBP8vBAOLiEgrUguIiMgx6JCYh9kvRKSVltBx295B41hQXYFTvJP6P0/D/+kbeF94CP/89wCIueAGrJRMsG08516Dnd1hvzs315JhAAtn58bQHs8FN8LetUE859+AZSt8nOyM10ugpCQ4A5bjUH/gYPRAgMIf/ZCUCy8mtnuP4L8fvx8rMZHce+8j44bvRKdwETlpqAVEROQoGGOwLIuOSe3IT8iltKGc+kADvthYjGVhGROcTjc1A6dwMwT8wQstG2frWjj1PFztuxP/25fAOFi2C2MMnonfwv/FHExJITS7CJyB2ITQlmfUObgHjAEngJWUGpF3l+ObHRdH4llnU/PxR8EdzXTLC5QU4926Bf+ePaGpek1tLXF9+mq6WxFpdVqI8DiihW1Ejn+V3mre2jKLCm8VA9J7UlhbRHFDeej4qOxB9N+6C+vTt7FyOxJ7yQ/ACVB3/02YihKwbOJuvh9X72GHfE7Nzy6Fmsrghm1DahaU7QEM2DYJD76l6XjbKFOyGlO8CiutG1buCOpWrqBu8WLiBgwgYeTBx26E3cNx8K5fz+57f4tTEZzEwIqJwXi9wVmxbBdY4M7Kwr9rFwCp37iM9Guva63XEmkz9Hnt2CmAHEf0D1rk+Ddr5+d8VbYx1O3KxsLZr7tUl6T2TOk8DqesCO8bfwNvPZ7zphLYsALfx69g53XCM+Y8fB+8BAkpxF71Q+zMdk2e41sxF++/HgBfPdhurKQUTGVZcIyHy0PCg2+Ayx1sZdFfrNsMU7kVs/RPePd48RU34OozmaJHnwuGBsch59e/IWHY8Gav9e8povKdt7ETk0i58ELs2Djqli2j+NE/YRyHzFtvx9TVUf3xR9R/sTR0XcK48aRfdTWeKCw6KHIi0ue1Y6cuWCIiR8BlhQ+dS49NpWS/FpB9K583/Os+nE1fAoZAwSqoqQLAKS+mYd0X4AS7aDW89DDxtz7Y5DmBhR+At27vhi/YepKVj+VrIObSm/HPfw/v9CfB7cE16FQ8p07B1X1gq7yzRFD1Duq21LLnteBUzNasF4JdqPZ26WtYu6bZAGICAQp/9lMCxcVgDN6tW8j50Z3EDxlCx2f+FXZu1fszw7a969YqfIhIRCmAiIgcgRHZAyiuL6esoZyBGb3pmNSOWTsWUO2rpX1iLqOzBwEE1wHZNzvV3vARsm8aXWPC1vjYX2BT03Ub4m99CDsjF9NQR+1PLgreP+AjsOhDAos/Ju5Hf8HVqXeLvatEQWZf6jbUgwUYcMVDwHFhfIFg17uRo5u9zKmpIbBnT2i79vMF4ce9Xrzr1+HOzcO7Y0fYMTs1raXfQkTkkBRARESOQII7nku7ngPA6rINvFbwPgA9qvyc9vJTNFQ/gDn/BjyTrsb78sMAuMZfBhUlBJbOgoRkXINPIzD/XXDHBGexaoZ7xNn4Z78a2rY69qTur3dhATHfuCXYhz/QuB4IxsEpWK0AcoKzYtOIPe0Kqlc8CW6b3Cs74PgM3u11xPQbSmyPHk2uqV/zFb7CwvCd3sa1PByvl8Kf/AhfQQG43bhycth/eoOU86a00tuIiDRPAURE5Ch9VbYp9HW32R9iKoqxjMH7+lMk3PsKrr6jwO/Fzm4PgPnGLRCfiOX2YC66CdwerJg4nJ0FmIAfu0OP0HgO9xkXEVj3BWZn8Bn71gcxloX3+QeJvfYuGl5+GOqqgwW4Pbj6ND82QE4sSROnYMUl4du8Dlf8alzx4OmXDIk1Tc6t/vgjih99uMl+KyYm9HXDmjXB8AHgD+Bp1w7LtgmUl5N66WUknXFmq72LiEhzFEBERI5SbnwGu+r2YGFhuVxY+/rNWBZYNnZ6dtj5VnJa49cJyQB4338R39v/DO5MySRu6s+xu/Wn4dFpmMqSpg81BuNrwNVv1N4uXsFnugaOxc7t1CrvKZFlWRZJZ47DnHEm5stnoHhFcH/7M5qcWzP302bvkXLJpQe5u8GOjaPD40+2VLkiIkdMAURE5CiNyR1KgieeGl8dmd8cjPXCw5iqMmLOv+Gw1+Twzfpf40ZlCfVP/ZK4n/0NU1Ecdp6V2ym4NggQe/ntmKoyqK8NHTflRcf+QnJcsSwL+l8HlVvAk4CVkNvknNg+falbsjhsnzs3k9RvXhXadqoq978prrS0VqpYROTwKICIiBwll+1iWFb/xh0/+/sR38PO7bh3tqy9vHVY8UnY3QfibFwJgGfK9Xgmfis0eN1yBRcttHsPw1kbnE7Vc/pFR/8ictyyLBtSux70eOpll+PdtJHa+fOC57stci9OgZVPYgZ+F8t2E9d/AHZKCk5lJVgWCaeOjVT5IiLNUgAREYkiz/jLadi9LbTooHvCldgJScTd/ACBrxZhJaXi6jYgeLLLFbrOsizivn8fzubVWMnpWJnt8C2YAfW1uEdPxIpPisbrSIRZdvi00MZv8Jd7cSWsg+JVkDMEV1oa+X9+nPoVy4np0oWYzl2iU6yIyF4KICIiR2lDxVY2VG4hLz6LwZl9jnhBQFNfS8O/7gO/F7CwB48l9sLvAGB5YnAPOvRfqi2XK7T2R8PLj+Cf9zZg4V/0AXE//qsWKDxJJJ52eqgFxJ3qwZMdGzzgjg2d405PJ+nMcVGoTkSkKQUQEZGjUFRXwsztwQHAGyu3EuPy0C+96RSph2Jqq8DX0LijsvSo6wl8tXDfXXG2rYeGOohLwCkvxvvGU1Bfi2fyVFydeh31M+T44du+Haehnphu3Uk87XTcee3w7dhKXPJmbO92yB0B6X2iXaaISLMUQEREjkK5t3FxQQuLsobKQ5zdPCs9B9ewcQSWzgbbhefsbx51Pa6Bp+Kf8zoAdpe+GL8P7yt/wb9sDlRXAIbA5q9IuPcVLDvYlcs4AcyenTQ89wdMVRmeC27EM+qco65BIqPynTcp/cfTEICkCeeQddv/I7ZHj2bXCBEROR4pgIiIHIVOSe1I9iRS5avBZbnonXbwgcIHY1kWsVN/gZl0DSQmY6dkHHU9MZf+AFeXvpiGOtzDz6Lh3/cTWLWgcTV2CI4z8ftwakqpf+IuzK6tkJIOVeVgHLwvPoR7wBisBI0fOV6ZktUkxH5E4q3dKZ9TTNWHH5Bx0/ew4+KiXZqIyGFTABEROQpxrliu7D6F4vpS0mJTSXAf3gdA01CHb+YL+Ncsxs7pQMyUG7DbdT6sa/0rPsP7xtMQn4TnjIuxUzOxew7Bsm0s24V7xNmhc53d28LDB+DaO1OW7+NXMEXbALO329fesSKOA04AOb44dWVQtQUrrQdmw+tYLgvLgrQzsqjdZoctOigiciKwjDEm2kVIUGVlJampqVRUVJCSkhLtckSkFdQ/9wcCSz5u3JGRS8Kvnw8NGDc1lRi/Dzs1M+w64/NS+9OLwO8L2+8adQ5x3/5pk+f4Pnsb738eAcAedDquTj3xvftccLvPcJyvFjcGlPgkaKjDM/laPGPPh9gE6lYsx5WUTGzv3i305nKkjOPH7JwHG15r3Gl7MI4fjAHHItDjdmI6H3nrm4gcPX1eO3ZqAREROYAxhs1VO2hwvHRP6YTHPvoflaa2CqdoO3Z+V6yYOJwtX4WfULobAn5we/Av/oiG5x8Ax8Ez6dvETLmu8byAP/jfAQKLPsR8684m07F6xp6Pq+cQTH0Ndoee1N51cah1w9n0JXbvoTjbN+IZez7uydfibPqShqd+gfftZ6j05uPdFRwQn37Dd0i96OKjfn85OsZXg1nyMNSHL0iJ48PCgoRsrB6X4MpU+BCRE4/99aeIiJxcPi9azrvbPuGjHfN5Y/NHHG1DsbN7K7W/+Tb1f7qNuvtuwtRW4T5lctg5rjGTsdweALzvPBNabND3/gsYnxenopjAtvUQE0vMhTeBbYNlg2WBbWPldWkSPvaxczqAtwHfzOfB5Wk8UF9DzISriLvlIUz5HrzP/i7Ytctbh3EIhQ+A6g9mHtW7y7ExRcuaho/Go1jDfoiV2S+SJYmItBi1gIiIHGBD5dbQ17vrimkIeInbb02Fw+Vf+AHU1wFgSgoJfPk5MRO/hav7QJwdG6FdVwJffELtr6/G1X80VnIGprQIMBCfhH/NYrz/+A04Aey+I4m9+idYSz7GbN+AldMRV7+ReM6+4qDPD2xaRf2fpwXDSliIsqh/8f+gdFdoG5cNJphtbJfBMS4whpgePY/4vaUF+Oua7Nr3v6CFDbanyXERkROFAoiIyAE6JOZRsXea3Vg7hsLaIrqmdAwdN8Yc1iJ/VlZ+2EBwK7MdAK7uA7Eycqn/x28wW9cC4J/7Jp6Lv4uVmIJpqCPmghtpePPpxm5TXy3CN+PfmB2bgjUUbcN14XewU7PCnmmMIfDVIkxZEf41S/bt3FuAHfzasvYLHwAGAgHs3sOhqoyci8+jZtNuXMkppFxyyeF/46Tl1JeHbTqJSfiHjoKAH/eXK3EdMMGAiMiJRAFEROQAp7cbQaI7nkV7VtLgeHl32xwmdTiN7PgM3tryMZXeGgZm9OK0vOGHDCJWxx7BVo36Gtxjz8fVrX/oWMPzD2C2rQs/3x1D3Pd+H9o2ewrDbxifSOPfwcE00/XKP+d1vK8+3rQYlxvXiLNxdhZg53cNrj2y3yKIrmHjibvuFxgnQGD5XFKSEnAPPRMr5shbfqQF+KpDXxrAJCQGg6PLTaDvCNxH0SInInK8UAARETmAy7JJj03F7P2wb2Gxs7aILdU7qfTWYDCsKF1Ln7RuZMcffO0O34t/wlSXg3Hwf/Y2MRfdhOUK/tg1ZXvCukVZHXrgHjkh7HrL2j9ugGf8ZTg7NuGsXQoBH77/Poorp2NwrMde/hWfNV+M20Pg8+B4Dqv7AKzs9pjKUqx2XYg550pcvYcD4H31r/g/fSN4r0UfEH/rQ4f1PZMWljcCipeFNp0OXYJfWBbEpEelJBGRlqJB6CIie1X5api9cyFzCheRGpNEzN5+9gZD56T22Fb4j8wDt/dn6mpwynY3dsEK+EMDzAE85347+GEScJ95CfF3PoEVH74AoOecq0Jfu8+8BDsplZhzvw2B4FS8prIU3wcvhV3j6j1s71cHtMw0NI4p8M9+DbNzE1RXYCUk4V/0IfWP/4TA2iX4l38aOs9Z9wWOt/6g7yitx84agDX0duh2MdaoX+JOPhNIwCINjz0o2uWJiBwTtYCIiOz19pbZlDVUALCnrpQru09ha/VOsuLSyU3IIisunbKGCsoaKhmS2ZfMuLSD3qvh+Qegpiq07bn0B1iexgXjPKMm4u4zEuNrwM7Ma/YenjMuxtVvFPi8WHnBxQqtmP0WPDRAbPgCiJ4JV2IlpRHYsBzTUIezct4h3tjgbFwVXCEdQ/2mLyE9O+wM56vF2INPO8Q9pLVYqd2wUruFtl3kR7EaEZGWowAiIrJXeUNFqNvVnvoydtYW0Se9O669LR2Jnngu7Tqx2WuNMVT5akhwx+G23Tjb1rF/ByrPmPOaXGOlpB/YTtGEnRX+odPO70rMJd/HN/s1rLzOxJx7bfgFfh++Wa9gdm9r/obxSVDXOL7ASkzBVFcEa/V7Yc+O8PO9DYiIiLQkBRARaTN21hSxrOQr4l1xuCyb4voy+qR3Iz02lS+KV5PojueU3CHEumKavX5ARi9WlAZnpQqYAB/umMfGyq2c1+nMQz434AR4a+ssdtTsJtaO4ZKu55A85jx87/0LANeQM8JaP46G8fvAdmHZNp7xl+EZfxmmrhrj84aFGGf7+v3Ch0X4KBIaw4dlQVwiMRd+h4Z//hYCfqwu/TCbV4c/1+U6prpFREQOpAAiIm2CN+DjrS0f4zeBsP2FdXtw4SJAAAsLr+PjnA5jm73HaXnD6ZHSmdc2vx/aV1C1neL6MrLi0jHGsLxkDQVV2+mY1I7hWf2xLIudtXvYUbM7WIfjY0XpWsadew2u3sMwDfW4eg09tnd7+5/BsR6JqcR9/w+4OvXCv3I+Df/8TXBa1vGXEXvJ9wGws9pDTCz4fcExJykZUFna9KaxCQD4PnsrlFFM6a7ggoV7x5hgWQRWfIZn2Lhjql9ERGR/GoQuIm1CfaChSfjYJ0Bwv8FQ4a1u9hwAy7Jol5hNiicxbH9B5XYAtlTv4LPdS9lZW8TnRctZX7EZgIT9pkQ1GBLc8ViWhavbANx9R2AdQyuCU7ob3/svBmfMqqkIrpYO+N59LjiwHfDP+h+mJjh2xUpJJ+72h3Gfej4x37gF9xkXNX/j+lqoq8ZZvQic4H2oLA1+bdmhNUNcnXsfde0iIiLNUQuIiLQJyZ5E8uNz2FlX1ORYoiuemkAdFhZDs/oe8j5ryzdR6asJ25cTn0FZQwXLStaE7d9QuZVafz1907tzVv4prCpbT1ZcOsOy+h37C+3j9uy3krnVOAg9JR122oABdwx4Ggejuzr1wtWpFwAmEGz58S//FLNt/X43PqBrVmi3we47HDu3M3ZeJ9ynTG65dxEREUEBRETaCMuy6JzcvtkAsi98XNTlbNon5h7yPov2rAzbPqf9WNol5PCv9a/j3dc1CXBZLgqqtlNQtZ1lJV9xRffJ9E3v3jIvsx87JYOYK6fhm/FvrLRsYvZ2tYq98oc0/OcRqK0iZsr1B10w0HK5iJn4Lez23Wl4+pfBIOOJAZ/3oM809bXEXvqDFn8XERERUAARkTakS3J75hd90ewxg6E+8PUzOiW5E6n01gCGGFcMPVI7Ue6toiHQ+IE9Oy6DGl8ttYFg164afx2vbXqfb/W84JBrgxwtz5jJeMaEt0T4PnkdZ/XC4OroMXEHuRJ8n0zHN/u1vQsi7m31OCB8WINOg5KdmB2bADAFq/HNf6/JM0VERFqCxoCISJuREZfKt7pfQP/0nsS7mn4ot8zXTXoL/TN6kuiJJ8WTzJRO47Atm7SYZLLjGlefHpDRk24pHcOuq/BVU+c/silrnV1bCKxdGpzh6kiuKyvC//F/gxv1tTS8/hTOzk0YE96tytlZgPfVxzElhWELER7IbFiO3TF8rEfgq0VHVJOIiMjhUguIiLQp6XEpjMsfxbj8UWyt3slbW2YBYGFRUL2dbqkdD3ptpbeaD7d/htm7GsjOmiLaJWRjWzbndxrPtppdxLlisCyLrskdqfXXs6kqOOVtdlwGCe6Dt0QcyL/kYxqe+wMAdrcBxN3+Ryz78AarW55YsO3gLFfGYAq+pO7+7+IaNo7Yqb/A2rvCun/bhuZvEBsfHFtSUxncrq0isOC9sFNcfUYc9ruIiIgcCQUQEWmz0mJSsLH3BgpDZmzaIc+v9Fbj7B2cbWGFVkVfWvwl83cvC+3fN9PVFd0m0ye9G/X+BrqndAp98D8cvs/eCX3tbFqFKdoeWu3861hJqcRecxcNbzwN5cWh/YGlszEXfQ9r72rmpqrp9Lvucd/AM/Z8fPPewT/rf/vd1AbjgGVh5XfFc2rThRNFRERagrpgiUiblRKTxEVdzqJPWjdOyxvO4Mw+hzw/LyGLjNhUIBg0+qR3wxjDgr3hAwitlF7rr2NbTSFdkzvQN707MS7PEdVmt+8enN3KsiEuASs164iut7Lyg2t9hO20wNk75XDAjykubHJdzHlTsZLTcI+eBHF7pxtOSsNz+W1Yme2wO/Um7vq7j6gWERGRI6EWEBFp0/ITc8n/mpmv9nHbbi7vdi676opJ9SSTHJOIY5wmE9buawXZF1aORsyF38FKSMKU7cF9+oVY8Ylff9FexglQ/8TPoLbqgAMG//x3cY8+l/qnfoEp2hZ+vGMvGt78G4G5b0FcArHX/hzLE4PdoQdWYgoxp11w1O8jIiJyuBRAROS49NGOBawp3wjAqJxBjMweGJHnum03HRLzQtu2ZdMrpTPrKrcA0D4hlyRPAt1TOpETn3nQ+xifF+87z+Ds2Ih79CTcw88K66JleWKImXzt0RXp90FtMwsqWjbYLuqf/Blmz44mh13tuwfDB0BDHb45rxN/8/1HV4OIiMhRUgARkePOs2tepSZQH9peWLSCEVkDjmiMRUua0GEswxoG4LJcpMUmhx3zO34Ka/eQ7EkkLTYltN/34X+CYyyMwbt2Kd53nyP+jkewUzKOuR4rJg732Zfj/+i/YNnYvYfibF6D3bk37jMuwff+C81eZ2fmEdg3eB0LKzH4LsYY/HNeJ7BlLe5h43APOOWYaxQRETkYBRAROa48t3Z6WPg4HliWRWZcWtg+b8DHF8Wr+bJsPXWBBixgcqcz6ZrcAQBTdsCCiMWF+D+ZTswFN7ZITbEXfRfP6RdheWKwktPDjrlGTCCw8P0m1/hXLyT22p/hnfkCdnoOMRd/H1NbRf2zv8dZswSwCCz5CPsnT2G379YidYqIiBxIg9BF5LhS7a9tsm9YZv+otX4czEc75rO4eBV1exc3NAa+2r06dNx92gXBqW5DDBxktfKjZWfkNgkfADGX3wZxSU32m4IvcQ05g4Sf/Z247/8BOzWThn/fj7NmaWONxuAcOHZERESkBSmAiMhxrV1cFmPyhkS7jCaK6koO2GNIWTgbpzI49a2rUy/if/sf3KdMguR0XIPG4hn3jYjUZsfGE//jx3CPvwyrU+MCg3bv4U3WGnF2bIT9h9m73NjdBkSkThEROTmpC5aIHFdGZg9k0Z6VAGTFpnFp90lRrqh5fdK7s3hvnYlV1fT+ai0Dlq/EGfAV9qCxANiJycR+606OtN3DKduDqSjG7tgLy3V4ixMeyM7pQOwl38cEAsH1Qfxe3MPPCjsnsHUtdp+R4YsQBvw4W9diDzz1qJ4rIiLydRRAROS4MipnEKNyBkW7jK81KnsgHRJzqV+/lJyXng02J3tisTv2Oqb7+lcvpOHpX4ETwO4+iLhbHzrqEAJguVy4R56NU1EMfm+oG5jv4//hff3J4Elp2VC+p/GihORm7iQiItIyFEBERI6CZVm0T8yFIZPxfzcDZ/sG3INOw967CjmAqavG+9Y/MZUleM66HNdhdG3yzXkjtJigs3EFga1rcXftd0y1NrzxN/wf/QdsF7FTf4F76Bn4Pnur8YT9wwfglOyG7pGZ9lhERE4+GgMiInKM3P1HEzPpaux2ncP2N7z6V/yfvU1g5Tzq/3oXpr7pAPsmPDFhm85Xi4+pNlNfGwwfAE4A77vPAmBlHHxxRt9rf8U5cBYvERGRFqIAIiLSSsyeHWCc4BRZ3npMTUXTc4zBVJVj9rZ6uPeOH9nHN+t/+D7679EX4YmBuASwLLBsrNRMTF0NTsFqYO/MYgfOMFZbiW/Wq0f/TBERkUNQABERaSWesy4DO/hj1jXwVKyMvLDjxltP/SN3UPuLy6j7/fU4FSW4h5yB3WNw40kNtXjfeBpnx6Yjfr4TCLD1zQWU974cu2t/rE69cMqLqXvsx+CtZ9/sV1ZW/gFXWlgtPGWwiIjIPhoDIiLSStyDT8f+9QuYmgrs/G5N1jIJrPgMp+BLAEzJLvzz3iFm8rXE3fZ/NPz7fgJLZ+1dtTwYVo7UvO8/zPp/BGe46nr56YzssBB8XgwWxCdCXQ1YFjFTrsfU1+Cb/RqmZBc4AfwLP8DV/xRcxzj+RERE5EBqARERaUV2ejauDj2w7GZ+3O4/25RxsPZuW5ZFzORrsVKDA9pdp5yL3bnPET97838/CX29/Z3PwOdrPJiWTdxtfyT+F8/gHjYOz6lTiP/pU8EuYwE/pqKYhpf/dMTPFBER+TpqARERiRJX35F4zr0G/9LZuHoMxD32fExtNYEtX2HndSH+nufB78M6YGD6Pv4vF+B94+/gchFz5TTcnXuHHc89fQDbZywCIGNYfzxTRuJ751nwxBB70Xdx9Rzc9KZm/69N0+MiIiLHyDJGv2GOF5WVlaSmplJRUUFKSkq0yxGRCHOKtlP36DSoKgVPDHF3PIqrY89mzzUNddTedQkE/MEdtk38r57DzmwXOsdXXcdXj7+OCTj0ufkiYtOSgjNxudwHDTW+hR/g/d9jWDGxxF7/K1yajldEJIw+rx07tYCIiESJU7qbwJrF2B164mxejfd/jzUe9PvxL/n4oAEEn7cxfAA4DoFVC/5/e3ceXVV1sH/82XfIQGbGJEwBDQGBSJDBqcCrgCBQxWVBcCjSglqt8haLy1aEIrXUkWWpqGXUF+sLDv3JW7FVBhmkzKgog0wKQkDATJCQ5N7z+yPmwiUDBJJ9E/h+1srinn322WefkyzWee7Z+xy5eg4OFHmjI5X+2LCgzUxEvUr75O3WR95ufap8LAAAnCsCCACEgD/7iPL/PDowEVweb3AFxy9XUqsKtzfRcXJ16iH/5uWBMlezy2uquwAAVBsCCACEgH/XlpLwIZXMtXCckiDiOJLLJfeVP5G7U49K24gc+aSK/vMv+XZvkafjNQyXAgDUCQQQAAgBV4s2pwKHJBUXKfBiQL9fvk2f6GRetiJ//Vyl7Xivvkneq2+q2c4CAFCNeAwvAISAq2GyXG0yzigNfiaI/+vN5/X+DwAAajMCCACESPit90sx8RVXiI6TvLyRHABwcSGAAECIuJq2lvemuytc7+ncq8zb0wEAqOsIIAAQQsUr3y+33LRoq7B+91juDQAANY9J6AAQQq7k1vId2lcy/zwyWmF3PiZParpMeGSouwYAQI0ggABACIUPHaOihMZyjufIe8PtciW2DHWXAACoUQQQAAghExmlsFtGhbobAABYwxwQAAAAANYQQAAAAABYQwABAAAAYA0BBAAAAIA1BBAAAAAA1hBAAAAAAFhDAAEAAABgDQEEAAAAgDUEEAAAAADWEEAAAAAAWEMAAQAAAGANAQQAAACANQQQAAAAANYQQAAAAABYQwABAAAAYA0BBAAAAIA1BBAAAAAA1hBAAAAAAFhDAAEAAABgDQEEAAAAgDUEEAAAAADWEEAAAAAAWEMAAQAAAGANAQQAAACANQQQAAAAANYQQAAAAABYQwABAAAAYA0BBAAAAIA1BBAAAAAA1hBAAAAAAFhDAAEAAABgDQEEAAAAgDUEEAAAAADWEEAAAAAAWEMAAQAAAGANAQQAAACANQQQAAAAANYQQAAAAABYQwABAAAAYA0BBAAAAIA1BBAAAAAA1hBAAAAAAFhDAAEAAABgDQEEAAAAgDUEEAAAAADWEEAAAAAAWEMAAQAAAGANAQQAAACANQQQAAAAANYQQAAAAABYQwABAAAAYA0BBAAAAIA1BBAAAAAA1hBAAAAAAFhDAAEAAABgDQEEAAAAgDUEEAAAAADWEEAAAAAAWEMAAQAAAGANAQQAAACANQQQAAAAANYQQAAAAABYQwABAAAAYA0BBAAAAIA1BBAAAAAA1hBAAAAAAFhDAAEAAABgDQEEAAAAgDUEEAAAAADWEEAAAAAAWEMAAQAAAGANAQQAAACANQQQAAAAANYQQAAAAABYQwABAAAAYA0BBAAAAIA1BBAAAAAA1hBAAAAAAFhDAAEAAABgDQEEAAAAgDWeUHcAAAAA1cOXX6D9ry3Qye+PKvnOnyq6XetK6zuOo5wNX6o497gSrussV5i33HrFOXna+8IcnTx0VM1G3qa4rh1rovu4RBBAAAAALhJ7npmhzLf/Jcno6EefqtvS1+WuFxFUx3+yUPtem6+CA4fkjoxQ5v8ukiTFX9dZac8/pqIjPyiyZbKM69RAmd1TXtPhhcskx1H2ms/U7ZM35ImJsndguKgQQAAAAC4Sx3d8I/kdSY58eSdUeOQHRbZICqqzd+pcHXjjfckYyXEC5VmrNmrtf90jJ/+k4rp1VPvXnpLLW3KpWLD/kOT3SyoJMMVZuQQQnDfmgAAAANRhjs+nnM+2qWBfpuK6dAiUu2OjtH3cs8pevyWo/old+0qCh99f8q+R5HbJVS9CTkGhJCl77RfK/WxbYJumI26TcbslSQ36XqfwZk1q/sBw0eIOCAAAQB3lOI6+/NUkZa3cELzCZeTLPaG8L3boixGPK6FHF7X54xh5E+KUOKSfslZvkvyOYq5MU8JPush3PF++gpPKfOuDQBPehgmSpIJ9mcpe85mS77lFDfpdr5j2qTLG2DxMXGSM45x27w0hlZOTo7i4OGVnZys2NjbU3QEAALVc/rcHtaH/qLNXdLmUeHtfXT7hIUlS7pYdOrpkjer36q7Y9DaSpJxNX+nzu8YFNom8vIUK9meWjNIqKpIcqdHAXkqbMrYmDqXO4HrtwjEECwAAoI7yNoiTq15EyXyOyvj9Ov71NyrOO6Hi7Dxt/fVk7X/1f/X58LE69sk6SdLJg98HbZK/89uSIVknC0vmlTiO8rZ8XVOHgksIAQQAAKCO8kTVU0yndkGTyUs1/ll/1TvtMby5m7Zq0+CHlLX+cxUePlZSaIyO/HuVJCn+2s4KS2xY6f68DRNU9EN29R0ALkkEEAAAgDqq4MBhZX+6qdx1Lpd0YtvuoLKTBw7Ld6JAcv94Cej3K+bKNEmSNz5GTW7rU/HOjJSz4UttfeTpauk7Ll0EEAAAgDrKE1Wv5ClW5ch8+1/SmTdGXC59/89PfnxUr2TCvIpIaSrH55Mk5e/9ruKdOSoZyrV1d8V1gHNAAAEAAKijXLF+XTa1n6I6NlZczxbyNq4nhXmVMu4Xks9/RmUj+f3KWrEhMGTLKSzSl/f+Tl/eP1GO36/ku2856z6b/OymmjgUXEIIIAAAAHWQ4/hV7N+uhF4t1W7eYKX+pb/ieqYoLqOdmv18sJKGD5QkuSIjlPLovYG7HuVNWM/6dJPyvzmg2PS0igOG26WOc6eo1W9/UVOHhEsEAQQAAKAOKvJvll+Zkil5H4jjOPJENlLq5DGSpMt+f7+6r5yn7ivnqVG/HjJh3pK5H44jd2x0UFuuiHCFNYiXpKCXGZ4urGF9xXXpwDtAcMF4ESEAAEAd5NehwGdjjIwaqsWjTeRxeQPl3oQ4SZI7qZHS507R4feXqF5qS+V8sUPfv/dxybqoerrilQny/BhK6v+kq1wR4fIXnAy0446NVrupjwfvv6hYh//xsXzH89VkcB954oJDDVAR7oAAAADUQS41Pm3JK0dH5NdhFfr/I8fxlakfk56my554QL4TBYHwIUmXPfmA4jq3Dyx74qKV+scxQdumPfOoYtLTgsp2TZ6unROnac+zM7V56H/rxDcHquW4cPHjDggAAEAd5HV1ks9pIMmRz/lGjop+XFMsv3NURh4ZJQQNmSrOO6G9z88KaueH5Rt0fNseHXjj/ymiRbLaT5+gRv1+IndkhI59sk71e1+tiMRGOpl5ROGnvScka9XGwOeCfQe1ceD9umLaeNXv2bUmDxsXAe6AAAAA1EHGuOVxpcjjaiWPST1tTYyKnDUq9K9SkX/LGdsYyQRf/oU1aaDvZr8rp9in/L3f6dvpb0mS6vfsqsuf/JWOfrRaGwc9oHU3jtDqq4fq6Mr1JetvvCa4Q46jQ+9+VO3HiYsPAQQAAKAOKZlwfkKOUxwoc7uaKtzVR17TU0f/b5O+++s6FezJkl/fBG3rjopUmz+OkSc2Wu7YaDV/4A41HNAjqI5xn7o8LM47oUPzFwWWfbnHtfW+iTqxe59aj/uFLpvwoIzHXfLWQ0n1Lm9RE4eMiwxDsAAAAOoIx3FU5F9f8vQreRTmuloukyBJMiZCmf/zL+2ZslhyGR2et0XpH4ySGgS30finN6jxT28oac/v1/bfPhtYV691M7V4cLhO7N4np6i45GlZxgTeG1LqxM5vVa91cyUN6a+o1BRlLvhQkS2T1fTe22r0+HFxIIAAAADUEY5yfgwfklSsYv8uhbm7BNbnbPiy5M3ofke+vEIV721SJoCc7vj2vTry4YqSBZdRZKtm+v7/lmnvC3NKysoJH5KU+/l2NehzrYwxis1op9iMdtVyfLg0MAQLAACgjjDyBi+bcEmS45yU3zmq+jd0k37MC2GJDRXVtm2l7Xniok+9mNCRjMejfbPeOVWhnPAhSd/Nfle5m7ae30HgkscdEAAAgDrCmHrymqtU7OySUbQ8pq38TpYK/Z9K8il+QJQ6Nv2j8r85pAa9ussTVa/S9iKSGyvtz49q3+x3VZj5vY4sWn7Ofcn/5jvFdr7iAo8IlyICCAAAQB3idiXLreTAcrF/nyS/JMnRcUV3bqe4q6485/YaDegpb8MEbRn5uyr1I7xpkyrVB0oxBAsAAKAOM4pWYNyVJKOoKrcR1rh+ydyRMzT9xe3l1vfExyg2g7sfOD/cAQEAAKjD3CZFJS8fzJbb1VQuE1vlNuq1aqa0Z8cpc/6HcsfUk7tepGI6pKrJz/rp4LyF8hecDKofldZKLi+XkTg/xnEqmF0E63JychQXF6fs7GzFxlb9Pw8AAHDx8Ds58jkH5DJxcpukkPUja/0X2vLzx4PK0t98TrFXVj7B/WLF9dqFI7oCAADUMo6Tr0L/Ckl++RxJppPcruYX1KbfyZLfOSqXaSCXia9k347y9+yXKyJcEcmNFZHUOGi9Jz72kg0fqB7MAQEAAKhl/MpW6cTykuVj576tk6VC31oV+jbKcQpOlflXqtj5SoX+lfI7WRVuv3vKa9o46AGt7ztSmQs+VHhyY9Xv1a1kpTFq/fv7z+eQgADugAAAANQyLiVIckvySZKMGldav5TjOCr0r5FUKEkq9J9UuPsa+Z2jOjVR3fnxTkh8me39Jwt18H8WllbTvr8tUOLP+qndX57Q8e175I2PVXhSows5NIAAAgAAUNs4OqHS8FEiV9K5zAPxqTR8nGpHcpkGkmNUEkJMyXJpHZ9PX0/4i458uEIxndrJkxCn4uxcSVJEs0RJknG5FN3usgs5JCCAAAIAAFDLOKeFCMmcsVwxYzxyq5V82iNJ8phUSZLLxCvMdb38zhG5TMOgux/HPlmnw+99LEnKXvOZku4YoMLvj8kdGaGW//3zajke4HQEEAAAgFrGpUYyaiBHRyWFSY5LRf4tcpuWcpmYSrf1uNrLrRQZuWVM5Kk2TXy5w64cvz9oOaxhgi5jngdqEJPQAQAAahljXApzXaNwVx+5lCyfdsnn7FWhf5Ucp/gs2xq5THRQ+KhMg17d1WhgLxmvR7Gd2ytp2IDqOASgQrwHpBbhudIAAFy6HMeR3/lOjgrkNs1kTIQk6aRvlZzTnoIV5vovuUx0qLp5yeN67cIxBAsAAKAWKHZ2yOfs+PHzXoWZHvLrG0kmUMcoXkZRkkoCS7H/K/mUKZcayevqIGMY3ILajwACAAAQYo7jl8/55rSSfBU7X8qv/SoJIB55TLrcJlHGlAQSvw7Kp90/fv5GPidOHtPSet+BqiImAwAAhJjP2Svp5GklHvl18MfPjqRiuUysjHEHajhO0RmtVD43BKgtuAMCAAAQQsX+3Sp2vjqztJx6mTJmn3zOUbkUL49JkVG8HGXJKEZu09xOh4ELRAABAAAIEcc5qWLnyzNKw6Ry3vvh1y7px7sefmWp0PlWXnO9XCZSkjcwNAuo7RiCBQAAEDLlPYw0rIK6Z35v7JdfmTImjPCBOoUAAgAAECLGRMio4RmleRXUdunMSzeX4TGwqHsYggUAABBCLrWUT0cqWOvRqfkgx+VWW0mSo+MlbzYvE16A2o87IAAAACHid47Kpw3lrjNqIKOEoDKftsmvfTKKU7HzhU76P1Sx/5tytwdqKwIIAABACDiOT0X+zytcH+bqptNfQhjYTsfl09bActknaAG1GwEEAAAgBPxOppwK53tEyBiPXCa+3HWSN7BkKpy0DtROzAEBAAAIBeMq/yFYkrxKlyR5TKqMvHKc4zIKl4yR2zSTo5Mq8m8pqevqaKvHQLUggAAAAISAS4lyqaX82i/JFyh3K11udxNJJcO0jKLldiXLmIhAHaNIhbuvt91loFoQQAAAAELAGKMwd7ocp6N8zrdylCe3aSaXiZMkFfsPqthZX1LZkSQjoziFubrJmPCQ9Ru4UAQQAACAEDLGyGNalikvdracUeLIUbaKna/lNR3sdA6oAUxCBwAAqJW8Z68C1EEEEAAAgFoozNVZUqQkt4yiVToEy2NSQ9wz4MIwBAsAAKAWcplYRbh7h7obQLXjDggAAAAAawggAAAAAKwhgAAAAACwhgACAAAAwBoCCAAAAABrCCAAAAAArCGAAAAAALCGAAIAAADAGgIIAACoFr169dKYMWOqtI0xRv/4xz8qXL9s2TIZY5SVlXVBfbvUTZw4UZ06darRfaSkpGjq1KmB5bP9bnHpIoAAAC55FV04z5kzR/Hx8YHliRMnyhijfv36lan77LPPyhijXr16lVm3f/9+hYWFqUOHDuXu3xgT+ImLi9N1112nJUuWnO/hhMy7776rp556KtTdCImCggKNGDFCHTt2lMfj0a233lqmTmmYOvMnMzOzxvv36KOPavHixTW+n9MdPHhQ/fv3P6e61RFWHMfRk08+qaSkJEVGRqp37976+uuvK91m+fLlGjRokJKTkwlMFhFAAACogqSkJC1dulT79+8PKp81a5ZatGhR7jZz5szRkCFDlJOTozVr1pRbZ/bs2Tp48KBWrVqlhg0bauDAgdq9e3e1978m1a9fXzExMaHuxjkpLCys1vZ8Pp8iIyP18MMPq3fv3pXW3b59uw4ePBj4ady4cbX2pTzR0dFq0KBBje/ndImJiQoPD7e2v2eeeUYvvfSSXnnlFa1Zs0ZRUVG66aabVFBQUOE2x48f15VXXqm//vWv1voJAggAAFXSuHFj9e3bV3Pnzg2Uffrppzpy5IgGDBhQpr7jOJo9e7buvvtuDR8+XDNnziy33fj4eCUmJqpDhw6aPn268vPz9dFHH51zv3r16qWHH35Y48aNU/369ZWYmKiJEyee8/bGGM2YMUODBw9WvXr1lJqaqvfffz+ozpYtW9S/f39FR0erSZMmuvvuu3XkyJGgPpx+J+ngwYMaMGCAIiMj1apVK7355ptlhulI0pEjRyrdryStWrVK6enpioiI0NVXX60tW7YErX/nnXfUvn17hYeHKyUlRc8//3zQ+pSUFD311FO65557FBsbq9GjR6uwsFAPPfSQkpKSFBERoZYtW+pPf/rTOZ+z00VFRWn69OkaNWqUEhMTK63buHFjJSYmBn5crqpdjhlj9Oqrr2rgwIGqV6+e2rVrp9WrV2vnzp3q1auXoqKidO2112rXrl2Bbc4cgjVixAjdeuuteu6555SUlKQGDRrowQcfVFFR0Tn14fDhwxo0aFDgdztv3rxy+1l6R6Gyc52SkiJJGjx4sIwxgeWqcBxHU6dO1RNPPKFbbrlF6enpev3113XgwIFK72r0799fkydP1uDBg6u8T5w/AggAAFU0cuRIzZkzJ7A8a9Ys3XnnnQoLCytTd+nSpTpx4oR69+6tu+66S2+99ZaOHz9eafuRkZGSTn1LP2fOHBljztqvuXPnKioqSmvWrNEzzzyjSZMmVSnE/OEPf9CQIUP0+eef6+abb9add96pY8eOSZKysrJ0ww03KCMjQ+vXr9eHH36oQ4cOaciQIRW2d8899+jAgQNatmyZ3nnnHb322ms6fPhwlfZb6re//a2ef/55rVu3To0aNdKgQYMCF8sbNmzQkCFDdMcdd+iLL77QxIkTNX78+KDfkSQ999xzuvLKK7Vp0yaNHz9eL730kt5//33Nnz9f27dv17x584IufkvDVkU/7du3P+dze7pOnTopKSlJffr00apVq86rjdIwtXnzZrVt21bDhw/Xfffdp8cff1zr16+X4zh66KGHKm1j6dKl2rVrl5YuXaq5c+dqzpw5Zc5ZRUaMGKF9+/Zp6dKlevvtt/Xyyy+X+7stVdm5XrdunaRTdwFLl1esWFHp+Y+Ojg4Enz179igzMzPo7lNcXJy6d++u1atXn9MxwR5PqDsAAEBdM3DgQN1///1avny5rrrqKs2fP18rV67UrFmzytSdOXOm7rjjDrndbnXo0EGtW7fWggULNGLEiHLbPnHihJ544gm53W717NlTUsmFVFpa2ln7lZ6ergkTJkiSUlNTNW3aNC1evFh9+vQ5p+MaMWKEhg0bJkl6+umn9dJLL2nt2rXq16+fpk2bpoyMDD399NOB+rNmzVLz5s21Y8cOtWnTJqitbdu26eOPP9a6devUpUsXSdKMGTOUmppapf2WmjBhQuA45s6dq2bNmum9997TkCFD9MILL+jGG2/U+PHjJUlt2rTRV199pWeffTboPN9www0aO3ZsYPnbb79Vamqqrr/+ehlj1LJly6B+zZgxQ/n5+RWeL6/XW/HJLEdSUpJeeeUVdenSRSdPntSMGTPUq1cvrVmzRp07d65SW/fee28g/D322GO65pprNH78eN10002SpEceeUT33ntvpW0kJCRo2rRpcrvdatu2rQYMGKDFixdr1KhRlW63Y8cOLVq0SGvXrlXXrl0llfydt2vXrsJtKjvXjRo1knTqLmCpLl26aPPmzZX2pUmTJpIUmEdTunz6ehtzbFA1BBAAAKrI6/Xqrrvu0uzZs7V79261adNG6enpZeplZWXp3Xff1cqVKwNld911l2bOnFkmgAwbNkxut1v5+flq1KiRZs6cGWhz8ODB5zRE5Mw+JCUlVfqtdGXbR0VFKTY2NrD9Z599pqVLlyo6OrrMdrt27SoTQLZv3y6PxxN0YX355ZcrISGhSvstdc011wQ+169fX2lpadq6daskaevWrbrllluC6l933XWaOnWqfD6f3G63JAWCUKkRI0aoT58+SktLU79+/TRw4ED17ds3sL5p06Zl+noh0tLSgoJk6TCpF198UW+88UaV2jr9nJVedHfs2DGorKCgQDk5OYqNjS23jfbt2wfOjVTy9/LFF1+cdd9bt26Vx+PRVVddFShr27Zt0AMbznS2c12eyMhIXX755WftD+oeAggA4JIXGxur7OzsMuVZWVmKi4srd5uRI0eqe/fu2rJli0aOHFlunTfffFMFBQXq3r17oMxxHPn9/jJ3DV588UX17t1bcXFxgW+Eq+rMb+SNMfL7/dWyfV5engYNGqQ///nPZbZLSko6j96e236rU1RUVNBy586dtWfPHi1atEgff/yxhgwZot69e+vtt9+WVDIEa8WKFRW217JlS3355ZcX1Kdu3boFBdRzdfo5Kx2eV15ZZefR1nmXzn6uy7NixYqzPkXr1Vdf1Z133hm4c3Lo0KGgv8dDhw7V+OOHUXUEEADAJS8tLU3//ve/y5Rv3LixzDf7pdq3b6/27dvr888/1/Dhw8utM3PmTI0dO7bM3Y5f/epXmjVrlqZMmRIoS0xMrNXf9nbu3FnvvPOOUlJS5PGc/fIhLS1NxcXF2rRpU+Cb8p07d+qHH344r/3/5z//CTxl7IcfftCOHTsCQ37atWtXZi7FqlWr1KZNm6Bv+MsTGxuroUOHaujQobr99tvVr18/HTt2TPXr16/2IVjl2bx58wUHONvatm2r4uJibdiwITAEa/v27Wd9V0tl59rr9crn8wXVr8oQrFatWikxMVGLFy8OBI7Sp8498MAD53WcqDkEEADAJe+BBx7QtGnT9PDDD+uXv/ylwsPD9c9//lN///vftXDhwgq3W7JkiYqKisoderJ582Zt3LhR8+bNU9u2bYPWDRs2TJMmTdLkyZPP6WL+vffe0+OPP65t27ZV+diqy4MPPqi//e1vGjZsWOBJWzt37tRbb72lGTNmlLnQb9u2rXr37q3Ro0dr+vTp8nq9Gjt2rCIjI89pQv2ZJk2apAYNGqhJkyb6/e9/r4YNGwbetTF27Fh17dpVTz31lIYOHarVq1dr2rRpevnllytt84UXXlBSUpIyMjLkcrm0YMECJSYmBn6fVR2C9dVXX6mwsFDHjh1Tbm5u4OK59IJ46tSpatWqldq3b6+CggLNmDFDS5YsKTf81malw6juu+8+TZ8+XR6PR2PGjAk8PKE8ZzvXKSkpWrx4sa677jqFh4crISGhSkOwjDEaM2aMJk+erNTUVLVq1Urjx49XcnJy0DtZbrzxRg0ePDgwQT8vL087d+4MrN+zZ482b96s+vXrV/hYbVw4noIFALjktW7dWsuXL9e2bdvUu3dvde/eXfPnz9eCBQvKfelgqaioqArHvc+cOVNXXHFFmfAhlczpOHz4sD744INz6l92dra2b99+TnVrSnJyslatWiWfz6e+ffuqY8eOGjNmjOLj4yt8jOzrr7+uJk2aqEePHho8eLBGjRqlmJgYRUREVHn/U6ZM0SOPPKKrrrpKmZmZWrhwYeCpY507d9b8+fP11ltvqUOHDnryySc1adKkCif6l4qJidEzzzyjLl26qGvXrtq7d68++OCDKj8Wt9TNN9+sjIwMLVy4UMuWLVNGRoYyMjIC6wsLCzV27Fh17NhRPXv21GeffaaPP/5YN954Y6DOuT7xLNRmz56t5ORk9ezZU7fddptGjx5d6ftMznaun3/+eX300Udq3rx50DmrinHjxunXv/61Ro8era5duyovL08ffvhh0N/brl27gh4dvX79+qDf029+8xtlZGToySefPK8+4NwYx3GcUHcCJXJychQXF6fs7OwKJ4wBAFBX7d+/X82bNy9z0Y1TJkyYoE8++UTLli0LdVdQAa7XLhxDsAAAQI1YsmSJ8vLy1LFjRx08eFDjxo1TSkqKevToEequ1VqLFi3StGnTQt0NoEYRQAAAuMjNmzdP9913X7nrquNJThUpKirS7373O+3evVsxMTG69tprNW/evGqZvH2xWrt2bai7cNanT+Xl5VnsDS5GDMGqRbilBwCoCbm5uTp06FC567xeb5kX8OHSlp+fr++++67C9bX5aW02cL124bgDAgDARS4mJkYxMTGh7gbqCF4AiJpGAKlFSm9G5eTkhLgnAAAAKE/pdRqDiM4fAaQWyc3NlSQ1b948xD0BAABAZXJzcxUXFxfqbtRJzAGpRfx+vw4cOKCYmJg68QxwAACAS43jOMrNzVVycvJ5vzPmUkcAAQAAAGANsQ0AAACANQQQAAAAANYQQAAAAABYQwABAAAAYA0BBAAAAIA1BBAAAAAA1hBAAAAAAFhDAAEAAABgDQEEAAAAgDUEEAAAAADWEEAAAAAAWEMAAQAAAGANAQQAAACANQQQAAAAANYQQAAAAABYQwABAAAAYA0BBAAAAIA1BBAAAAAA1hBAAAAAAFhDAAEAAABgDQEEAAAAgDUEEAAAAADWEEAAAAAAWEMAAQAAAGANAQQAAACANQQQAAAAANYQQAAAAABYQwABAAAAYA0BBAAAAIA1BBAAAAAA1hBAAAAAAFhDAAEAAABgDQEEAAAAgDUEEAAAAADWEEAAAAAAWEMAAQAAAGANAQQAAACANQQQAAAAANYQQAAAAABYQwABAAAAYA0BBAAAAIA1BBAAAAAA1hBAAAAAAFhDAAEAAABgDQEEAAAAgDUEEAAAAADWEEAAAAAAWEMAAQAAAGANAQQAAACANQQQAAAAANYQQAAAAABYQwABAAAAYA0BBAAAAIA1BBAAAAAA1hBAAAAAAFhDAAEAAABgDQEEAAAAgDUEEAAAAADWEEAAAAAAWEMAAQAAAGANAQQAAACANQQQAAAAANYQQAAAAABYQwABAAAAYA0BBAAAAIA1BBAAAAAA1hBAAAAAAFhDAAEAAABgDQEEAAAAgDUEEAAAAADWEEAAAAAAWEMAAQAAAGANAQQAAACANQQQAAAAANYQQAAAAABYQwABAAAAYA0BBAAAAIA1BBAAAAAA1hBAAAAAAFhDAAEAAABgDQEEAAAAgDUEEAAAAADWEEAAAAAAWEMAAQAAAGANAQQAAACANf8fcr723k0A7GgAAAAASUVORK5CYII=' width=800.0/>\n",
       "            </div>\n",
       "        "
      ],
      "text/plain": [
       "Canvas(toolbar=Toolbar(toolitems=[('Home', 'Reset original view', 'home', 'home'), ('Back', 'Back to previous …"
      ]
     },
     "metadata": {},
     "output_type": "display_data"
    }
   ],
   "source": [
    "import umap.plot\n",
    "umap.plot.points(mapper, labels=labels[::100])"
   ]
  },
  {
   "cell_type": "markdown",
   "id": "174a5cfe-c4a3-4c0d-bfdd-b197b9280e49",
   "metadata": {},
   "source": [
    "## Run SortingAnalzer"
   ]
  },
  {
   "cell_type": "code",
   "execution_count": 50,
   "id": "658ee589-c14b-49ce-a5ad-08767d71264a",
   "metadata": {},
   "outputs": [
    {
     "data": {
      "application/vnd.jupyter.widget-view+json": {
       "model_id": "0a9ce166301f4dd999770437ec115606",
       "version_major": 2,
       "version_minor": 0
      },
      "text/plain": [
       "estimate_sparsity:   0%|          | 0/1800 [00:00<?, ?it/s]"
      ]
     },
     "metadata": {},
     "output_type": "display_data"
    },
    {
     "data": {
      "application/vnd.jupyter.widget-view+json": {
       "model_id": "8ad3849d707f48d0a1b2b897c1292294",
       "version_major": 2,
       "version_minor": 0
      },
      "text/plain": [
       "compute_waveforms:   0%|          | 0/1800 [00:00<?, ?it/s]"
      ]
     },
     "metadata": {},
     "output_type": "display_data"
    },
    {
     "data": {
      "application/vnd.jupyter.widget-view+json": {
       "model_id": "7efaa10b72654c02b4e169c74e13ac10",
       "version_major": 2,
       "version_minor": 0
      },
      "text/plain": [
       "spike_amplitudes:   0%|          | 0/1800 [00:00<?, ?it/s]"
      ]
     },
     "metadata": {},
     "output_type": "display_data"
    },
    {
     "data": {
      "application/vnd.jupyter.widget-view+json": {
       "model_id": "4873b06ea7964c109cf65a62413a5de6",
       "version_major": 2,
       "version_minor": 0
      },
      "text/plain": [
       "Fitting PCA:   0%|          | 0/16 [00:00<?, ?it/s]"
      ]
     },
     "metadata": {},
     "output_type": "display_data"
    },
    {
     "data": {
      "application/vnd.jupyter.widget-view+json": {
       "model_id": "488563d1f1c74e5cb7cec65a8fb23019",
       "version_major": 2,
       "version_minor": 0
      },
      "text/plain": [
       "Projecting waveforms:   0%|          | 0/16 [00:00<?, ?it/s]"
      ]
     },
     "metadata": {},
     "output_type": "display_data"
    },
    {
     "name": "stdout",
     "output_type": "stream",
     "text": [
      "SortingAnalyzer: 8 channels - 16 units - 1 segments - memory - sparse - has recording\n",
      "Loaded 10 extenstions: random_spikes, waveforms, templates, noise_levels, spike_amplitudes, template_similarity, unit_locations, correlograms, principal_components, quality_metrics\n"
     ]
    }
   ],
   "source": [
    "analyzer = si.create_sorting_analyzer(sorting, recording_preprocess, format=\"memory\")\n",
    "analyzer.compute([\"random_spikes\", \"waveforms\", \"templates\", \"noise_levels\",\n",
    "                  \"spike_amplitudes\", \"template_similarity\"])\n",
    "analyzer.compute(\"unit_locations\", method=\"monopolar_triangulation\")\n",
    "analyzer.compute(\"correlograms\", window_ms=50., bin_ms=1.)\n",
    "analyzer.compute(\"principal_components\", n_components=3, mode='by_channel_global', whiten=True)\n",
    "analyzer.compute(\"quality_metrics\", metric_names=[\"snr\", \"firing_rate\", \"rp_violation\"])\n",
    "print(analyzer)\n"
   ]
  },
  {
   "cell_type": "code",
   "execution_count": 51,
   "id": "34062880-837f-48fe-acfb-5e4deb33dcbd",
   "metadata": {},
   "outputs": [
    {
     "name": "stdout",
     "output_type": "stream",
     "text": [
      "SortingAnalyzer: 8 channels - 16 units - 1 segments - binary_folder - sparse - has recording\n",
      "Loaded 10 extenstions: random_spikes, waveforms, templates, noise_levels, spike_amplitudes, template_similarity, unit_locations, correlograms, principal_components, quality_metrics\n"
     ]
    }
   ],
   "source": [
    "anlyzer_folder = base_folder / \"sortings\" / f\"Analyzer {probe_type} {subject_id} {session_id} {sorter_name}\"\n",
    "if anlyzer_folder.exists():\n",
    "    shutil.rmtree(anlyzer_folder)\n",
    "analyzer = analyzer.save_as(format=\"binary_folder\", folder=anlyzer_folder)\n",
    "print(analyzer)"
   ]
  },
  {
   "cell_type": "code",
   "execution_count": 38,
   "id": "91b86701-2343-4c22-ac53-de738ced443f",
   "metadata": {},
   "outputs": [
    {
     "data": {
      "text/plain": [
       "<spikeinterface.widgets.sorting_summary.SortingSummaryWidget at 0x72f9c3e51e50>"
      ]
     },
     "execution_count": 38,
     "metadata": {},
     "output_type": "execute_result"
    }
   ],
   "source": [
    "%gui qt\n",
    "si.plot_sorting_summary(analyzer, backend='spikeinterface_gui')"
   ]
  },
  {
   "cell_type": "markdown",
   "id": "34c5aa9e-7365-4ec2-8f79-6de387a06fed",
   "metadata": {},
   "source": [
    "### Let's see if there are obvious merges in the results"
   ]
  },
  {
   "cell_type": "code",
   "execution_count": 52,
   "id": "6eb2a386-0632-4783-a5c5-1db30d3c7b98",
   "metadata": {},
   "outputs": [
    {
     "data": {
      "text/plain": [
       "[]"
      ]
     },
     "execution_count": 52,
     "metadata": {},
     "output_type": "execute_result"
    }
   ],
   "source": [
    "si.get_potential_auto_merge(analyzer)"
   ]
  },
  {
   "cell_type": "markdown",
   "id": "702fb6b7-1727-4e23-9c92-96e355caa0a5",
   "metadata": {},
   "source": [
    "### Let's launch more advanced sorters using template mathcing : spykingcircus2"
   ]
  },
  {
   "cell_type": "code",
   "execution_count": 53,
   "id": "4feb642a-6b7a-4d5a-b9ac-627f52fa15e9",
   "metadata": {},
   "outputs": [
    {
     "name": "stdout",
     "output_type": "stream",
     "text": [
      "/home/pierre/WIRED_SI_tutos/sortings/AdTech sub-001 sess-001 spykingcircus2\n",
      "detect peaks using locally_exclusive with n_jobs = 16 and chunk_size = 32768\n"
     ]
    },
    {
     "data": {
      "application/vnd.jupyter.widget-view+json": {
       "model_id": "88bb0fd52e74414b9cf2ff38c636cbb7",
       "version_major": 2,
       "version_minor": 0
      },
      "text/plain": [
       "detect peaks using locally_exclusive:   0%|          | 0/1800 [00:00<?, ?it/s]"
      ]
     },
     "metadata": {},
     "output_type": "display_data"
    },
    {
     "name": "stdout",
     "output_type": "stream",
     "text": [
      "We found 198216 peaks in total\n",
      "We kept 100000 peaks for clustering\n",
      "extracting features with n_jobs = 16 and chunk_size = 32768\n"
     ]
    },
    {
     "data": {
      "application/vnd.jupyter.widget-view+json": {
       "model_id": "3d18263ce60949038e540130b7dc79b4",
       "version_major": 2,
       "version_minor": 0
      },
      "text/plain": [
       "extracting features:   0%|          | 0/1800 [00:00<?, ?it/s]"
      ]
     },
     "metadata": {},
     "output_type": "display_data"
    },
    {
     "name": "stdout",
     "output_type": "stream",
     "text": [
      "estimate_templates with n_jobs = 16 and chunk_size = 32768\n"
     ]
    },
    {
     "data": {
      "application/vnd.jupyter.widget-view+json": {
       "model_id": "a9b8a57cd80e40c099f7ca9983d7779c",
       "version_major": 2,
       "version_minor": 0
      },
      "text/plain": [
       "estimate_templates:   0%|          | 0/1800 [00:00<?, ?it/s]"
      ]
     },
     "metadata": {},
     "output_type": "display_data"
    },
    {
     "name": "stderr",
     "output_type": "stream",
     "text": [
      "/home/pierre/github/spikeinterface/src/spikeinterface/core/baserecordingsnippets.py:244: UserWarning: There is no Probe attached to this recording. Creating a dummy one with contact positions\n",
      "  warn(\"There is no Probe attached to this recording. Creating a dummy one with contact positions\")\n"
     ]
    },
    {
     "name": "stdout",
     "output_type": "stream",
     "text": [
      "We found 19 raw clusters, starting to clean with matching...\n",
      "We kept 19 non-duplicated clusters...\n",
      "estimate_templates with n_jobs = 16 and chunk_size = 32768\n"
     ]
    },
    {
     "data": {
      "application/vnd.jupyter.widget-view+json": {
       "model_id": "a1482b441232416ea019bc75d2ea8f93",
       "version_major": 2,
       "version_minor": 0
      },
      "text/plain": [
       "estimate_templates:   0%|          | 0/1800 [00:00<?, ?it/s]"
      ]
     },
     "metadata": {},
     "output_type": "display_data"
    },
    {
     "name": "stdout",
     "output_type": "stream",
     "text": [
      "find spikes (circus-omp-svd) with n_jobs = 16 and chunk_size = 3276\n"
     ]
    },
    {
     "data": {
      "application/vnd.jupyter.widget-view+json": {
       "model_id": "2b66ef57c2d04930a2716e208041ac70",
       "version_major": 2,
       "version_minor": 0
      },
      "text/plain": [
       "find spikes (circus-omp-svd):   0%|          | 0/18005 [00:00<?, ?it/s]"
      ]
     },
     "metadata": {},
     "output_type": "display_data"
    },
    {
     "name": "stdout",
     "output_type": "stream",
     "text": [
      "We found 191939 spikes\n",
      "spykingcircus2 run time 122.58s\n"
     ]
    },
    {
     "data": {
      "text/plain": [
       "NumpyFolderSorting: 19 units - 1 segments - 32.8kHz"
      ]
     },
     "execution_count": 53,
     "metadata": {},
     "output_type": "execute_result"
    }
   ],
   "source": [
    "sorter_name = 'spykingcircus2'\n",
    "output_folder = base_folder / \"sortings\" / f\"{probe_type} {subject_id} {session_id} {sorter_name}\"\n",
    "print(output_folder)\n",
    "\n",
    "if output_folder.exists():\n",
    "    shutil.rmtree(output_folder)\n",
    "\n",
    "sorting = si.run_sorter(sorter_name, recording, verbose=True, \n",
    "                          output_folder=output_folder,\n",
    "                          apply_preprocessing=False, \n",
    "                          detection= {\"peak_sign\": \"neg\",  \"detect_threshold\": 5.0},\n",
    "                          )\n",
    "sorting"
   ]
  },
  {
   "cell_type": "code",
   "execution_count": 35,
   "id": "1c439e17-0248-44a6-9b3a-9a318820bf37",
   "metadata": {},
   "outputs": [
    {
     "data": {
      "application/vnd.jupyter.widget-view+json": {
       "model_id": "dab5f1b4ce6c4e59b07871a40c3ad52d",
       "version_major": 2,
       "version_minor": 0
      },
      "text/plain": [
       "estimate_sparsity:   0%|          | 0/1800 [00:00<?, ?it/s]"
      ]
     },
     "metadata": {},
     "output_type": "display_data"
    },
    {
     "data": {
      "application/vnd.jupyter.widget-view+json": {
       "model_id": "04242bb07edc4998801ae592cda6d140",
       "version_major": 2,
       "version_minor": 0
      },
      "text/plain": [
       "compute_waveforms:   0%|          | 0/1800 [00:00<?, ?it/s]"
      ]
     },
     "metadata": {},
     "output_type": "display_data"
    },
    {
     "data": {
      "application/vnd.jupyter.widget-view+json": {
       "model_id": "5a9627c7626841039aa8b6d7f99ea528",
       "version_major": 2,
       "version_minor": 0
      },
      "text/plain": [
       "spike_amplitudes:   0%|          | 0/1800 [00:00<?, ?it/s]"
      ]
     },
     "metadata": {},
     "output_type": "display_data"
    },
    {
     "data": {
      "application/vnd.jupyter.widget-view+json": {
       "model_id": "1dfd5855ffc141d99280c98930e4a72f",
       "version_major": 2,
       "version_minor": 0
      },
      "text/plain": [
       "Fitting PCA:   0%|          | 0/20 [00:00<?, ?it/s]"
      ]
     },
     "metadata": {},
     "output_type": "display_data"
    },
    {
     "data": {
      "application/vnd.jupyter.widget-view+json": {
       "model_id": "b7f2f788977c45159b4cbaba8847da14",
       "version_major": 2,
       "version_minor": 0
      },
      "text/plain": [
       "Projecting waveforms:   0%|          | 0/20 [00:00<?, ?it/s]"
      ]
     },
     "metadata": {},
     "output_type": "display_data"
    },
    {
     "name": "stdout",
     "output_type": "stream",
     "text": [
      "SortingAnalyzer: 8 channels - 20 units - 1 segments - memory - sparse - has recording\n",
      "Loaded 11 extenstions: random_spikes, waveforms, templates, noise_levels, isi_histograms, spike_amplitudes, template_similarity, unit_locations, correlograms, principal_components, quality_metrics\n"
     ]
    }
   ],
   "source": [
    "analyzer = si.create_sorting_analyzer(sorting, recording, format=\"memory\")\n",
    "analyzer.compute([\"random_spikes\", \"waveforms\", \"templates\", \"noise_levels\",\n",
    "                  \"isi_histograms\", \"spike_amplitudes\", \"template_similarity\"])\n",
    "analyzer.compute(\"unit_locations\", method=\"grid_convolution\")\n",
    "analyzer.compute(\"correlograms\", window_ms=50., bin_ms=1.)\n",
    "analyzer.compute(\"principal_components\", n_components=3, mode='by_channel_global', whiten=True)\n",
    "analyzer.compute(\"quality_metrics\", metric_names=[\"snr\", \"firing_rate\", \"rp_violation\"])\n",
    "print(analyzer)"
   ]
  },
  {
   "cell_type": "code",
   "execution_count": 36,
   "id": "c00800dd-1dc5-4b31-bd84-9abc019c3969",
   "metadata": {},
   "outputs": [
    {
     "name": "stdout",
     "output_type": "stream",
     "text": [
      "SortingAnalyzer: 8 channels - 20 units - 1 segments - binary_folder - sparse - has recording\n",
      "Loaded 11 extenstions: random_spikes, waveforms, templates, noise_levels, isi_histograms, spike_amplitudes, template_similarity, unit_locations, correlograms, principal_components, quality_metrics\n"
     ]
    }
   ],
   "source": [
    "anlyzer_folder = base_folder / \"sortings\" / f\"Analyzer {probe_type} {subject_id} {session_id} {sorter_name}\"\n",
    "if anlyzer_folder.exists():\n",
    "    shutil.rmtree(anlyzer_folder)\n",
    "analyzer = analyzer.save_as(format=\"binary_folder\", folder=anlyzer_folder)\n",
    "print(analyzer)"
   ]
  },
  {
   "cell_type": "code",
   "execution_count": 37,
   "id": "6fc7332c-d0ea-4f49-8972-cbfa9c881708",
   "metadata": {},
   "outputs": [
    {
     "data": {
      "text/plain": [
       "<spikeinterface.widgets.sorting_summary.SortingSummaryWidget at 0x7242b49db050>"
      ]
     },
     "execution_count": 37,
     "metadata": {},
     "output_type": "execute_result"
    }
   ],
   "source": [
    "%gui qt\n",
    "si.plot_sorting_summary(analyzer, backend='spikeinterface_gui')"
   ]
  },
  {
   "cell_type": "markdown",
   "id": "a9a863a2-64d3-466d-8be1-9ce6700ad848",
   "metadata": {},
   "source": [
    "### Let's see if there are obvious merges in the results"
   ]
  },
  {
   "cell_type": "code",
   "execution_count": 38,
   "id": "52bf7c85-23a4-4088-abe1-25d75290b793",
   "metadata": {},
   "outputs": [
    {
     "data": {
      "text/plain": [
       "[]"
      ]
     },
     "execution_count": 38,
     "metadata": {},
     "output_type": "execute_result"
    }
   ],
   "source": [
    "si.get_potential_auto_merge(analyzer)"
   ]
  },
  {
   "cell_type": "markdown",
   "id": "1fd4fc7e-549d-4a56-893f-5e42fe5a7933",
   "metadata": {},
   "source": [
    "### Now, let's see how many units can pass the quality threehold"
   ]
  },
  {
   "cell_type": "code",
   "execution_count": 39,
   "id": "1e4c5f93-3aac-4d49-ba8c-f4f8a3a03e34",
   "metadata": {},
   "outputs": [
    {
     "name": "stdout",
     "output_type": "stream",
     "text": [
      "    firing_rate  rp_contamination  rp_violations      snr\n",
      "14     5.768889          0.086632           10.0  5.84756\n"
     ]
    }
   ],
   "source": [
    "metrics = analyzer.get_extension('quality_metrics').get_data()\n",
    "quality_criteria = 'snr > 3 & rp_contamination < 0.4'\n",
    "good_unit_indices = metrics.query(quality_criteria)\n",
    "print(good_unit_indices)"
   ]
  },
  {
   "cell_type": "code",
   "execution_count": 40,
   "id": "4ef22ca5-7c28-4fcb-8054-039354257c77",
   "metadata": {},
   "outputs": [
    {
     "name": "stdout",
     "output_type": "stream",
     "text": [
      "https://figurl.org/f?v=npm://@fi-sci/figurl-sortingview@12/dist&d=sha1://de66d5827bcf89c1979dd2440458152c8a863f90\n"
     ]
    },
    {
     "data": {
      "text/plain": [
       "<spikeinterface.widgets.sorting_summary.SortingSummaryWidget at 0x7242a5446450>"
      ]
     },
     "execution_count": 40,
     "metadata": {},
     "output_type": "execute_result"
    }
   ],
   "source": [
    "si.plot_sorting_summary(analyzer, backend='sortingview')"
   ]
  }
 ],
 "metadata": {
  "kernelspec": {
   "display_name": "Python 3 (ipykernel)",
   "language": "python",
   "name": "python3"
  },
  "language_info": {
   "codemirror_mode": {
    "name": "ipython",
    "version": 3
   },
   "file_extension": ".py",
   "mimetype": "text/x-python",
   "name": "python",
   "nbconvert_exporter": "python",
   "pygments_lexer": "ipython3",
   "version": "3.11.6"
  }
 },
 "nbformat": 4,
 "nbformat_minor": 5
}
