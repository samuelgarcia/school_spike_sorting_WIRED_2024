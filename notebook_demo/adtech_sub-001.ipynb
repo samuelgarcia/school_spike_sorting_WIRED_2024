{
 "cells": [
  {
   "cell_type": "markdown",
   "id": "67148348-4c80-4040-860d-fd08b0b8e257",
   "metadata": {},
   "source": [
    "### First, we create a notebook with autoreload with appropriate imports"
   ]
  },
  {
   "cell_type": "code",
   "execution_count": 1,
   "id": "2fe21e09-09b5-4db9-b94c-6121c62134df",
   "metadata": {},
   "outputs": [],
   "source": [
    "%load_ext autoreload\n",
    "%autoreload 2\n",
    "%matplotlib inline"
   ]
  },
  {
   "cell_type": "code",
   "execution_count": 2,
   "id": "5d1a981f-3c4e-4a4b-a333-a5c3002cf620",
   "metadata": {},
   "outputs": [],
   "source": [
    "from pathlib import Path\n",
    "import shutil\n",
    "import numpy as np\n",
    "\n",
    "import spikeinterface.full as si\n",
    "import probeinterface"
   ]
  },
  {
   "cell_type": "code",
   "execution_count": 3,
   "id": "32dbbedf-360a-4792-bcea-4c7fdca80bff",
   "metadata": {},
   "outputs": [],
   "source": [
    "#base_folder = Path(\"/home/samuel/DataSpikeSorting/WIRED_SI_tutos/\")\n",
    "base_folder = Path(\"/home/pierre/WIRED_SI_tutos/\")"
   ]
  },
  {
   "cell_type": "markdown",
   "id": "6fee63a0-1e6b-46d5-b953-fae844d5c42c",
   "metadata": {},
   "source": [
    "### We set the number of jobs globally for spikeinterface"
   ]
  },
  {
   "cell_type": "code",
   "execution_count": 4,
   "id": "be16cec5-55bf-4c10-860d-fa01ae4ea62c",
   "metadata": {},
   "outputs": [],
   "source": [
    "si.set_global_job_kwargs(n_jobs=-1, chunk_duration=\"1s\", progress_bar=True)"
   ]
  },
  {
   "cell_type": "markdown",
   "id": "2ea03e8f-053a-4588-92bf-25416841996e",
   "metadata": {},
   "source": [
    "### Then we focus on a particular dataset"
   ]
  },
  {
   "cell_type": "code",
   "execution_count": 5,
   "id": "1d88dc5d-9560-4a72-8e84-97393817ff25",
   "metadata": {},
   "outputs": [],
   "source": [
    "probe_type = \"AdTech\"\n",
    "subject_id = \"sub-001\"\n",
    "session_id = \"sess-001\""
   ]
  },
  {
   "cell_type": "code",
   "execution_count": 6,
   "id": "85dabf1f-d0b5-4fe0-80cb-21f2a3d29391",
   "metadata": {},
   "outputs": [
    {
     "name": "stdout",
     "output_type": "stream",
     "text": [
      "/home/pierre/WIRED_SI_tutos/Neuralynx/AdTech/sub-001/sess-001/ieeg\n",
      "/home/pierre/WIRED_SI_tutos/Binary/AdTech/sub-001/sess-001/ieeg\n"
     ]
    }
   ],
   "source": [
    "neuralynx_folder = base_folder / \"Neuralynx\" / probe_type / subject_id / session_id / \"ieeg\"\n",
    "print(neuralynx_folder)\n",
    "\n",
    "binary_folder = base_folder / \"Binary\" / probe_type / subject_id / session_id / \"ieeg\"\n",
    "binary_folder.parent.mkdir(exist_ok=True, parents=True)\n",
    "print(binary_folder)\n",
    "\n",
    "(base_folder / \"sortings\").mkdir(exist_ok=True, parents=True)"
   ]
  },
  {
   "cell_type": "markdown",
   "id": "43e43351-1732-4320-b3cf-b59aed7d9a70",
   "metadata": {},
   "source": [
    "### We can load the data from neuralynx format and save it to binary"
   ]
  },
  {
   "cell_type": "code",
   "execution_count": 7,
   "id": "dd6ae3d7-b238-4064-8b0f-afc3f51e09b3",
   "metadata": {},
   "outputs": [],
   "source": [
    "if binary_folder.exists():\n",
    "    # already converted\n",
    "    raw_recording =si.load_extractor(binary_folder)\n",
    "else:\n",
    "    raw_recording = si.read_neuralynx(neuralynx_folder)\n",
    "    print(raw_recording)\n",
    "    #raw_recording = si.concatenate_recordings([raw_recording])\n",
    "    print(raw_recording)\n",
    "    raw_recording = raw_recording.save(folder=binary_folder)"
   ]
  },
  {
   "cell_type": "code",
   "execution_count": 8,
   "id": "b659762d-df10-4820-ba56-1d7da321766b",
   "metadata": {},
   "outputs": [
    {
     "name": "stdout",
     "output_type": "stream",
     "text": [
      "BinaryFolderRecording: 8 channels - 32.8kHz - 1 segments - 235,929,740 samples \n",
      "                       7,200.00s (2.00 hours) - int16 dtype - 3.52 GiB\n"
     ]
    }
   ],
   "source": [
    "print(raw_recording)"
   ]
  },
  {
   "cell_type": "markdown",
   "id": "07cb5452-e7df-42ef-b79f-f1c895873ca2",
   "metadata": {},
   "source": [
    "### We need to create the probes, and attach them to the recordings"
   ]
  },
  {
   "cell_type": "markdown",
   "id": "d4418f09-ae31-4986-a01a-a381efd9a2c7",
   "metadata": {},
   "source": [
    "With the DIXI probe, we have no insight on the positions of the channels. Therefore, we will make them artificially far from each other in order to ensure that they are processed independantly. This is a choice that has to be taken. Either you set the channels far apart from each others (xpitch, ypitch very large), either you let the sorting algorithm decide, and set them close alltogether, assuming you do not really know the physical positions"
   ]
  },
  {
   "cell_type": "code",
   "execution_count": 9,
   "id": "d16ef235-876f-423f-8ce3-f526b4354e66",
   "metadata": {},
   "outputs": [
    {
     "data": {
      "text/plain": [
       "Probe - 8ch - 1shanks"
      ]
     },
     "execution_count": 9,
     "metadata": {},
     "output_type": "execute_result"
    }
   ],
   "source": [
    "probe = probeinterface.generate_multi_columns_probe(num_columns=2, num_contact_per_column=4, xpitch=10, ypitch=10)\n",
    "probe.set_device_channel_indices(np.arange(raw_recording.get_num_channels()))\n",
    "probe"
   ]
  },
  {
   "cell_type": "code",
   "execution_count": 10,
   "id": "3adb7435-c1da-4ee2-b6e1-ff49abd8181a",
   "metadata": {},
   "outputs": [
    {
     "data": {
      "text/html": [
       "<div>\n",
       "<style scoped>\n",
       "    .dataframe tbody tr th:only-of-type {\n",
       "        vertical-align: middle;\n",
       "    }\n",
       "\n",
       "    .dataframe tbody tr th {\n",
       "        vertical-align: top;\n",
       "    }\n",
       "\n",
       "    .dataframe thead th {\n",
       "        text-align: right;\n",
       "    }\n",
       "</style>\n",
       "<table border=\"1\" class=\"dataframe\">\n",
       "  <thead>\n",
       "    <tr style=\"text-align: right;\">\n",
       "      <th></th>\n",
       "      <th>x</th>\n",
       "      <th>y</th>\n",
       "      <th>contact_shapes</th>\n",
       "      <th>radius</th>\n",
       "      <th>shank_ids</th>\n",
       "      <th>contact_ids</th>\n",
       "    </tr>\n",
       "  </thead>\n",
       "  <tbody>\n",
       "    <tr>\n",
       "      <th>0</th>\n",
       "      <td>0.0</td>\n",
       "      <td>0.0</td>\n",
       "      <td>circle</td>\n",
       "      <td>6.0</td>\n",
       "      <td></td>\n",
       "      <td>0</td>\n",
       "    </tr>\n",
       "    <tr>\n",
       "      <th>1</th>\n",
       "      <td>0.0</td>\n",
       "      <td>10.0</td>\n",
       "      <td>circle</td>\n",
       "      <td>6.0</td>\n",
       "      <td></td>\n",
       "      <td>1</td>\n",
       "    </tr>\n",
       "    <tr>\n",
       "      <th>2</th>\n",
       "      <td>0.0</td>\n",
       "      <td>20.0</td>\n",
       "      <td>circle</td>\n",
       "      <td>6.0</td>\n",
       "      <td></td>\n",
       "      <td>2</td>\n",
       "    </tr>\n",
       "    <tr>\n",
       "      <th>3</th>\n",
       "      <td>0.0</td>\n",
       "      <td>30.0</td>\n",
       "      <td>circle</td>\n",
       "      <td>6.0</td>\n",
       "      <td></td>\n",
       "      <td>3</td>\n",
       "    </tr>\n",
       "    <tr>\n",
       "      <th>4</th>\n",
       "      <td>10.0</td>\n",
       "      <td>0.0</td>\n",
       "      <td>circle</td>\n",
       "      <td>6.0</td>\n",
       "      <td></td>\n",
       "      <td>4</td>\n",
       "    </tr>\n",
       "    <tr>\n",
       "      <th>5</th>\n",
       "      <td>10.0</td>\n",
       "      <td>10.0</td>\n",
       "      <td>circle</td>\n",
       "      <td>6.0</td>\n",
       "      <td></td>\n",
       "      <td>5</td>\n",
       "    </tr>\n",
       "    <tr>\n",
       "      <th>6</th>\n",
       "      <td>10.0</td>\n",
       "      <td>20.0</td>\n",
       "      <td>circle</td>\n",
       "      <td>6.0</td>\n",
       "      <td></td>\n",
       "      <td>6</td>\n",
       "    </tr>\n",
       "    <tr>\n",
       "      <th>7</th>\n",
       "      <td>10.0</td>\n",
       "      <td>30.0</td>\n",
       "      <td>circle</td>\n",
       "      <td>6.0</td>\n",
       "      <td></td>\n",
       "      <td>7</td>\n",
       "    </tr>\n",
       "  </tbody>\n",
       "</table>\n",
       "</div>"
      ],
      "text/plain": [
       "      x     y contact_shapes  radius shank_ids contact_ids\n",
       "0   0.0   0.0         circle     6.0                     0\n",
       "1   0.0  10.0         circle     6.0                     1\n",
       "2   0.0  20.0         circle     6.0                     2\n",
       "3   0.0  30.0         circle     6.0                     3\n",
       "4  10.0   0.0         circle     6.0                     4\n",
       "5  10.0  10.0         circle     6.0                     5\n",
       "6  10.0  20.0         circle     6.0                     6\n",
       "7  10.0  30.0         circle     6.0                     7"
      ]
     },
     "execution_count": 10,
     "metadata": {},
     "output_type": "execute_result"
    }
   ],
   "source": [
    "probe.to_dataframe()"
   ]
  },
  {
   "cell_type": "code",
   "execution_count": 11,
   "id": "6f8d7eff-7596-434c-8001-4a2bb574e836",
   "metadata": {},
   "outputs": [
    {
     "name": "stdout",
     "output_type": "stream",
     "text": [
      "BinaryFolderRecording: 8 channels - 32.8kHz - 1 segments - 235,929,740 samples \n",
      "                       7,200.00s (2.00 hours) - int16 dtype - 3.52 GiB\n"
     ]
    }
   ],
   "source": [
    "raw_recording = raw_recording.set_probe(probe)\n",
    "print(raw_recording)"
   ]
  },
  {
   "cell_type": "code",
   "execution_count": 12,
   "id": "f6fb4776-841d-40ed-a798-f9c1331b1dbb",
   "metadata": {},
   "outputs": [
    {
     "data": {
      "text/plain": [
       "<spikeinterface.widgets.probe_map.ProbeMapWidget at 0x7371b04af9a0>"
      ]
     },
     "execution_count": 12,
     "metadata": {},
     "output_type": "execute_result"
    },
    {
     "data": {
      "image/png": "[encoded data removed]",
      "text/plain": [
       "<Figure size 640x480 with 1 Axes>"
      ]
     },
     "metadata": {},
     "output_type": "display_data"
    }
   ],
   "source": [
    "si.plot_probe_map(raw_recording, with_channel_ids=True, with_contact_id=True)"
   ]
  },
  {
   "cell_type": "markdown",
   "id": "18ef9f08-d596-4564-b0b3-ab1e7f862968",
   "metadata": {},
   "source": [
    "### Slicing the recording (for the demo only)"
   ]
  },
  {
   "cell_type": "code",
   "execution_count": 13,
   "id": "96f38859-7bf9-4d2c-b4b1-dccdee042c91",
   "metadata": {},
   "outputs": [],
   "source": [
    "frame_start = 0\n",
    "frame_stop = int(30 * 60 * raw_recording.sampling_frequency)\n",
    "raw_recording = raw_recording.frame_slice(frame_start, frame_stop)"
   ]
  },
  {
   "cell_type": "markdown",
   "id": "e5500dd6-f686-499b-aa69-ff004bf3dd76",
   "metadata": {},
   "source": [
    "## explore raw traces\n",
    "\n",
    "two way:\n",
    "  * inside jupyter with `backend=\"ipywidgets\"` : slow but enable remote visualization\n",
    "  * using desktop app `backend=\"ephyviewer\"` (no remote vis) : faster but freeze the jupyter notebook\n"
   ]
  },
  {
   "cell_type": "code",
   "execution_count": 14,
   "id": "42c84694-72fc-404e-8655-ada52a692568",
   "metadata": {},
   "outputs": [
    {
     "data": {
      "application/vnd.jupyter.widget-view+json": {
       "model_id": "52ab23b82e5d4be882a7e7cabb6684f0",
       "version_major": 2,
       "version_minor": 0
      },
      "text/plain": [
       "AppLayout(children=(TimeSlider(children=(Dropdown(description='segment', options=(0,), value=0), Button(icon='…"
      ]
     },
     "metadata": {},
     "output_type": "display_data"
    },
    {
     "data": {
      "text/plain": [
       "<spikeinterface.widgets.traces.TracesWidget at 0x73715133eeb0>"
      ]
     },
     "execution_count": 14,
     "metadata": {},
     "output_type": "execute_result"
    }
   ],
   "source": [
    "%matplotlib widget\n",
    "si.plot_traces(raw_recording, backend=\"ipywidgets\")"
   ]
  },
  {
   "cell_type": "code",
   "execution_count": 15,
   "id": "4a6a45cb-e920-4b4d-9ba0-1d375bbadacb",
   "metadata": {},
   "outputs": [],
   "source": [
    "# this work only with local notebook!!!\n",
    "#%gui qt\n",
    "#si.plot_traces(raw_recording, backend=\"ephyviewer\")"
   ]
  },
  {
   "cell_type": "markdown",
   "id": "f3c33a40-1c71-4b9a-95fc-c257b7b256ed",
   "metadata": {},
   "source": [
    "### We can preprocess the signals, and also extract an enveloppe to remove/identify artefacts"
   ]
  },
  {
   "cell_type": "code",
   "execution_count": 16,
   "id": "43220d3f-fe73-4a6c-94cc-a3e612df94e3",
   "metadata": {},
   "outputs": [
    {
     "data": {
      "text/plain": [
       "CommonReferenceRecording: 8 channels - 32.8kHz - 1 segments - 58,982,400 samples \n",
       "                          1,800.00s (30.00 minutes) - float32 dtype - 1.76 GiB"
      ]
     },
     "execution_count": 16,
     "metadata": {},
     "output_type": "execute_result"
    }
   ],
   "source": [
    "recording_f = si.bandpass_filter(raw_recording, freq_min=300.0, freq_max=8000.0, dtype='float32')\n",
    "recording_preprocess = si.common_reference(recording_f)\n",
    "recording_preprocess"
   ]
  },
  {
   "cell_type": "code",
   "execution_count": 17,
   "id": "1e01deab-b452-4021-a97b-b8084ef57f81",
   "metadata": {},
   "outputs": [
    {
     "data": {
      "application/vnd.jupyter.widget-view+json": {
       "model_id": "cf1a06ca93124f039e720e19a2cf7387",
       "version_major": 2,
       "version_minor": 0
      },
      "text/plain": [
       "AppLayout(children=(TimeSlider(children=(Dropdown(description='segment', options=(0,), value=0), Button(icon='…"
      ]
     },
     "metadata": {},
     "output_type": "display_data"
    },
    {
     "data": {
      "text/plain": [
       "<spikeinterface.widgets.traces.TracesWidget at 0x7371510a9430>"
      ]
     },
     "execution_count": 17,
     "metadata": {},
     "output_type": "execute_result"
    }
   ],
   "source": [
    "%matplotlib widget\n",
    "si.plot_traces({\"preprocess\": recording_preprocess, \"filtered_only\":recording_f} , backend=\"ipywidgets\")"
   ]
  },
  {
   "cell_type": "code",
   "execution_count": 18,
   "id": "f0f8e99b-153b-4dd5-aa0f-d8b8f0f2c270",
   "metadata": {},
   "outputs": [],
   "source": [
    "#%gui qt\n",
    "#si.plot_traces(recording_preprocess, backend=\"ephyviewer\")"
   ]
  },
  {
   "cell_type": "markdown",
   "id": "18bc57ac-8e4e-4e87-9ed0-9d93b6f732fd",
   "metadata": {},
   "source": [
    "## detect and remove artifact\n",
    "\n",
    "The preprocess signal show very high artifact.\n",
    "\n",
    "Here a simple way to handle then:\n",
    "  * create the signal envelop\n",
    "  * detect period with high\n",
    "  * blank period with zeros or noise\n"
   ]
  },
  {
   "cell_type": "code",
   "execution_count": 19,
   "id": "d4ad275c-97d0-4c4d-ba4f-b119504b3354",
   "metadata": {},
   "outputs": [
    {
     "name": "stdout",
     "output_type": "stream",
     "text": [
      "CommonReferenceRecording: 8 channels - 32.8kHz - 1 segments - 58,982,400 samples \n",
      "                          1,800.00s (30.00 minutes) - float32 dtype - 1.76 GiB\n"
     ]
    },
    {
     "data": {
      "application/vnd.jupyter.widget-view+json": {
       "model_id": "061519856d8d4b81960fa8601b2ae3a1",
       "version_major": 2,
       "version_minor": 0
      },
      "text/plain": [
       "detecting threshold crossings:   0%|          | 0/1800 [00:00<?, ?it/s]"
      ]
     },
     "metadata": {},
     "output_type": "display_data"
    },
    {
     "name": "stdout",
     "output_type": "stream",
     "text": [
      "Artefact period 1183\n"
     ]
    }
   ],
   "source": [
    "from threshold_detector import detect_artefacts\n",
    "## Get the enveloppe\n",
    "enveloppe = si.rectify(recording_preprocess)\n",
    "enveloppe = si.gaussian_filter(enveloppe, freq_min=None, freq_max=20.)\n",
    "enveloppe = si.common_reference(enveloppe)\n",
    "print(enveloppe)\n",
    "\n",
    "periods = detect_artefacts(enveloppe, detect_threshold=5)\n",
    "print(\"Artefact period\", len(periods))"
   ]
  },
  {
   "cell_type": "code",
   "execution_count": 20,
   "id": "7392425b-5456-48f9-ba53-8bec251ea9b5",
   "metadata": {},
   "outputs": [
    {
     "data": {
      "text/plain": [
       "SilencedPeriodsRecording: 8 channels - 32.8kHz - 1 segments - 58,982,400 samples \n",
       "                          1,800.00s (30.00 minutes) - float32 dtype - 1.76 GiB"
      ]
     },
     "execution_count": 20,
     "metadata": {},
     "output_type": "execute_result"
    }
   ],
   "source": [
    "recording_silenced = si.silence_periods(recording_preprocess, periods, mode='zeros')\n",
    "# recording_silenced = si.silence_periods(recording_preprocess, periods, mode='noise')\n",
    "recording_silenced"
   ]
  },
  {
   "cell_type": "code",
   "execution_count": 21,
   "id": "cec039e5-349e-4cd9-b2c0-ce7b27696a02",
   "metadata": {},
   "outputs": [
    {
     "data": {
      "application/vnd.jupyter.widget-view+json": {
       "model_id": "c7f65f02d7bc4d9cb5e2337cc9e0c595",
       "version_major": 2,
       "version_minor": 0
      },
      "text/plain": [
       "AppLayout(children=(TimeSlider(children=(Dropdown(description='segment', options=(0,), value=0), Button(icon='…"
      ]
     },
     "metadata": {},
     "output_type": "display_data"
    },
    {
     "data": {
      "text/plain": [
       "<spikeinterface.widgets.traces.TracesWidget at 0x7371510d01f0>"
      ]
     },
     "execution_count": 21,
     "metadata": {},
     "output_type": "execute_result"
    }
   ],
   "source": [
    "%matplotlib widget\n",
    "si.plot_traces({\"silenced\": recording_silenced, \"with_artifact\":recording_preprocess, \"enveloppe\" :enveloppe} , backend=\"ipywidgets\")"
   ]
  },
  {
   "cell_type": "markdown",
   "id": "5036655c-170e-4aec-b9f5-6c3c78628bfb",
   "metadata": {},
   "source": [
    "## Noise levels over time, before and after cleaning\n",
    "\n",
    "We can check that removing the artefacts is indeed reducing the noise levels, as expected. We can also appreciate the dispersion of the noise over all channels, and see that the MAD tends to be less variable than the STD, with a ratio of approx 0.66\n"
   ]
  },
  {
   "cell_type": "code",
   "execution_count": 22,
   "id": "84295357-9fd6-4df5-acfd-170ce9f7b43f",
   "metadata": {},
   "outputs": [
    {
     "data": {
      "application/vnd.jupyter.widget-view+json": {
       "model_id": "0b95a7ef850c4c5c9140cb8715857c90",
       "version_major": 2,
       "version_minor": 0
      },
      "image/png": "[encoded data removed]",
      "text/html": [
       "\n",
       "            <div style=\"display: inline-block;\">\n",
       "                <div class=\"jupyter-widgets widget-label\" style=\"text-align: center;\">\n",
       "                    Figure\n",
       "                </div>\n",
       "                <img src='data:image/png;base64,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' width=640.0/>\n",
       "            </div>\n",
       "        "
      ],
      "text/plain": [
       "Canvas(toolbar=Toolbar(toolitems=[('Home', 'Reset original view', 'home', 'home'), ('Back', 'Back to previous …"
      ]
     },
     "metadata": {},
     "output_type": "display_data"
    }
   ],
   "source": [
    "noise_levels = {}\n",
    "my_dict = {\"silenced\": recording_silenced, \"with_artifact\":recording_preprocess}\n",
    "for key, rec in my_dict.items():\n",
    "    noise_levels[key] = {}\n",
    "    for method in ['std', 'mad']:\n",
    "        noise = si.get_noise_levels(rec, return_scaled=True, num_chunks_per_segment=100, \n",
    "                                    force_recompute=True, concatenated=True, method=method)\n",
    "        noise_levels[key][method] = noise\n",
    "\n",
    "import pylab as plt\n",
    "fig, axes = plt.subplots(2, 1)\n",
    "for count, key in enumerate(['mad', 'std']):\n",
    "    axes[count].violinplot([noise_levels[r][key] for r in my_dict.keys()], showmeans=True)\n",
    "    axes[count].set_title(key)\n",
    "    axes[count].set_xticks([1, 2], ['silenced', 'with_artifact'])"
   ]
  },
  {
   "cell_type": "code",
   "execution_count": 23,
   "id": "2cf96904-20e0-481d-9173-ec7230231d3c",
   "metadata": {},
   "outputs": [],
   "source": [
    "#%gui qt\n",
    "#si.plot_traces({\"silenced\": recording_silenced, \"with_artifact\":recording_preprocess}, backend='ephyviewer')"
   ]
  },
  {
   "cell_type": "code",
   "execution_count": 24,
   "id": "701c3039-0872-440b-8e5c-c9ddd1e6786e",
   "metadata": {},
   "outputs": [],
   "source": [
    "recording = recording_silenced"
   ]
  },
  {
   "cell_type": "markdown",
   "id": "b742633f-0d85-492b-b06b-2ec682efb9bd",
   "metadata": {},
   "source": [
    "### Let's launch a very simple and naive sorter on the data (peak detection, feature extraction, clustering)"
   ]
  },
  {
   "cell_type": "code",
   "execution_count": 41,
   "id": "763ab942-8955-4142-b82f-fbcee42909e4",
   "metadata": {},
   "outputs": [
    {
     "name": "stdout",
     "output_type": "stream",
     "text": [
      "/home/pierre/WIRED_SI_tutos/sortings/AdTech sub-001 sess-001 simple\n",
      "detect peaks using locally_exclusive with n_jobs = 20 and chunk_size = 32768\n"
     ]
    },
    {
     "data": {
      "application/vnd.jupyter.widget-view+json": {
       "model_id": "2bb8603d55794140895bd0eb3cac7c1a",
       "version_major": 2,
       "version_minor": 0
      },
      "text/plain": [
       "detect peaks using locally_exclusive:   0%|          | 0/7201 [00:00<?, ?it/s]"
      ]
     },
     "metadata": {},
     "output_type": "display_data"
    },
    {
     "name": "stdout",
     "output_type": "stream",
     "text": [
      "We found 467833 peaks in total\n",
      "extract waveforms shared_memory mono buffer with n_jobs = 20 and chunk_size = 32768\n"
     ]
    },
    {
     "data": {
      "application/vnd.jupyter.widget-view+json": {
       "model_id": "3749ec0d859048e985107b9c90dbb3db",
       "version_major": 2,
       "version_minor": 0
      },
      "text/plain": [
       "extract waveforms shared_memory mono buffer:   0%|          | 0/7201 [00:00<?, ?it/s]"
      ]
     },
     "metadata": {},
     "output_type": "display_data"
    },
    {
     "name": "stdout",
     "output_type": "stream",
     "text": [
      "extracting features with n_jobs = 20 and chunk_size = 32768\n"
     ]
    },
    {
     "data": {
      "application/vnd.jupyter.widget-view+json": {
       "model_id": "7988380aa021464db5fc0727994cc6f2",
       "version_major": 2,
       "version_minor": 0
      },
      "text/plain": [
       "extracting features:   0%|          | 0/7201 [00:00<?, ?it/s]"
      ]
     },
     "metadata": {},
     "output_type": "display_data"
    },
    {
     "name": "stdout",
     "output_type": "stream",
     "text": [
      "simple run time 26.70s\n"
     ]
    },
    {
     "data": {
      "text/plain": [
       "NumpyFolderSorting: 16 units - 1 segments - 32.8kHz"
      ]
     },
     "execution_count": 41,
     "metadata": {},
     "output_type": "execute_result"
    }
   ],
   "source": [
    "sorter_name = 'simple'\n",
    "output_folder = base_folder / \"sortings\" / f\"{probe_type} {subject_id} {session_id} {sorter_name}\"\n",
    "print(output_folder)\n",
    "if output_folder.exists():\n",
    "    shutil.rmtree(output_folder)\n",
    "\n",
    "sorting = si.run_sorter(sorter_name, recording, verbose=True, \n",
    "                          output_folder=output_folder,\n",
    "                          apply_preprocessing=False,\n",
    "                          detection= {\"peak_sign\": \"neg\",  \"detect_threshold\": 10.0, \"radius_um\": 150.},\n",
    "                          # clustering={\"method\" : \"hdbscan\", \"num_spikes_to_fit\" : 50000},\n",
    "                          clustering={\"method\" : \"kmeans\", \"n_init\" : \"auto\", \"n_clusters\": 16},\n",
    "                          # clustering={\"method\" : \"mean_shift\"},\n",
    "                          )\n",
    "sorting"
   ]
  },
  {
   "cell_type": "markdown",
   "id": "2ff8689b-0c8d-42ed-adf9-5291d1d4737a",
   "metadata": {},
   "source": [
    "### We can explore the features that have been found, with the assigned labels"
   ]
  },
  {
   "cell_type": "code",
   "execution_count": 29,
   "id": "a8bfce52-3726-47cf-bdf9-e8307ccc3e6c",
   "metadata": {},
   "outputs": [
    {
     "name": "stdout",
     "output_type": "stream",
     "text": [
      "(467833, 3, 8) (467833, 24) (467833,)\n"
     ]
    }
   ],
   "source": [
    "features = np.load(output_folder / \"sorter_output\" / \"features\" / \"features_tsvd.npy\")\n",
    "features_flat = features.reshape(len(features), -1)\n",
    "labels = np.load(output_folder / \"sorter_output\" / \"features\" / \"peak_labels.npy\")\n",
    "print(features.shape, features_flat.shape, labels.shape)"
   ]
  },
  {
   "cell_type": "markdown",
   "id": "9b0d0ea4-51e4-42b1-90fa-5170ee2f3685",
   "metadata": {},
   "source": [
    "### We can do a 2D projections from a High Dimensional space with UMAP"
   ]
  },
  {
   "cell_type": "code",
   "execution_count": 30,
   "id": "9700609f-849c-4864-9f02-d713c231bd77",
   "metadata": {},
   "outputs": [],
   "source": [
    "import umap\n",
    "mapper = umap.UMAP().fit(features_flat[::100])"
   ]
  },
  {
   "cell_type": "code",
   "execution_count": 31,
   "id": "8d3b1a3c-bb5d-4fc2-bbb2-6aeb46be18c7",
   "metadata": {},
   "outputs": [
    {
     "name": "stderr",
     "output_type": "stream",
     "text": [
      "/home/pierre/anaconda3/envs/si/lib/python3.9/site-packages/umap/plot.py:203: NumbaDeprecationWarning: \u001b[1mThe keyword argument 'nopython=False' was supplied. From Numba 0.59.0 the default is being changed to True and use of 'nopython=False' will raise a warning as the argument will have no effect. See https://numba.readthedocs.io/en/stable/reference/deprecation.html#deprecation-of-object-mode-fall-back-behaviour-when-using-jit for details.\u001b[0m\n",
      "  @numba.jit(nopython=False)\n"
     ]
    },
    {
     "data": {
      "text/plain": [
       "<Axes: >"
      ]
     },
     "execution_count": 31,
     "metadata": {},
     "output_type": "execute_result"
    },
    {
     "data": {
      "application/vnd.jupyter.widget-view+json": {
       "model_id": "3f64c380bcb44a4eb38fa458f279b4a7",
       "version_major": 2,
       "version_minor": 0
      },
      "image/png": "[encoded data removed]",
      "text/html": [
       "\n",
       "            <div style=\"display: inline-block;\">\n",
       "                <div class=\"jupyter-widgets widget-label\" style=\"text-align: center;\">\n",
       "                    Figure\n",
       "                </div>\n",
       "                <img src='data:image/png;base64,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' width=800.0/>\n",
       "            </div>\n",
       "        "
      ],
      "text/plain": [
       "Canvas(toolbar=Toolbar(toolitems=[('Home', 'Reset original view', 'home', 'home'), ('Back', 'Back to previous …"
      ]
     },
     "metadata": {},
     "output_type": "display_data"
    }
   ],
   "source": [
    "import umap.plot\n",
    "umap.plot.points(mapper, labels=labels[::100])"
   ]
  },
  {
   "cell_type": "markdown",
   "id": "174a5cfe-c4a3-4c0d-bfdd-b197b9280e49",
   "metadata": {},
   "source": [
    "## Run SortingAnalzer"
   ]
  },
  {
   "cell_type": "code",
   "execution_count": 32,
   "id": "658ee589-c14b-49ce-a5ad-08767d71264a",
   "metadata": {},
   "outputs": [
    {
     "data": {
      "application/vnd.jupyter.widget-view+json": {
       "model_id": "d03d9a057c3340c38e2a7b513651440a",
       "version_major": 2,
       "version_minor": 0
      },
      "text/plain": [
       "estimate_sparsity:   0%|          | 0/7201 [00:00<?, ?it/s]"
      ]
     },
     "metadata": {},
     "output_type": "display_data"
    },
    {
     "data": {
      "application/vnd.jupyter.widget-view+json": {
       "model_id": "acd28aeb62364e0cabbfaf0282a8f1fe",
       "version_major": 2,
       "version_minor": 0
      },
      "text/plain": [
       "compute_waveforms:   0%|          | 0/7201 [00:00<?, ?it/s]"
      ]
     },
     "metadata": {},
     "output_type": "display_data"
    },
    {
     "data": {
      "application/vnd.jupyter.widget-view+json": {
       "model_id": "ca5f367290dc4f0d898b602fff7e1a3a",
       "version_major": 2,
       "version_minor": 0
      },
      "text/plain": [
       "spike_amplitudes:   0%|          | 0/7201 [00:00<?, ?it/s]"
      ]
     },
     "metadata": {},
     "output_type": "display_data"
    },
    {
     "data": {
      "application/vnd.jupyter.widget-view+json": {
       "model_id": "ab6e1a528c024d80b192d830d6b20b9e",
       "version_major": 2,
       "version_minor": 0
      },
      "text/plain": [
       "Fitting PCA:   0%|          | 0/16 [00:00<?, ?it/s]"
      ]
     },
     "metadata": {},
     "output_type": "display_data"
    },
    {
     "data": {
      "application/vnd.jupyter.widget-view+json": {
       "model_id": "f67f9a21aef24b9fbabff77e6f8d4e12",
       "version_major": 2,
       "version_minor": 0
      },
      "text/plain": [
       "Projecting waveforms:   0%|          | 0/16 [00:00<?, ?it/s]"
      ]
     },
     "metadata": {},
     "output_type": "display_data"
    },
    {
     "name": "stdout",
     "output_type": "stream",
     "text": [
      "SortingAnalyzer: 8 channels - 16 units - 1 segments - memory - sparse - has recording\n",
      "Loaded 10 extenstions: random_spikes, waveforms, templates, noise_levels, spike_amplitudes, template_similarity, unit_locations, correlograms, principal_components, quality_metrics\n"
     ]
    }
   ],
   "source": [
    "analyzer = si.create_sorting_analyzer(sorting, recording_preprocess, format=\"memory\")\n",
    "analyzer.compute([\"random_spikes\", \"waveforms\", \"templates\", \"noise_levels\",\n",
    "                  \"spike_amplitudes\", \"template_similarity\"])\n",
    "analyzer.compute(\"unit_locations\", method=\"monopolar_triangulation\")\n",
    "analyzer.compute(\"correlograms\", window_ms=50., bin_ms=1.)\n",
    "analyzer.compute(\"principal_components\", n_components=3, mode='by_channel_global', whiten=True)\n",
    "analyzer.compute(\"quality_metrics\", metric_names=[\"snr\", \"firing_rate\", \"rp_violation\"])\n",
    "print(analyzer)\n"
   ]
  },
  {
   "cell_type": "code",
   "execution_count": 33,
   "id": "34062880-837f-48fe-acfb-5e4deb33dcbd",
   "metadata": {},
   "outputs": [
    {
     "name": "stdout",
     "output_type": "stream",
     "text": [
      "SortingAnalyzer: 8 channels - 16 units - 1 segments - binary_folder - sparse - has recording\n",
      "Loaded 10 extenstions: random_spikes, waveforms, templates, noise_levels, spike_amplitudes, template_similarity, unit_locations, correlograms, principal_components, quality_metrics\n"
     ]
    }
   ],
   "source": [
    "anlyzer_folder = base_folder / \"sortings\" / f\"Analyzer {probe_type} {subject_id} {session_id} {sorter_name}\"\n",
    "if anlyzer_folder.exists():\n",
    "    shutil.rmtree(anlyzer_folder)\n",
    "analyzer = analyzer.save_as(format=\"binary_folder\", folder=anlyzer_folder)\n",
    "print(analyzer)"
   ]
  },
  {
   "cell_type": "code",
   "execution_count": 60,
   "id": "91b86701-2343-4c22-ac53-de738ced443f",
   "metadata": {},
   "outputs": [
    {
     "data": {
      "text/plain": [
       "<spikeinterface.widgets.sorting_summary.SortingSummaryWidget at 0x7f2565a59e50>"
      ]
     },
     "execution_count": 60,
     "metadata": {},
     "output_type": "execute_result"
    }
   ],
   "source": [
    "%gui qt\n",
    "si.plot_sorting_summary(analyzer, backend='spikeinterface_gui')"
   ]
  },
  {
   "cell_type": "markdown",
   "id": "702fb6b7-1727-4e23-9c92-96e355caa0a5",
   "metadata": {},
   "source": [
    "### Let's launch more advanced sorters using template mathcing : spykingcircus2"
   ]
  },
  {
   "cell_type": "code",
   "execution_count": 25,
   "id": "4feb642a-6b7a-4d5a-b9ac-627f52fa15e9",
   "metadata": {},
   "outputs": [
    {
     "name": "stdout",
     "output_type": "stream",
     "text": [
      "/home/pierre/WIRED_SI_tutos/sortings/AdTech sub-001 sess-001 spykingcircus2\n",
      "detect peaks using locally_exclusive with n_jobs = 16 and chunk_size = 32768\n"
     ]
    },
    {
     "data": {
      "application/vnd.jupyter.widget-view+json": {
       "model_id": "e2c6a0a62f7a4a069a6064adacc4ae03",
       "version_major": 2,
       "version_minor": 0
      },
      "text/plain": [
       "detect peaks using locally_exclusive:   0%|          | 0/1800 [00:00<?, ?it/s]"
      ]
     },
     "metadata": {},
     "output_type": "display_data"
    },
    {
     "name": "stdout",
     "output_type": "stream",
     "text": [
      "We found 198216 peaks in total\n",
      "We kept 100000 peaks for clustering\n",
      "extracting features with n_jobs = 16 and chunk_size = 32768\n"
     ]
    },
    {
     "data": {
      "application/vnd.jupyter.widget-view+json": {
       "model_id": "eb65aecb88d3427783a18b8bb9b27d37",
       "version_major": 2,
       "version_minor": 0
      },
      "text/plain": [
       "extracting features:   0%|          | 0/1800 [00:00<?, ?it/s]"
      ]
     },
     "metadata": {},
     "output_type": "display_data"
    },
    {
     "name": "stdout",
     "output_type": "stream",
     "text": [
      "estimate_templates with n_jobs = 16 and chunk_size = 32768\n"
     ]
    },
    {
     "data": {
      "application/vnd.jupyter.widget-view+json": {
       "model_id": "63606b23e58341dda00d33771a52dbc1",
       "version_major": 2,
       "version_minor": 0
      },
      "text/plain": [
       "estimate_templates:   0%|          | 0/1800 [00:00<?, ?it/s]"
      ]
     },
     "metadata": {},
     "output_type": "display_data"
    },
    {
     "name": "stderr",
     "output_type": "stream",
     "text": [
      "/home/pierre/github/spikeinterface/src/spikeinterface/core/baserecordingsnippets.py:244: UserWarning: There is no Probe attached to this recording. Creating a dummy one with contact positions\n",
      "  warn(\"There is no Probe attached to this recording. Creating a dummy one with contact positions\")\n"
     ]
    },
    {
     "name": "stdout",
     "output_type": "stream",
     "text": [
      "We found 19 raw clusters, starting to clean with matching...\n",
      "We kept 19 non-duplicated clusters...\n",
      "estimate_templates with n_jobs = 16 and chunk_size = 32768\n"
     ]
    },
    {
     "data": {
      "application/vnd.jupyter.widget-view+json": {
       "model_id": "145c053e33bb4c3890d6117e522cba8d",
       "version_major": 2,
       "version_minor": 0
      },
      "text/plain": [
       "estimate_templates:   0%|          | 0/1800 [00:00<?, ?it/s]"
      ]
     },
     "metadata": {},
     "output_type": "display_data"
    },
    {
     "name": "stdout",
     "output_type": "stream",
     "text": [
      "find spikes (circus-omp-svd) with n_jobs = 16 and chunk_size = 3276\n"
     ]
    },
    {
     "data": {
      "application/vnd.jupyter.widget-view+json": {
       "model_id": "a18005fc5c144edb8c3890629c79caf2",
       "version_major": 2,
       "version_minor": 0
      },
      "text/plain": [
       "find spikes (circus-omp-svd):   0%|          | 0/18005 [00:00<?, ?it/s]"
      ]
     },
     "metadata": {},
     "output_type": "display_data"
    },
    {
     "name": "stdout",
     "output_type": "stream",
     "text": [
      "We found 187023 spikes\n",
      "spykingcircus2 run time 69.30s\n"
     ]
    },
    {
     "data": {
      "text/plain": [
       "NumpyFolderSorting: 19 units - 1 segments - 32.8kHz"
      ]
     },
     "execution_count": 25,
     "metadata": {},
     "output_type": "execute_result"
    }
   ],
   "source": [
    "sorter_name = 'spykingcircus2'\n",
    "output_folder = base_folder / \"sortings\" / f\"{probe_type} {subject_id} {session_id} {sorter_name}\"\n",
    "print(output_folder)\n",
    "\n",
    "if output_folder.exists():\n",
    "    shutil.rmtree(output_folder)\n",
    "\n",
    "sorting = si.run_sorter(sorter_name, recording, verbose=True, \n",
    "                          output_folder=output_folder,\n",
    "                          apply_preprocessing=False, \n",
    "                          detection= {\"peak_sign\": \"neg\",  \"detect_threshold\": 5.0},\n",
    "                          )\n",
    "sorting"
   ]
  },
  {
   "cell_type": "code",
   "execution_count": 32,
   "id": "1c439e17-0248-44a6-9b3a-9a318820bf37",
   "metadata": {},
   "outputs": [
    {
     "data": {
      "application/vnd.jupyter.widget-view+json": {
       "model_id": "4de592cc5ad247199f0bdf2809797553",
       "version_major": 2,
       "version_minor": 0
      },
      "text/plain": [
       "estimate_sparsity:   0%|          | 0/1800 [00:00<?, ?it/s]"
      ]
     },
     "metadata": {},
     "output_type": "display_data"
    },
    {
     "data": {
      "application/vnd.jupyter.widget-view+json": {
       "model_id": "51e6b875a1bc4c3f8dff535d8446ea07",
       "version_major": 2,
       "version_minor": 0
      },
      "text/plain": [
       "compute_waveforms:   0%|          | 0/1800 [00:00<?, ?it/s]"
      ]
     },
     "metadata": {},
     "output_type": "display_data"
    },
    {
     "data": {
      "application/vnd.jupyter.widget-view+json": {
       "model_id": "a2f8fa2447ad42f4b17dc7825c90e342",
       "version_major": 2,
       "version_minor": 0
      },
      "text/plain": [
       "spike_amplitudes:   0%|          | 0/1800 [00:00<?, ?it/s]"
      ]
     },
     "metadata": {},
     "output_type": "display_data"
    },
    {
     "data": {
      "application/vnd.jupyter.widget-view+json": {
       "model_id": "d2d8eee1748e43c998f21c1d6cabbc87",
       "version_major": 2,
       "version_minor": 0
      },
      "text/plain": [
       "Fitting PCA:   0%|          | 0/19 [00:00<?, ?it/s]"
      ]
     },
     "metadata": {},
     "output_type": "display_data"
    },
    {
     "data": {
      "application/vnd.jupyter.widget-view+json": {
       "model_id": "003ac0f46f9245d0aec44ce48055991c",
       "version_major": 2,
       "version_minor": 0
      },
      "text/plain": [
       "Projecting waveforms:   0%|          | 0/19 [00:00<?, ?it/s]"
      ]
     },
     "metadata": {},
     "output_type": "display_data"
    },
    {
     "name": "stdout",
     "output_type": "stream",
     "text": [
      "SortingAnalyzer: 8 channels - 19 units - 1 segments - memory - sparse - has recording\n",
      "Loaded 11 extenstions: random_spikes, waveforms, templates, noise_levels, isi_histograms, spike_amplitudes, template_similarity, unit_locations, correlograms, principal_components, quality_metrics\n"
     ]
    }
   ],
   "source": [
    "analyzer = si.create_sorting_analyzer(sorting, recording, format=\"memory\")\n",
    "analyzer.compute([\"random_spikes\", \"waveforms\", \"templates\", \"noise_levels\",\n",
    "                  \"isi_histograms\", \"spike_amplitudes\", \"template_similarity\"])\n",
    "analyzer.compute(\"unit_locations\", method=\"grid_convolution\")\n",
    "analyzer.compute(\"correlograms\", window_ms=50., bin_ms=1.)\n",
    "analyzer.compute(\"principal_components\", n_components=3, mode='by_channel_global', whiten=True)\n",
    "analyzer.compute(\"quality_metrics\", metric_names=[\"snr\", \"firing_rate\", \"rp_violation\"])\n",
    "print(analyzer)"
   ]
  },
  {
   "cell_type": "code",
   "execution_count": 33,
   "id": "c00800dd-1dc5-4b31-bd84-9abc019c3969",
   "metadata": {},
   "outputs": [
    {
     "name": "stdout",
     "output_type": "stream",
     "text": [
      "SortingAnalyzer: 8 channels - 19 units - 1 segments - binary_folder - sparse - has recording\n",
      "Loaded 11 extenstions: random_spikes, waveforms, templates, noise_levels, isi_histograms, spike_amplitudes, template_similarity, unit_locations, correlograms, principal_components, quality_metrics\n"
     ]
    }
   ],
   "source": [
    "anlyzer_folder = base_folder / \"sortings\" / f\"Analyzer {probe_type} {subject_id} {session_id} {sorter_name}\"\n",
    "if anlyzer_folder.exists():\n",
    "    shutil.rmtree(anlyzer_folder)\n",
    "analyzer = analyzer.save_as(format=\"binary_folder\", folder=anlyzer_folder)\n",
    "print(analyzer)"
   ]
  },
  {
   "cell_type": "code",
   "execution_count": 28,
   "id": "6fc7332c-d0ea-4f49-8972-cbfa9c881708",
   "metadata": {},
   "outputs": [],
   "source": [
    "#%gui qt\n",
    "#si.plot_sorting_summary(analyzer, backend='spikeinterface_gui')"
   ]
  },
  {
   "cell_type": "markdown",
   "id": "a9a863a2-64d3-466d-8be1-9ce6700ad848",
   "metadata": {},
   "source": [
    "### Let's see if there are obvious merges in the results"
   ]
  },
  {
   "cell_type": "code",
   "execution_count": 34,
   "id": "52bf7c85-23a4-4088-abe1-25d75290b793",
   "metadata": {},
   "outputs": [
    {
     "data": {
      "text/plain": [
       "[]"
      ]
     },
     "execution_count": 34,
     "metadata": {},
     "output_type": "execute_result"
    }
   ],
   "source": [
    "si.get_potential_auto_merge(analyzer)"
   ]
  },
  {
   "cell_type": "markdown",
   "id": "1fd4fc7e-549d-4a56-893f-5e42fe5a7933",
   "metadata": {},
   "source": [
    "### Now, let's see how many units can pass the quality threehold"
   ]
  },
  {
   "cell_type": "code",
   "execution_count": 39,
   "id": "1e4c5f93-3aac-4d49-ba8c-f4f8a3a03e34",
   "metadata": {},
   "outputs": [
    {
     "name": "stdout",
     "output_type": "stream",
     "text": [
      "    firing_rate  rp_contamination  rp_violations        snr\n",
      "15     1.182778          0.221750            1.0  12.106665\n",
      "17     6.975000          0.230717           36.0   5.323458\n"
     ]
    }
   ],
   "source": [
    "metrics = analyzer.get_extension('quality_metrics').get_data()\n",
    "quality_criteria = 'snr > 3 & rp_contamination < 0.4'\n",
    "good_unit_indices = metrics.query(quality_criteria)\n",
    "print(good_unit_indices)"
   ]
  },
  {
   "cell_type": "code",
   "execution_count": 31,
   "id": "4ef22ca5-7c28-4fcb-8054-039354257c77",
   "metadata": {},
   "outputs": [
    {
     "name": "stdout",
     "output_type": "stream",
     "text": [
      "https://figurl.org/f?v=npm://@fi-sci/figurl-sortingview@12/dist&d=sha1://77c3dd0c69d520f16ed6ce873746f61c35a9c14f\n"
     ]
    },
    {
     "data": {
      "text/plain": [
       "<spikeinterface.widgets.sorting_summary.SortingSummaryWidget at 0x7371636314f0>"
      ]
     },
     "execution_count": 31,
     "metadata": {},
     "output_type": "execute_result"
    }
   ],
   "source": [
    "si.plot_sorting_summary(analyzer, backend='sortingview')"
   ]
  }
 ],
 "metadata": {
  "kernelspec": {
   "display_name": "Python 3 (ipykernel)",
   "language": "python",
   "name": "python3"
  },
  "language_info": {
   "codemirror_mode": {
    "name": "ipython",
    "version": 3
   },
   "file_extension": ".py",
   "mimetype": "text/x-python",
   "name": "python",
   "nbconvert_exporter": "python",
   "pygments_lexer": "ipython3",
   "version": "3.9.16"
  }
 },
 "nbformat": 4,
 "nbformat_minor": 5
}
