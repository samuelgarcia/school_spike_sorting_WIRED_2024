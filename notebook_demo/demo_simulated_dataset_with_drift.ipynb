{
 "cells": [
  {
   "cell_type": "markdown",
   "metadata": {},
   "source": [
    "# Sorter on generated dataset with drift\n",
    "\n",
    "Here we will simulate 5min of a very simple dataset one tetrode with 5 units with this time we are introducing a drift!\n",
    "\n"
   ]
  },
  {
   "cell_type": "code",
   "execution_count": 1,
   "metadata": {},
   "outputs": [],
   "source": [
    "# this is for debuging\n",
    "%matplotlib inline\n",
    "%load_ext autoreload\n",
    "%autoreload 2"
   ]
  },
  {
   "cell_type": "code",
   "execution_count": 2,
   "metadata": {},
   "outputs": [],
   "source": [
    "# some imports\n",
    "from pathlib import Path\n",
    "import shutil\n",
    "\n",
    "import numpy as np\n",
    "\n",
    "import matplotlib.pyplot as plt\n",
    "\n",
    "import spikeinterface.full as si"
   ]
  },
  {
   "cell_type": "code",
   "execution_count": 3,
   "metadata": {},
   "outputs": [],
   "source": [
    "# the path where we want to run the spike sorting\n",
    "base_folder = Path(\"/home/samuel/DataSpikeSorting/WIRED_SI_tutos/generated_recording/\")\n"
   ]
  },
  {
   "cell_type": "code",
   "execution_count": 4,
   "metadata": {},
   "outputs": [],
   "source": [
    "job_kwargs = dict(n_jobs=-1, progress_bar=True, chunk_duration=\"1s\")"
   ]
  },
  {
   "cell_type": "code",
   "execution_count": null,
   "metadata": {},
   "outputs": [],
   "source": []
  },
  {
   "cell_type": "markdown",
   "metadata": {},
   "source": [
    "## Generate data\n",
    "\n",
    "spikeinterface have a from simple to sophisticated way of generating fake dataset with the grountruth\n",
    "\n",
    "Here we simulated a simple recording of 5 min with 5 units on a tetrode."
   ]
  },
  {
   "cell_type": "code",
   "execution_count": 5,
   "metadata": {},
   "outputs": [],
   "source": [
    "from generate_drift import generate_drift_on_tetrode\n",
    "\n",
    "recording, gt_sorting = generate_drift_on_tetrode(drift_amplitude=20., duration=300., noise_level=5., seed=1234)"
   ]
  },
  {
   "cell_type": "markdown",
   "metadata": {},
   "source": [
    "## SortingAnalyzer on the groundtruth"
   ]
  },
  {
   "cell_type": "code",
   "execution_count": 6,
   "metadata": {},
   "outputs": [
    {
     "data": {
      "application/vnd.jupyter.widget-view+json": {
       "model_id": "34332af5ab2242118ad4db90e58c8a3f",
       "version_major": 2,
       "version_minor": 0
      },
      "text/plain": [
       "compute_waveforms:   0%|          | 0/300 [00:00<?, ?it/s]"
      ]
     },
     "metadata": {},
     "output_type": "display_data"
    },
    {
     "data": {
      "application/vnd.jupyter.widget-view+json": {
       "model_id": "51cfb63ce1dd4bf4a3db68239a8c4535",
       "version_major": 2,
       "version_minor": 0
      },
      "text/plain": [
       "spike_amplitudes:   0%|          | 0/300 [00:00<?, ?it/s]"
      ]
     },
     "metadata": {},
     "output_type": "display_data"
    },
    {
     "data": {
      "application/vnd.jupyter.widget-view+json": {
       "model_id": "ed38e656f21f4d18bd72780f8d92dd08",
       "version_major": 2,
       "version_minor": 0
      },
      "text/plain": [
       "Fitting PCA:   0%|          | 0/5 [00:00<?, ?it/s]"
      ]
     },
     "metadata": {},
     "output_type": "display_data"
    },
    {
     "data": {
      "application/vnd.jupyter.widget-view+json": {
       "model_id": "8e3605a3f67a46289c7c7e37e1149770",
       "version_major": 2,
       "version_minor": 0
      },
      "text/plain": [
       "Projecting waveforms:   0%|          | 0/5 [00:00<?, ?it/s]"
      ]
     },
     "metadata": {},
     "output_type": "display_data"
    },
    {
     "data": {
      "text/plain": [
       "SortingAnalyzer: 4 channels - 5 units - 1 segments - memory - has recording\n",
       "Loaded 10 extenstions: random_spikes, waveforms, templates, noise_levels, spike_amplitudes, unit_locations, principal_components, correlograms, template_similarity, quality_metrics"
      ]
     },
     "execution_count": 6,
     "metadata": {},
     "output_type": "execute_result"
    }
   ],
   "source": [
    "gt_analyzer = si.create_sorting_analyzer(gt_sorting, recording, sparse=False)\n",
    "gt_analyzer.compute([\"random_spikes\", \"waveforms\", \"templates\", \"noise_levels\"], **job_kwargs)\n",
    "gt_analyzer.compute([\"spike_amplitudes\", \"unit_locations\", \"principal_components\", \"correlograms\", \"template_similarity\"], **job_kwargs)\n",
    "gt_analyzer.compute(\"quality_metrics\", metric_names=[\"snr\", \"amplitude_cutoff\", \"rp_violation\"])\n",
    "gt_analyzer"
   ]
  },
  {
   "cell_type": "code",
   "execution_count": 7,
   "metadata": {},
   "outputs": [
    {
     "data": {
      "text/plain": [
       "<spikeinterface.widgets.sorting_summary.SortingSummaryWidget at 0x7bb1fc454110>"
      ]
     },
     "execution_count": 7,
     "metadata": {},
     "output_type": "execute_result"
    }
   ],
   "source": [
    "si.plot_sorting_summary(gt_analyzer, backend=\"spikeinterface_gui\")"
   ]
  },
  {
   "cell_type": "markdown",
   "metadata": {},
   "source": []
  },
  {
   "cell_type": "markdown",
   "metadata": {},
   "source": [
    "### Run a sorter"
   ]
  },
  {
   "cell_type": "code",
   "execution_count": 8,
   "metadata": {},
   "outputs": [
    {
     "name": "stdout",
     "output_type": "stream",
     "text": [
      "detect peaks using locally_exclusive with n_jobs = 12 and chunk_size = 30000\n"
     ]
    },
    {
     "data": {
      "application/vnd.jupyter.widget-view+json": {
       "model_id": "ba8531038f9343f2b8eb922260282746",
       "version_major": 2,
       "version_minor": 0
      },
      "text/plain": [
       "detect peaks using locally_exclusive:   0%|          | 0/300 [00:00<?, ?it/s]"
      ]
     },
     "metadata": {},
     "output_type": "display_data"
    },
    {
     "name": "stdout",
     "output_type": "stream",
     "text": [
      "We found 6976 peaks in total\n",
      "extract waveforms shared_memory mono buffer with n_jobs = 12 and chunk_size = 30000\n"
     ]
    },
    {
     "data": {
      "application/vnd.jupyter.widget-view+json": {
       "model_id": "f75d65028c684f21805713cd3c8df747",
       "version_major": 2,
       "version_minor": 0
      },
      "text/plain": [
       "extract waveforms shared_memory mono buffer:   0%|          | 0/300 [00:00<?, ?it/s]"
      ]
     },
     "metadata": {},
     "output_type": "display_data"
    },
    {
     "name": "stdout",
     "output_type": "stream",
     "text": [
      "extracting features with n_jobs = 12 and chunk_size = 30000\n"
     ]
    },
    {
     "data": {
      "application/vnd.jupyter.widget-view+json": {
       "model_id": "bdcaa211dfe94037badeb9422c9ed76a",
       "version_major": 2,
       "version_minor": 0
      },
      "text/plain": [
       "extracting features:   0%|          | 0/300 [00:00<?, ?it/s]"
      ]
     },
     "metadata": {},
     "output_type": "display_data"
    },
    {
     "name": "stdout",
     "output_type": "stream",
     "text": [
      "simple run time 7.99s\n",
      "NumpyFolderSorting: 2 units - 1 segments - 30.0kHz\n"
     ]
    }
   ],
   "source": [
    "sorter_folder = base_folder / \"drift_simple_sorter\"\n",
    "if sorter_folder.exists():\n",
    "    shutil.rmtree(sorter_folder)\n",
    "\n",
    "sorter_params = dict(\n",
    "    apply_preprocessing=True,\n",
    "    # apply_preprocessing=False,\n",
    "    waveforms=dict(ms_before=1.0, ms_after=1.8),\n",
    "    filtering=dict(freq_min=300, freq_max=8000.0),\n",
    "    detection=dict(peak_sign=\"neg\", detect_threshold=5., exclude_sweep_ms=0.4, radius_um=100),\n",
    "    features=dict(n_components=3),\n",
    "    clustering=dict(method=\"hdbscan\"),\n",
    "    # clustering=dict(method=\"kmeans\", n_clusters=3),\n",
    "    # clustering=dict(method=\"gaussian_mixture\", n_components=5),\n",
    "    # clustering=dict(method=\"mean_shift\", bin_seeding=True),\n",
    "    # clustering=dict(method=\"affinity_propagation\"),\n",
    "    job_kwargs=dict(n_jobs=-1),\n",
    ")\n",
    "sorting = si.run_sorter(\"simple\", recording, output_folder=sorter_folder, verbose=True, **sorter_params)\n",
    "print(sorting)\n"
   ]
  },
  {
   "cell_type": "markdown",
   "metadata": {},
   "source": [
    "## SortingAnalyzer\n",
    "\n",
    "We run a SortingAnalyzer on this so we use the spikeinterface-gui to explore the result.\n",
    "\n",
    "We can observe that 2 units should be merged.\n"
   ]
  },
  {
   "cell_type": "code",
   "execution_count": 10,
   "metadata": {},
   "outputs": [
    {
     "data": {
      "application/vnd.jupyter.widget-view+json": {
       "model_id": "635b52afce464b758b48f0f34dc7abd8",
       "version_major": 2,
       "version_minor": 0
      },
      "text/plain": [
       "compute_waveforms:   0%|          | 0/300 [00:00<?, ?it/s]"
      ]
     },
     "metadata": {},
     "output_type": "display_data"
    },
    {
     "data": {
      "application/vnd.jupyter.widget-view+json": {
       "model_id": "b79af868d8cf4376bbb572ba514013ae",
       "version_major": 2,
       "version_minor": 0
      },
      "text/plain": [
       "spike_amplitudes:   0%|          | 0/300 [00:00<?, ?it/s]"
      ]
     },
     "metadata": {},
     "output_type": "display_data"
    },
    {
     "data": {
      "application/vnd.jupyter.widget-view+json": {
       "model_id": "a152f841d8654bc88557ffbc88fd6836",
       "version_major": 2,
       "version_minor": 0
      },
      "text/plain": [
       "Fitting PCA:   0%|          | 0/2 [00:00<?, ?it/s]"
      ]
     },
     "metadata": {},
     "output_type": "display_data"
    },
    {
     "data": {
      "application/vnd.jupyter.widget-view+json": {
       "model_id": "5806f5bfe98746e7ab85e7b4a400ad6b",
       "version_major": 2,
       "version_minor": 0
      },
      "text/plain": [
       "Projecting waveforms:   0%|          | 0/2 [00:00<?, ?it/s]"
      ]
     },
     "metadata": {},
     "output_type": "display_data"
    },
    {
     "name": "stderr",
     "output_type": "stream",
     "text": [
      "/home/samuel/Documents/SpikeInterface/spikeinterface/src/spikeinterface/qualitymetrics/misc_metrics.py:846: UserWarning: Some units have too few spikes : amplitude_cutoff is set to NaN\n",
      "  warnings.warn(f\"Some units have too few spikes : amplitude_cutoff is set to NaN\")\n"
     ]
    },
    {
     "data": {
      "text/plain": [
       "SortingAnalyzer: 4 channels - 2 units - 1 segments - memory - has recording\n",
       "Loaded 10 extenstions: random_spikes, waveforms, templates, noise_levels, spike_amplitudes, unit_locations, principal_components, correlograms, template_similarity, quality_metrics"
      ]
     },
     "execution_count": 10,
     "metadata": {},
     "output_type": "execute_result"
    }
   ],
   "source": [
    "analyzer = si.create_sorting_analyzer(sorting, recording, sparse=False)\n",
    "analyzer.compute([\"random_spikes\", \"waveforms\", \"templates\", \"noise_levels\"], **job_kwargs)\n",
    "analyzer.compute([\"spike_amplitudes\", \"unit_locations\", \"principal_components\", \"correlograms\", \"template_similarity\"], **job_kwargs)\n",
    "analyzer.compute(\"quality_metrics\", metric_names=[\"snr\", \"amplitude_cutoff\", \"rp_violation\"])\n",
    "analyzer"
   ]
  },
  {
   "cell_type": "code",
   "execution_count": 11,
   "metadata": {},
   "outputs": [
    {
     "data": {
      "text/plain": [
       "<spikeinterface.widgets.sorting_summary.SortingSummaryWidget at 0x7bb1daf9fdd0>"
      ]
     },
     "execution_count": 11,
     "metadata": {},
     "output_type": "execute_result"
    }
   ],
   "source": [
    "%gui qt\n",
    "si.plot_sorting_summary(analyzer, backend=\"spikeinterface_gui\")\n"
   ]
  },
  {
   "cell_type": "markdown",
   "metadata": {},
   "source": [
    "## Compare result to groundtruth\n",
    "\n",
    "spikeinterface have a simple way check the result of a sorter and benchmark it to groundtruth sorting."
   ]
  },
  {
   "cell_type": "code",
   "execution_count": 12,
   "metadata": {},
   "outputs": [
    {
     "data": {
      "text/plain": [
       "<spikeinterface.widgets.comparison.AgreementMatrixWidget at 0x7bb1dace81d0>"
      ]
     },
     "execution_count": 12,
     "metadata": {},
     "output_type": "execute_result"
    },
    {
     "data": {
      "image/png": "[encoded data removed]",
      "text/plain": [
       "<Figure size 640x480 with 1 Axes>"
      ]
     },
     "metadata": {},
     "output_type": "display_data"
    }
   ],
   "source": [
    "comp = si.compare_sorter_to_ground_truth(gt_sorting, sorting)\n",
    "si.plot_agreement_matrix(comp)"
   ]
  },
  {
   "cell_type": "markdown",
   "metadata": {},
   "source": [
    "## lets run another sorter"
   ]
  },
  {
   "cell_type": "code",
   "execution_count": 13,
   "metadata": {},
   "outputs": [
    {
     "data": {
      "application/vnd.jupyter.widget-view+json": {
       "model_id": "08916d561cfd489eb622ab2400b4467c",
       "version_major": 2,
       "version_minor": 0
      },
      "text/plain": [
       "write_memory_recording:   0%|          | 0/300 [00:00<?, ?it/s]"
      ]
     },
     "metadata": {},
     "output_type": "display_data"
    },
    {
     "data": {
      "application/vnd.jupyter.widget-view+json": {
       "model_id": "d4c872bec3234d0f9f2c29f46ea49fde",
       "version_major": 2,
       "version_minor": 0
      },
      "text/plain": [
       "detect peaks using locally_exclusive:   0%|          | 0/300 [00:00<?, ?it/s]"
      ]
     },
     "metadata": {},
     "output_type": "display_data"
    },
    {
     "name": "stdout",
     "output_type": "stream",
     "text": [
      "We found 12402 peaks in total\n",
      "We kept 12402 peaks for clustering\n"
     ]
    },
    {
     "data": {
      "application/vnd.jupyter.widget-view+json": {
       "model_id": "ecc82ee609394e019c7dcb071bb1d33e",
       "version_major": 2,
       "version_minor": 0
      },
      "text/plain": [
       "extract waveforms shared_memory mono buffer:   0%|          | 0/300 [00:00<?, ?it/s]"
      ]
     },
     "metadata": {},
     "output_type": "display_data"
    },
    {
     "data": {
      "application/vnd.jupyter.widget-view+json": {
       "model_id": "2e50589438e14b87bd5391b6cbc97800",
       "version_major": 2,
       "version_minor": 0
      },
      "text/plain": [
       "pipeline:   0%|          | 0/300 [00:00<?, ?it/s]"
      ]
     },
     "metadata": {},
     "output_type": "display_data"
    }
   ],
   "source": [
    "sorter_name = \"tridesclous2\"\n",
    "\n",
    "sorter_folder = base_folder / f\"drift_{sorter_name}\"\n",
    "if sorter_folder.exists():\n",
    "    shutil.rmtree(sorter_folder)\n",
    "\n",
    "\n",
    "sorting2 = si.run_sorter(sorter_name, recording, output_folder=sorter_folder, verbose=True)\n"
   ]
  },
  {
   "cell_type": "code",
   "execution_count": 18,
   "metadata": {},
   "outputs": [
    {
     "data": {
      "application/vnd.jupyter.widget-view+json": {
       "model_id": "c820b8eb6981460991889e62f63ac3b8",
       "version_major": 2,
       "version_minor": 0
      },
      "text/plain": [
       "compute_waveforms:   0%|          | 0/300 [00:00<?, ?it/s]"
      ]
     },
     "metadata": {},
     "output_type": "display_data"
    },
    {
     "data": {
      "application/vnd.jupyter.widget-view+json": {
       "model_id": "2fb7ad9472624bceb2c040c5e4450e33",
       "version_major": 2,
       "version_minor": 0
      },
      "text/plain": [
       "spike_amplitudes:   0%|          | 0/300 [00:00<?, ?it/s]"
      ]
     },
     "metadata": {},
     "output_type": "display_data"
    },
    {
     "data": {
      "application/vnd.jupyter.widget-view+json": {
       "model_id": "23ed5cdb642d4fb893759fadce601b97",
       "version_major": 2,
       "version_minor": 0
      },
      "text/plain": [
       "Fitting PCA:   0%|          | 0/19 [00:00<?, ?it/s]"
      ]
     },
     "metadata": {},
     "output_type": "display_data"
    },
    {
     "data": {
      "application/vnd.jupyter.widget-view+json": {
       "model_id": "1d02ad8219474b3dafcae197de346bf7",
       "version_major": 2,
       "version_minor": 0
      },
      "text/plain": [
       "Projecting waveforms:   0%|          | 0/19 [00:00<?, ?it/s]"
      ]
     },
     "metadata": {},
     "output_type": "display_data"
    },
    {
     "name": "stderr",
     "output_type": "stream",
     "text": [
      "/home/samuel/Documents/SpikeInterface/spikeinterface/src/spikeinterface/qualitymetrics/misc_metrics.py:846: UserWarning: Some units have too few spikes : amplitude_cutoff is set to NaN\n",
      "  warnings.warn(f\"Some units have too few spikes : amplitude_cutoff is set to NaN\")\n"
     ]
    },
    {
     "data": {
      "text/plain": [
       "SortingAnalyzer: 4 channels - 19 units - 1 segments - memory - has recording\n",
       "Loaded 10 extenstions: random_spikes, waveforms, templates, noise_levels, spike_amplitudes, unit_locations, principal_components, correlograms, template_similarity, quality_metrics"
      ]
     },
     "execution_count": 18,
     "metadata": {},
     "output_type": "execute_result"
    }
   ],
   "source": [
    "analyzer2 = si.create_sorting_analyzer(sorting2, recording, sparse=False)\n",
    "analyzer2.compute([\"random_spikes\", \"waveforms\", \"templates\", \"noise_levels\"], **job_kwargs)\n",
    "analyzer2.compute([\"spike_amplitudes\", \"unit_locations\", \"principal_components\", \"correlograms\", \"template_similarity\"], **job_kwargs)\n",
    "analyzer2.compute(\"quality_metrics\", metric_names=[\"snr\", \"amplitude_cutoff\", \"rp_violation\"])\n",
    "analyzer2"
   ]
  },
  {
   "cell_type": "code",
   "execution_count": 19,
   "metadata": {},
   "outputs": [
    {
     "data": {
      "text/plain": [
       "<spikeinterface.widgets.sorting_summary.SortingSummaryWidget at 0x794541d913d0>"
      ]
     },
     "execution_count": 19,
     "metadata": {},
     "output_type": "execute_result"
    }
   ],
   "source": [
    "%gui qt\n",
    "si.plot_sorting_summary(analyzer2, backend=\"spikeinterface_gui\")"
   ]
  },
  {
   "cell_type": "code",
   "execution_count": 20,
   "metadata": {},
   "outputs": [
    {
     "data": {
      "text/plain": [
       "<spikeinterface.widgets.comparison.AgreementMatrixWidget at 0x794415e59190>"
      ]
     },
     "execution_count": 20,
     "metadata": {},
     "output_type": "execute_result"
    },
    {
     "data": {
      "image/png": "[encoded data removed]",
      "text/plain": [
       "<Figure size 640x480 with 1 Axes>"
      ]
     },
     "metadata": {},
     "output_type": "display_data"
    }
   ],
   "source": [
    "comp2 = si.compare_sorter_to_ground_truth(gt_sorting, analyzer2.sorting)\n",
    "si.plot_agreement_matrix(comp2)"
   ]
  },
  {
   "cell_type": "code",
   "execution_count": null,
   "metadata": {},
   "outputs": [],
   "source": []
  }
 ],
 "metadata": {
  "kernelspec": {
   "display_name": "Python 3 (ipykernel)",
   "language": "python",
   "name": "python3"
  },
  "language_info": {
   "codemirror_mode": {
    "name": "ipython",
    "version": 3
   },
   "file_extension": ".py",
   "mimetype": "text/x-python",
   "name": "python",
   "nbconvert_exporter": "python",
   "pygments_lexer": "ipython3",
   "version": "3.11.0rc1"
  }
 },
 "nbformat": 4,
 "nbformat_minor": 4
}
